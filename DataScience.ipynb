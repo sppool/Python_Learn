{
 "cells": [
  {
   "cell_type": "code",
   "execution_count": 1,
   "metadata": {},
   "outputs": [],
   "source": [
    "import numpy as np\n",
    "import pandas as pd\n",
    "import matplotlib.pyplot as plt"
   ]
  },
  {
   "cell_type": "markdown",
   "metadata": {},
   "source": [
    "# Numpy\n",
    "\n",
    "### 創造ndarray\n",
    "|method|Description|\n",
    "|---|---|\n",
    "|`np.array`(array)|轉換成ndarray|\n",
    "|`np.linspace`(start, end, num)|start~end 切出num個一維ndarray|\n",
    "|`np.zeros`(shape)|創造一個shape是0的array|\n",
    "|`np.ones`(shape)|創造一個shape是1的array|\n",
    "|`np.full`(shape, num )|創造一個shape是num的array|\n",
    "|`np.random`( )|使用隨機模型創造array|\n",
    "\n",
    "### ndarray datatype\n",
    "| Data type\t    | Description |\n",
    "|---------------|-------------|\n",
    "| ``bool_``     | Boolean (True or False) stored as a byte |\n",
    "| ``int_``      | Default integer type (same as C ``long``; normally either ``int64`` or ``int32``)| \n",
    "| ``intc``      | Identical to C ``int`` (normally ``int32`` or ``int64``)| \n",
    "| ``intp``      | Integer used for indexing (same as C ``ssize_t``; normally either ``int32`` or ``int64``)| \n",
    "| ``int8``      | Byte (-128 to 127)| \n",
    "| ``int16``     | Integer (-32768 to 32767)|\n",
    "| ``int32``     | Integer (-2147483648 to 2147483647)|\n",
    "| ``int64``     | Integer (-9223372036854775808 to 9223372036854775807)| \n",
    "| ``uint8``     | Unsigned integer (0 to 255)| \n",
    "| ``uint16``    | Unsigned integer (0 to 65535)| \n",
    "| ``uint32``    | Unsigned integer (0 to 4294967295)| \n",
    "| ``uint64``    | Unsigned integer (0 to 18446744073709551615)| \n",
    "| ``float_``    | Shorthand for ``float64``.| \n",
    "| ``float16``   | Half precision float: sign bit, 5 bits exponent, 10 bits mantissa| \n",
    "| ``float32``   | Single precision float: sign bit, 8 bits exponent, 23 bits mantissa| \n",
    "| ``float64``   | Double precision float: sign bit, 11 bits exponent, 52 bits mantissa| \n",
    "| ``complex_``  | Shorthand for ``complex128``.| \n",
    "| ``complex64`` | Complex number, represented by two 32-bit floats| \n",
    "| ``complex128``| Complex number, represented by two 64-bit floats| \n",
    "\n",
    "### ndarray 的基本屬性\n",
    "|Attributes|Description|\n",
    "|---|---|\n",
    "|ndim|維度|\n",
    "|shape|個維度大小(形狀)|\n",
    "|size|array大小|\n",
    "|dtype|datatype|\n",
    "|itemsie|單位資料大小(對應datatype)|\n",
    "|nbyte|整個ndarray資料大小|"
   ]
  },
  {
   "cell_type": "code",
   "execution_count": 2,
   "metadata": {},
   "outputs": [
    {
     "data": {
      "text/plain": [
       "dtype('float64')"
      ]
     },
     "execution_count": 2,
     "metadata": {},
     "output_type": "execute_result"
    }
   ],
   "source": [
    "arr = np.ones((3, 4, 5))\n",
    "arr.dtype"
   ]
  },
  {
   "cell_type": "code",
   "execution_count": 3,
   "metadata": {},
   "outputs": [
    {
     "name": "stdout",
     "output_type": "stream",
     "text": [
      "3\n",
      "(3, 4, 5)\n",
      "60\n",
      "float64\n",
      "8\n",
      "480\n"
     ]
    }
   ],
   "source": [
    "print(arr.ndim)\n",
    "print(arr.shape)\n",
    "print(arr.size)\n",
    "print(arr.dtype)\n",
    "print(arr.itemsize)\n",
    "print(arr.nbytes)"
   ]
  },
  {
   "cell_type": "markdown",
   "metadata": {},
   "source": [
    "### ndarray 的操作\n",
    "\n",
    "* `arr.reshape()` 重塑造形狀\n",
    "* `arr.astype()` 變換datatype\n",
    "* `arr[]` 創造視圖\n",
    "* `arr.copy()` 複製\n",
    "* `np.concatenate, vstack, hstack` \n",
    "* `np.split, vsplit, hsplit` 分割\n",
    "\n",
    "### ndarray 數值操作\n",
    "\n",
    "|Function Name    | NaN-safe(NaN=0)    | Description                               |\n",
    "|:----------------|:-------------------|:------------------------------------------|\n",
    "| `np.sum`        | `np.nansum`        | Compute sum of elements                   |\n",
    "| `np.prod`       | `np.nanprod`       | Compute product of elements               |\n",
    "| `np.mean`       | `np.nanmean`       | Compute mean of elements                  |\n",
    "| `np.std`        | `np.nanstd`        | Compute standard deviation                |\n",
    "| `np.var`        | `np.nanvar`        | Compute variance                          |\n",
    "| `np.min`        | `np.nanmin`        | Find minimum value                        |\n",
    "| `np.max`        | `np.nanmax`        | Find maximum value                        |\n",
    "| `np.argmin`     | `np.nanargmin`     | Find index of minimum value               |\n",
    "| `np.argmax`     | `np.nanargmax`     | Find index of maximum value               |\n",
    "| `np.median`     | `np.nanmedian`     | Compute median of elements                |\n",
    "| `np.percentile` | `np.nanpercentile` | Compute rank-based statistics of elements |\n",
    "| `np.any`        | N/A                | Evaluate whether any elements are true    |\n",
    "| `np.all`        | N/A                | Evaluate whether all elements are true    |\n",
    "\n",
    "### [Mathematical functions](https://docs.scipy.org/doc/numpy/reference/routines.math.html)\n",
    "\n",
    "* Trigonometric functions\n",
    "    * `np.sin`\n",
    "    * `np.cos`\n",
    "    * `np.tan`\n",
    "    * `np.deg2rad`\n",
    "    * `np.rad2deg`\n",
    "    \n",
    "* Handling complex numbers\n",
    "    * `np.angle`\n",
    "    * `np.real`\n",
    "    * `np.imag`\n",
    "    \n",
    "* Miscellaneous\n",
    "    * `np.clip` setting limit\n",
    "    * `np.sqrt`\n",
    "    * `np.sign`\n",
    "    * `np.maxmum`\n",
    "    * `np.minmum`\n"
   ]
  },
  {
   "cell_type": "markdown",
   "metadata": {},
   "source": [
    "# [Pandas](https://pandas.pydata.org/pandas-docs/stable/getting_started/10min.html?highlight=concat)\n",
    "### Series\n",
    "* 當成字典操作\n",
    "* `pd.Series(1D array)`\n",
    "* `pd.Series(1D array, index)`\n",
    "* `pd.Series(dict)`\n",
    "\n",
    "### 屬性\n",
    "* `ser.index` dict.keys\n",
    "* `ser.values`"
   ]
  },
  {
   "cell_type": "code",
   "execution_count": 4,
   "metadata": {},
   "outputs": [
    {
     "data": {
      "text/plain": [
       "0    0.00\n",
       "1    0.25\n",
       "2    0.50\n",
       "3    0.75\n",
       "4    1.00\n",
       "dtype: float64"
      ]
     },
     "execution_count": 4,
     "metadata": {},
     "output_type": "execute_result"
    }
   ],
   "source": [
    "pd.Series(np.linspace(0, 1, 5))"
   ]
  },
  {
   "cell_type": "code",
   "execution_count": 5,
   "metadata": {},
   "outputs": [
    {
     "data": {
      "text/plain": [
       "5    0.00\n",
       "4    0.25\n",
       "3    0.50\n",
       "2    0.75\n",
       "1    1.00\n",
       "dtype: float64"
      ]
     },
     "execution_count": 5,
     "metadata": {},
     "output_type": "execute_result"
    }
   ],
   "source": [
    "ser = pd.Series(np.linspace(0, 1, 5), index=[5,4,3,2,1])\n",
    "ser"
   ]
  },
  {
   "cell_type": "code",
   "execution_count": 6,
   "metadata": {},
   "outputs": [
    {
     "data": {
      "text/plain": [
       "Int64Index([5, 4, 3, 2, 1], dtype='int64')"
      ]
     },
     "execution_count": 6,
     "metadata": {},
     "output_type": "execute_result"
    }
   ],
   "source": [
    "ser.index"
   ]
  },
  {
   "cell_type": "code",
   "execution_count": 7,
   "metadata": {},
   "outputs": [
    {
     "data": {
      "text/plain": [
       "array([0.  , 0.25, 0.5 , 0.75, 1.  ])"
      ]
     },
     "execution_count": 7,
     "metadata": {},
     "output_type": "execute_result"
    }
   ],
   "source": [
    "ser.values # ndarray"
   ]
  },
  {
   "cell_type": "markdown",
   "metadata": {},
   "source": [
    "###  DataFrame\n",
    "* `pd.DataFrame(2D array)`\n",
    "* `pd.DataFrame(dict(values=array))`\n",
    "* `pd.DataFrame([1D arrays, ])`\n",
    "\n",
    "### 屬性\n",
    "* `df.index`\n",
    "* `df.columns` dict.keys\n",
    "* `df.values`"
   ]
  },
  {
   "cell_type": "code",
   "execution_count": 8,
   "metadata": {},
   "outputs": [
    {
     "data": {
      "text/plain": [
       "1.00    1\n",
       "0.75    1\n",
       "0.50    1\n",
       "0.25    1\n",
       "0.00    1\n",
       "dtype: int64"
      ]
     },
     "execution_count": 8,
     "metadata": {},
     "output_type": "execute_result"
    }
   ],
   "source": [
    "ser.value_counts()"
   ]
  },
  {
   "cell_type": "markdown",
   "metadata": {},
   "source": [
    "### DataFrame & Series組合\n",
    "* [pd.merge](https://pandas.pydata.org/pandas-docs/stable/reference/api/pandas.merge.html?highlight=merge#pandas.merge)\n",
    "* [pd.concat](https://pandas.pydata.org/pandas-docs/stable/reference/api/pandas.concat.html?highlight=concat#pandas.concat)\n",
    "* [pd.DataFrame.join](https://pandas.pydata.org/pandas-docs/stable/reference/api/pandas.DataFrame.join.html)\n",
    "* [pd.DataFrame.insert](https://pandas.pydata.org/pandas-docs/stable/reference/api/pandas.DataFrame.insert.html?highlight=insert#pandas.DataFrame.insert)"
   ]
  },
  {
   "cell_type": "markdown",
   "metadata": {},
   "source": [
    "## `pandas` vs `re`"
   ]
  },
  {
   "cell_type": "code",
   "execution_count": 9,
   "metadata": {},
   "outputs": [
    {
     "data": {
      "text/plain": [
       "0        Pool Chen\n",
       "1       Allison Yu\n",
       "2     John Claeese\n",
       "3        Eric Idle\n",
       "4    Micheal Palin\n",
       "5    Terry Gilliam\n",
       "dtype: object"
      ]
     },
     "execution_count": 9,
     "metadata": {},
     "output_type": "execute_result"
    }
   ],
   "source": [
    "name = pd.Series(['Pool Chen', 'Allison Yu', 'John Claeese', 'Eric Idle', 'Micheal Palin', 'Terry Gilliam'])\n",
    "name"
   ]
  },
  {
   "cell_type": "code",
   "execution_count": 10,
   "metadata": {},
   "outputs": [
    {
     "data": {
      "text/plain": [
       "0    False\n",
       "1    False\n",
       "2    False\n",
       "3    False\n",
       "4    False\n",
       "5    False\n",
       "dtype: bool"
      ]
     },
     "execution_count": 10,
     "metadata": {},
     "output_type": "execute_result"
    }
   ],
   "source": [
    "# re.match()\n",
    "name.str.match(r'ol')"
   ]
  },
  {
   "cell_type": "code",
   "execution_count": 11,
   "metadata": {},
   "outputs": [
    {
     "data": {
      "text/plain": [
       "0     True\n",
       "1     True\n",
       "2     True\n",
       "3    False\n",
       "4    False\n",
       "5    False\n",
       "dtype: bool"
      ]
     },
     "execution_count": 11,
     "metadata": {},
     "output_type": "execute_result"
    }
   ],
   "source": [
    "# re.search()\n",
    "name.str.contains(r'o')"
   ]
  },
  {
   "cell_type": "code",
   "execution_count": 12,
   "metadata": {},
   "outputs": [
    {
     "data": {
      "text/html": [
       "<div>\n",
       "<style scoped>\n",
       "    .dataframe tbody tr th:only-of-type {\n",
       "        vertical-align: middle;\n",
       "    }\n",
       "\n",
       "    .dataframe tbody tr th {\n",
       "        vertical-align: top;\n",
       "    }\n",
       "\n",
       "    .dataframe thead th {\n",
       "        text-align: right;\n",
       "    }\n",
       "</style>\n",
       "<table border=\"1\" class=\"dataframe\">\n",
       "  <thead>\n",
       "    <tr style=\"text-align: right;\">\n",
       "      <th></th>\n",
       "      <th>0</th>\n",
       "    </tr>\n",
       "  </thead>\n",
       "  <tbody>\n",
       "    <tr>\n",
       "      <th>0</th>\n",
       "      <td>Pool</td>\n",
       "    </tr>\n",
       "    <tr>\n",
       "      <th>1</th>\n",
       "      <td>Allison</td>\n",
       "    </tr>\n",
       "    <tr>\n",
       "      <th>2</th>\n",
       "      <td>John</td>\n",
       "    </tr>\n",
       "    <tr>\n",
       "      <th>3</th>\n",
       "      <td>Eric</td>\n",
       "    </tr>\n",
       "    <tr>\n",
       "      <th>4</th>\n",
       "      <td>Micheal</td>\n",
       "    </tr>\n",
       "    <tr>\n",
       "      <th>5</th>\n",
       "      <td>Terry</td>\n",
       "    </tr>\n",
       "  </tbody>\n",
       "</table>\n",
       "</div>"
      ],
      "text/plain": [
       "         0\n",
       "0     Pool\n",
       "1  Allison\n",
       "2     John\n",
       "3     Eric\n",
       "4  Micheal\n",
       "5    Terry"
      ]
     },
     "execution_count": 12,
     "metadata": {},
     "output_type": "execute_result"
    }
   ],
   "source": [
    "# re.match()\n",
    "name.str.extract(r'([A-Za-z]+)')"
   ]
  },
  {
   "cell_type": "code",
   "execution_count": null,
   "metadata": {},
   "outputs": [],
   "source": []
  }
 ],
 "metadata": {
  "kernelspec": {
   "display_name": "Python 3",
   "language": "python",
   "name": "python3"
  },
  "language_info": {
   "codemirror_mode": {
    "name": "ipython",
    "version": 3
   },
   "file_extension": ".py",
   "mimetype": "text/x-python",
   "name": "python",
   "nbconvert_exporter": "python",
   "pygments_lexer": "ipython3",
   "version": "3.7.3"
  }
 },
 "nbformat": 4,
 "nbformat_minor": 2
}
