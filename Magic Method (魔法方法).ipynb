{
 "cells": [
  {
   "cell_type": "markdown",
   "metadata": {},
   "source": [
    "## magic method\n",
    "### 這些都是內建函數\n",
    "\n",
    "__eq__(slef, input) : (==)  \n",
    "__str__(self) : (str())  \n",
    "__repr__(self) : self(直接取值得意思)  \n",
    "__add__(self, input)"
   ]
  },
  {
   "cell_type": "code",
   "execution_count": 1,
   "metadata": {},
   "outputs": [],
   "source": [
    "class magic():\n",
    "    def __init__(self, num, string):\n",
    "        self.n = num\n",
    "        self.s = string\n",
    "    def __eq__(self, string): # 改寫 ==\n",
    "        return self.s.lower() == string\n",
    "    def __str__(self): # 改寫 str()\n",
    "        return self.s.upper()\n",
    "    def __repr__(self): # 改寫呼叫物件\n",
    "        return \"Qoo \" + self.s + \" Qoo\"\n",
    "    def __add__(self, num): # 改寫 +\n",
    "        return (self.n - num)"
   ]
  },
  {
   "cell_type": "code",
   "execution_count": 2,
   "metadata": {},
   "outputs": [],
   "source": [
    "p = magic(5, \"Pool\")"
   ]
  },
  {
   "cell_type": "code",
   "execution_count": 3,
   "metadata": {},
   "outputs": [
    {
     "name": "stdout",
     "output_type": "stream",
     "text": [
      "p.s:  Pool\n",
      "True\n",
      "str(p):  POOL\n",
      "p.n:  5\n",
      "p + 5 :  0\n"
     ]
    }
   ],
   "source": [
    "print('p.s: ', p.s)\n",
    "print(p == 'pool')\n",
    "print('str(p): ', str(p))\n",
    "p # repr(p)\n",
    "print('p.n: ', p.n)\n",
    "print('p + 5 : ', p + 5)"
   ]
  },
  {
   "cell_type": "markdown",
   "metadata": {},
   "source": [
    "### `__name__`\n",
    "當你import的檔案需要分成在地執行,和導入時不需要執行就可以使用```__name__ == '__main__'```"
   ]
  },
  {
   "cell_type": "code",
   "execution_count": 4,
   "metadata": {},
   "outputs": [
    {
     "data": {
      "text/plain": [
       "'__main__'"
      ]
     },
     "execution_count": 4,
     "metadata": {},
     "output_type": "execute_result"
    }
   ],
   "source": [
    "__name__ # 本程式內的__name__ == '__main__'"
   ]
  },
  {
   "cell_type": "code",
   "execution_count": 5,
   "metadata": {},
   "outputs": [
    {
     "name": "stdout",
     "output_type": "stream",
     "text": [
      "thks use func.py\n"
     ]
    }
   ],
   "source": [
    "from func import func1 # file from \"func.py\""
   ]
  },
  {
   "cell_type": "markdown",
   "metadata": {},
   "source": [
    "### func.py :\n",
    "```python\n",
    "def func1():\n",
    "    print(\"this func from 'func.py'\")\n",
    "    \n",
    "print('thks use func.py')\n",
    "\n",
    "if __name__ == '__main__': # 要在本程式內執行, 別的檔案import這個檔案不會執行！\n",
    "    def func2():\n",
    "        print(\"this func from 'func.py'\")\n",
    "    print('just func.py')\n",
    "```"
   ]
  },
  {
   "cell_type": "code",
   "execution_count": 6,
   "metadata": {},
   "outputs": [
    {
     "name": "stdout",
     "output_type": "stream",
     "text": [
      "this func from 'func.py'\n"
     ]
    }
   ],
   "source": [
    "func1()"
   ]
  },
  {
   "cell_type": "code",
   "execution_count": 7,
   "metadata": {},
   "outputs": [
    {
     "name": "stdout",
     "output_type": "stream",
     "text": [
      "No func2\n"
     ]
    }
   ],
   "source": [
    "try:\n",
    "    func.func2()\n",
    "except:\n",
    "    print('No func2')"
   ]
  },
  {
   "cell_type": "code",
   "execution_count": 8,
   "metadata": {},
   "outputs": [
    {
     "data": {
      "text/plain": [
       "'func1'"
      ]
     },
     "execution_count": 8,
     "metadata": {},
     "output_type": "execute_result"
    }
   ],
   "source": [
    "func1.__name__"
   ]
  },
  {
   "cell_type": "markdown",
   "metadata": {},
   "source": [
    "### 每個pkg 和函式都有各自的```__name__```"
   ]
  },
  {
   "cell_type": "code",
   "execution_count": 9,
   "metadata": {},
   "outputs": [
    {
     "name": "stdout",
     "output_type": "stream",
     "text": [
      "numpy\n",
      "ones\n",
      "absolute\n"
     ]
    }
   ],
   "source": [
    "import numpy as np\n",
    "\n",
    "print(np.__name__)\n",
    "print(np.ones.__name__)\n",
    "print(np.abs.__name__)"
   ]
  }
 ],
 "metadata": {
  "kernelspec": {
   "display_name": "Python 3",
   "language": "python",
   "name": "python3"
  },
  "language_info": {
   "codemirror_mode": {
    "name": "ipython",
    "version": 3
   },
   "file_extension": ".py",
   "mimetype": "text/x-python",
   "name": "python",
   "nbconvert_exporter": "python",
   "pygments_lexer": "ipython3",
   "version": "3.7.3"
  }
 },
 "nbformat": 4,
 "nbformat_minor": 2
}
