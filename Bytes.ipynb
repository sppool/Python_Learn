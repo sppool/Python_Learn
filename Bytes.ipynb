{
 "cells": [
  {
   "cell_type": "markdown",
   "metadata": {},
   "source": [
    "### 資料型態: bit"
   ]
  },
  {
   "cell_type": "code",
   "execution_count": 1,
   "metadata": {},
   "outputs": [
    {
     "data": {
      "text/plain": [
       "6"
      ]
     },
     "execution_count": 1,
     "metadata": {},
     "output_type": "execute_result"
    }
   ],
   "source": [
    "# bit\n",
    "0b110"
   ]
  },
  {
   "cell_type": "code",
   "execution_count": 2,
   "metadata": {},
   "outputs": [
    {
     "data": {
      "text/plain": [
       "255"
      ]
     },
     "execution_count": 2,
     "metadata": {},
     "output_type": "execute_result"
    }
   ],
   "source": [
    "# byte (8bits)\n",
    "0b11111111"
   ]
  },
  {
   "cell_type": "markdown",
   "metadata": {},
   "source": [
    "### 資料型態: byte (0~255)    \n",
    "#### python 用 ASCII 表達\n",
    "#### 要用列表 (list)包住 表示連續的資料"
   ]
  },
  {
   "cell_type": "code",
   "execution_count": 3,
   "metadata": {},
   "outputs": [
    {
     "data": {
      "text/plain": [
       "b'\\x00\\x00\\x00\\x00\\x00'"
      ]
     },
     "execution_count": 3,
     "metadata": {},
     "output_type": "execute_result"
    }
   ],
   "source": [
    "bytes(5)"
   ]
  },
  {
   "cell_type": "code",
   "execution_count": 4,
   "metadata": {},
   "outputs": [
    {
     "data": {
      "text/plain": [
       "b'\\x05'"
      ]
     },
     "execution_count": 4,
     "metadata": {},
     "output_type": "execute_result"
    }
   ],
   "source": [
    "bytes([5])"
   ]
  },
  {
   "cell_type": "code",
   "execution_count": 5,
   "metadata": {},
   "outputs": [
    {
     "data": {
      "text/plain": [
       "b'\\x08@\\x80\\xff'"
      ]
     },
     "execution_count": 5,
     "metadata": {},
     "output_type": "execute_result"
    }
   ],
   "source": [
    "bytes([8, 64, 128, 255])"
   ]
  },
  {
   "cell_type": "code",
   "execution_count": 6,
   "metadata": {},
   "outputs": [
    {
     "name": "stdout",
     "output_type": "stream",
     "text": [
      "  n |   8 | 16 |  bytes\n",
      "  0 |   0 |  0 |  \\x00\n",
      "  1 |   1 |  1 |  \\x01\n",
      "  2 |   2 |  2 |  \\x02\n",
      "  3 |   3 |  3 |  \\x03\n",
      "  4 |   4 |  4 |  \\x04\n",
      "  5 |   5 |  5 |  \\x05\n",
      "  6 |   6 |  6 |  \\x06\n",
      "  7 |   7 |  7 |  \\x07\n",
      "  8 |  10 |  8 |  \\x08\n",
      "  9 |  11 |  9 |    \\t\n",
      " 10 |  12 |  a |    \\n\n",
      " 11 |  13 |  b |  \\x0b\n",
      " 12 |  14 |  c |  \\x0c\n",
      " 13 |  15 |  d |    \\r\n",
      " 14 |  16 |  e |  \\x0e\n",
      " 15 |  17 |  f |  \\x0f\n",
      " 16 |  20 | 10 |  \\x10\n",
      " 17 |  21 | 11 |  \\x11\n",
      " 18 |  22 | 12 |  \\x12\n",
      " 19 |  23 | 13 |  \\x13\n",
      " 20 |  24 | 14 |  \\x14\n",
      " 21 |  25 | 15 |  \\x15\n",
      " 22 |  26 | 16 |  \\x16\n",
      " 23 |  27 | 17 |  \\x17\n",
      " 24 |  30 | 18 |  \\x18\n",
      " 25 |  31 | 19 |  \\x19\n",
      " 26 |  32 | 1a |  \\x1a\n",
      " 27 |  33 | 1b |  \\x1b\n",
      " 28 |  34 | 1c |  \\x1c\n",
      " 29 |  35 | 1d |  \\x1d\n",
      " 30 |  36 | 1e |  \\x1e\n",
      " 31 |  37 | 1f |  \\x1f\n",
      " 32 |  40 | 20 |      \n",
      " 33 |  41 | 21 |     !\n",
      " 34 |  42 | 22 |     \"\n",
      " 35 |  43 | 23 |     #\n",
      " 36 |  44 | 24 |     $\n",
      " 37 |  45 | 25 |     %\n",
      " 38 |  46 | 26 |     &\n",
      " 39 |  47 | 27 |     '\n",
      " 40 |  50 | 28 |     (\n",
      " 41 |  51 | 29 |     )\n",
      " 42 |  52 | 2a |     *\n",
      " 43 |  53 | 2b |     +\n",
      " 44 |  54 | 2c |     ,\n",
      " 45 |  55 | 2d |     -\n",
      " 46 |  56 | 2e |     .\n",
      " 47 |  57 | 2f |     /\n",
      " 48 |  60 | 30 |     0\n",
      " 49 |  61 | 31 |     1\n",
      " 50 |  62 | 32 |     2\n",
      " 51 |  63 | 33 |     3\n",
      " 52 |  64 | 34 |     4\n",
      " 53 |  65 | 35 |     5\n",
      " 54 |  66 | 36 |     6\n",
      " 55 |  67 | 37 |     7\n",
      " 56 |  70 | 38 |     8\n",
      " 57 |  71 | 39 |     9\n",
      " 58 |  72 | 3a |     :\n",
      " 59 |  73 | 3b |     ;\n",
      " 60 |  74 | 3c |     <\n",
      " 61 |  75 | 3d |     =\n",
      " 62 |  76 | 3e |     >\n",
      " 63 |  77 | 3f |     ?\n",
      " 64 | 100 | 40 |     @\n",
      " 65 | 101 | 41 |     A\n",
      " 66 | 102 | 42 |     B\n",
      " 67 | 103 | 43 |     C\n",
      " 68 | 104 | 44 |     D\n",
      " 69 | 105 | 45 |     E\n",
      " 70 | 106 | 46 |     F\n",
      " 71 | 107 | 47 |     G\n",
      " 72 | 110 | 48 |     H\n",
      " 73 | 111 | 49 |     I\n",
      " 74 | 112 | 4a |     J\n",
      " 75 | 113 | 4b |     K\n",
      " 76 | 114 | 4c |     L\n",
      " 77 | 115 | 4d |     M\n",
      " 78 | 116 | 4e |     N\n",
      " 79 | 117 | 4f |     O\n",
      " 80 | 120 | 50 |     P\n",
      " 81 | 121 | 51 |     Q\n",
      " 82 | 122 | 52 |     R\n",
      " 83 | 123 | 53 |     S\n",
      " 84 | 124 | 54 |     T\n",
      " 85 | 125 | 55 |     U\n",
      " 86 | 126 | 56 |     V\n",
      " 87 | 127 | 57 |     W\n",
      " 88 | 130 | 58 |     X\n",
      " 89 | 131 | 59 |     Y\n",
      " 90 | 132 | 5a |     Z\n",
      " 91 | 133 | 5b |     [\n",
      " 92 | 134 | 5c |    \\\\\n",
      " 93 | 135 | 5d |     ]\n",
      " 94 | 136 | 5e |     ^\n",
      " 95 | 137 | 5f |     _\n",
      " 96 | 140 | 60 |     `\n",
      " 97 | 141 | 61 |     a\n",
      " 98 | 142 | 62 |     b\n",
      " 99 | 143 | 63 |     c\n",
      "100 | 144 | 64 |     d\n",
      "101 | 145 | 65 |     e\n",
      "102 | 146 | 66 |     f\n",
      "103 | 147 | 67 |     g\n",
      "104 | 150 | 68 |     h\n",
      "105 | 151 | 69 |     i\n",
      "106 | 152 | 6a |     j\n",
      "107 | 153 | 6b |     k\n",
      "108 | 154 | 6c |     l\n",
      "109 | 155 | 6d |     m\n",
      "110 | 156 | 6e |     n\n",
      "111 | 157 | 6f |     o\n",
      "112 | 160 | 70 |     p\n",
      "113 | 161 | 71 |     q\n",
      "114 | 162 | 72 |     r\n",
      "115 | 163 | 73 |     s\n",
      "116 | 164 | 74 |     t\n",
      "117 | 165 | 75 |     u\n",
      "118 | 166 | 76 |     v\n",
      "119 | 167 | 77 |     w\n",
      "120 | 170 | 78 |     x\n",
      "121 | 171 | 79 |     y\n",
      "122 | 172 | 7a |     z\n",
      "123 | 173 | 7b |     {\n",
      "124 | 174 | 7c |     |\n",
      "125 | 175 | 7d |     }\n",
      "126 | 176 | 7e |     ~\n",
      "127 | 177 | 7f |  \\x7f\n",
      "128 | 200 | 80 |  \\x80\n",
      "129 | 201 | 81 |  \\x81\n",
      "130 | 202 | 82 |  \\x82\n",
      "131 | 203 | 83 |  \\x83\n",
      "132 | 204 | 84 |  \\x84\n",
      "133 | 205 | 85 |  \\x85\n",
      "134 | 206 | 86 |  \\x86\n",
      "135 | 207 | 87 |  \\x87\n",
      "136 | 210 | 88 |  \\x88\n",
      "137 | 211 | 89 |  \\x89\n",
      "138 | 212 | 8a |  \\x8a\n",
      "139 | 213 | 8b |  \\x8b\n",
      "140 | 214 | 8c |  \\x8c\n",
      "141 | 215 | 8d |  \\x8d\n",
      "142 | 216 | 8e |  \\x8e\n",
      "143 | 217 | 8f |  \\x8f\n",
      "144 | 220 | 90 |  \\x90\n",
      "145 | 221 | 91 |  \\x91\n",
      "146 | 222 | 92 |  \\x92\n",
      "147 | 223 | 93 |  \\x93\n",
      "148 | 224 | 94 |  \\x94\n",
      "149 | 225 | 95 |  \\x95\n",
      "150 | 226 | 96 |  \\x96\n",
      "151 | 227 | 97 |  \\x97\n",
      "152 | 230 | 98 |  \\x98\n",
      "153 | 231 | 99 |  \\x99\n",
      "154 | 232 | 9a |  \\x9a\n",
      "155 | 233 | 9b |  \\x9b\n",
      "156 | 234 | 9c |  \\x9c\n",
      "157 | 235 | 9d |  \\x9d\n",
      "158 | 236 | 9e |  \\x9e\n",
      "159 | 237 | 9f |  \\x9f\n",
      "160 | 240 | a0 |  \\xa0\n",
      "161 | 241 | a1 |  \\xa1\n",
      "162 | 242 | a2 |  \\xa2\n",
      "163 | 243 | a3 |  \\xa3\n",
      "164 | 244 | a4 |  \\xa4\n",
      "165 | 245 | a5 |  \\xa5\n",
      "166 | 246 | a6 |  \\xa6\n",
      "167 | 247 | a7 |  \\xa7\n",
      "168 | 250 | a8 |  \\xa8\n",
      "169 | 251 | a9 |  \\xa9\n",
      "170 | 252 | aa |  \\xaa\n",
      "171 | 253 | ab |  \\xab\n",
      "172 | 254 | ac |  \\xac\n",
      "173 | 255 | ad |  \\xad\n",
      "174 | 256 | ae |  \\xae\n",
      "175 | 257 | af |  \\xaf\n",
      "176 | 260 | b0 |  \\xb0\n",
      "177 | 261 | b1 |  \\xb1\n",
      "178 | 262 | b2 |  \\xb2\n",
      "179 | 263 | b3 |  \\xb3\n",
      "180 | 264 | b4 |  \\xb4\n",
      "181 | 265 | b5 |  \\xb5\n",
      "182 | 266 | b6 |  \\xb6\n",
      "183 | 267 | b7 |  \\xb7\n",
      "184 | 270 | b8 |  \\xb8\n",
      "185 | 271 | b9 |  \\xb9\n",
      "186 | 272 | ba |  \\xba\n",
      "187 | 273 | bb |  \\xbb\n",
      "188 | 274 | bc |  \\xbc\n",
      "189 | 275 | bd |  \\xbd\n",
      "190 | 276 | be |  \\xbe\n",
      "191 | 277 | bf |  \\xbf\n",
      "192 | 300 | c0 |  \\xc0\n",
      "193 | 301 | c1 |  \\xc1\n",
      "194 | 302 | c2 |  \\xc2\n",
      "195 | 303 | c3 |  \\xc3\n",
      "196 | 304 | c4 |  \\xc4\n",
      "197 | 305 | c5 |  \\xc5\n",
      "198 | 306 | c6 |  \\xc6\n",
      "199 | 307 | c7 |  \\xc7\n",
      "200 | 310 | c8 |  \\xc8\n",
      "201 | 311 | c9 |  \\xc9\n",
      "202 | 312 | ca |  \\xca\n",
      "203 | 313 | cb |  \\xcb\n",
      "204 | 314 | cc |  \\xcc\n",
      "205 | 315 | cd |  \\xcd\n",
      "206 | 316 | ce |  \\xce\n",
      "207 | 317 | cf |  \\xcf\n",
      "208 | 320 | d0 |  \\xd0\n",
      "209 | 321 | d1 |  \\xd1\n",
      "210 | 322 | d2 |  \\xd2\n",
      "211 | 323 | d3 |  \\xd3\n",
      "212 | 324 | d4 |  \\xd4\n",
      "213 | 325 | d5 |  \\xd5\n",
      "214 | 326 | d6 |  \\xd6\n",
      "215 | 327 | d7 |  \\xd7\n",
      "216 | 330 | d8 |  \\xd8\n",
      "217 | 331 | d9 |  \\xd9\n",
      "218 | 332 | da |  \\xda\n",
      "219 | 333 | db |  \\xdb\n",
      "220 | 334 | dc |  \\xdc\n",
      "221 | 335 | dd |  \\xdd\n",
      "222 | 336 | de |  \\xde\n",
      "223 | 337 | df |  \\xdf\n",
      "224 | 340 | e0 |  \\xe0\n",
      "225 | 341 | e1 |  \\xe1\n",
      "226 | 342 | e2 |  \\xe2\n",
      "227 | 343 | e3 |  \\xe3\n",
      "228 | 344 | e4 |  \\xe4\n",
      "229 | 345 | e5 |  \\xe5\n",
      "230 | 346 | e6 |  \\xe6\n",
      "231 | 347 | e7 |  \\xe7\n",
      "232 | 350 | e8 |  \\xe8\n",
      "233 | 351 | e9 |  \\xe9\n",
      "234 | 352 | ea |  \\xea\n",
      "235 | 353 | eb |  \\xeb\n",
      "236 | 354 | ec |  \\xec\n",
      "237 | 355 | ed |  \\xed\n",
      "238 | 356 | ee |  \\xee\n",
      "239 | 357 | ef |  \\xef\n",
      "240 | 360 | f0 |  \\xf0\n",
      "241 | 361 | f1 |  \\xf1\n",
      "242 | 362 | f2 |  \\xf2\n",
      "243 | 363 | f3 |  \\xf3\n",
      "244 | 364 | f4 |  \\xf4\n",
      "245 | 365 | f5 |  \\xf5\n",
      "246 | 366 | f6 |  \\xf6\n",
      "247 | 367 | f7 |  \\xf7\n",
      "248 | 370 | f8 |  \\xf8\n",
      "249 | 371 | f9 |  \\xf9\n",
      "250 | 372 | fa |  \\xfa\n",
      "251 | 373 | fb |  \\xfb\n",
      "252 | 374 | fc |  \\xfc\n",
      "253 | 375 | fd |  \\xfd\n",
      "254 | 376 | fe |  \\xfe\n",
      "255 | 377 | ff |  \\xff\n"
     ]
    }
   ],
   "source": [
    "print('  n |   8 | 16 |  bytes')\n",
    "for n in range(256):\n",
    "    print('%3d | %3o | %2x | %5s'%(n, n, n, str(bytes([n]))[2:-1]))"
   ]
  },
  {
   "cell_type": "markdown",
   "metadata": {},
   "source": [
    "### 16個一排"
   ]
  },
  {
   "cell_type": "code",
   "execution_count": 7,
   "metadata": {},
   "outputs": [
    {
     "name": "stdout",
     "output_type": "stream",
     "text": [
      "b'\\x00\\x01\\x02\\x03\\x04\\x05\\x06\\x07\\x08\\t\\n\\x0b\\x0c\\r\\x0e\\x0f'\n",
      "b'\\x10\\x11\\x12\\x13\\x14\\x15\\x16\\x17\\x18\\x19\\x1a\\x1b\\x1c\\x1d\\x1e\\x1f'\n",
      "b' !\"#$%&\\'()*+,-./'\n",
      "b'0123456789:;<=>?'\n",
      "b'@ABCDEFGHIJKLMNO'\n",
      "b'PQRSTUVWXYZ[\\\\]^_'\n",
      "b'`abcdefghijklmno'\n",
      "b'pqrstuvwxyz{|}~\\x7f'\n",
      "b'\\x80\\x81\\x82\\x83\\x84\\x85\\x86\\x87\\x88\\x89\\x8a\\x8b\\x8c\\x8d\\x8e\\x8f'\n",
      "b'\\x90\\x91\\x92\\x93\\x94\\x95\\x96\\x97\\x98\\x99\\x9a\\x9b\\x9c\\x9d\\x9e\\x9f'\n",
      "b'\\xa0\\xa1\\xa2\\xa3\\xa4\\xa5\\xa6\\xa7\\xa8\\xa9\\xaa\\xab\\xac\\xad\\xae\\xaf'\n",
      "b'\\xb0\\xb1\\xb2\\xb3\\xb4\\xb5\\xb6\\xb7\\xb8\\xb9\\xba\\xbb\\xbc\\xbd\\xbe\\xbf'\n",
      "b'\\xc0\\xc1\\xc2\\xc3\\xc4\\xc5\\xc6\\xc7\\xc8\\xc9\\xca\\xcb\\xcc\\xcd\\xce\\xcf'\n",
      "b'\\xd0\\xd1\\xd2\\xd3\\xd4\\xd5\\xd6\\xd7\\xd8\\xd9\\xda\\xdb\\xdc\\xdd\\xde\\xdf'\n",
      "b'\\xe0\\xe1\\xe2\\xe3\\xe4\\xe5\\xe6\\xe7\\xe8\\xe9\\xea\\xeb\\xec\\xed\\xee\\xef'\n",
      "b'\\xf0\\xf1\\xf2\\xf3\\xf4\\xf5\\xf6\\xf7\\xf8\\xf9\\xfa\\xfb\\xfc\\xfd\\xfe\\xff'\n"
     ]
    }
   ],
   "source": [
    "for i in range(16):\n",
    "    print(bytes(i*16 + j for j in range(16)))"
   ]
  },
  {
   "cell_type": "markdown",
   "metadata": {},
   "source": [
    "### bytes (一排 byte 資料)"
   ]
  },
  {
   "cell_type": "code",
   "execution_count": 8,
   "metadata": {},
   "outputs": [
    {
     "data": {
      "text/plain": [
       "b'\\x01\\x02\\x03\\xff'"
      ]
     },
     "execution_count": 8,
     "metadata": {},
     "output_type": "execute_result"
    }
   ],
   "source": [
    "byt = bytes([1,2,3,255])\n",
    "byt"
   ]
  },
  {
   "cell_type": "markdown",
   "metadata": {},
   "source": [
    "#### 用 slice 切片 "
   ]
  },
  {
   "cell_type": "code",
   "execution_count": 9,
   "metadata": {},
   "outputs": [
    {
     "data": {
      "text/plain": [
       "b'\\x01\\x02\\x03'"
      ]
     },
     "execution_count": 9,
     "metadata": {},
     "output_type": "execute_result"
    }
   ],
   "source": [
    "byt[0:3]"
   ]
  },
  {
   "cell_type": "markdown",
   "metadata": {},
   "source": [
    "#### 用 index 取值會變成數字0~255"
   ]
  },
  {
   "cell_type": "code",
   "execution_count": 10,
   "metadata": {},
   "outputs": [
    {
     "data": {
      "text/plain": [
       "3"
      ]
     },
     "execution_count": 10,
     "metadata": {},
     "output_type": "execute_result"
    }
   ],
   "source": [
    "byt[2]"
   ]
  },
  {
   "cell_type": "code",
   "execution_count": 11,
   "metadata": {},
   "outputs": [
    {
     "name": "stdout",
     "output_type": "stream",
     "text": [
      "不能更改\n"
     ]
    }
   ],
   "source": [
    "try:\n",
    "    byt[0] = 5\n",
    "    print('可以更改')\n",
    "    print(byt)\n",
    "except:\n",
    "    print('不能更改')"
   ]
  },
  {
   "cell_type": "markdown",
   "metadata": {},
   "source": [
    "### byte array"
   ]
  },
  {
   "cell_type": "code",
   "execution_count": 12,
   "metadata": {},
   "outputs": [
    {
     "data": {
      "text/plain": [
       "bytearray(b'\\x01\\x02\\x03\\xff')"
      ]
     },
     "execution_count": 12,
     "metadata": {},
     "output_type": "execute_result"
    }
   ],
   "source": [
    "bar = bytearray([1,2,3,255])\n",
    "bar"
   ]
  },
  {
   "cell_type": "code",
   "execution_count": 13,
   "metadata": {},
   "outputs": [
    {
     "name": "stdout",
     "output_type": "stream",
     "text": [
      "可以更改\n",
      "bytearray(b'\\x05\\x02\\x03\\xff')\n"
     ]
    }
   ],
   "source": [
    "try:\n",
    "    bar[0] = 5\n",
    "    print('可以更改')\n",
    "    print(bar)\n",
    "except:\n",
    "    print('不能更改')"
   ]
  },
  {
   "cell_type": "markdown",
   "metadata": {},
   "source": [
    "### 讀取二進位檔案 (.png)\n",
    "![](OReilly.png)"
   ]
  },
  {
   "cell_type": "code",
   "execution_count": 14,
   "metadata": {},
   "outputs": [
    {
     "name": "stdout",
     "output_type": "stream",
     "text": [
      "type: <class 'bytes'>\n"
     ]
    }
   ],
   "source": [
    "# open(file_name, mode='rb' binary) \n",
    "file = open('OReilly.png', 'rb')\n",
    "data = file.read()\n",
    "file.close()\n",
    "print('type:', type(data))"
   ]
  },
  {
   "cell_type": "markdown",
   "metadata": {},
   "source": [
    "#### 可以由前 8byte 辨識是png檔"
   ]
  },
  {
   "cell_type": "code",
   "execution_count": 15,
   "metadata": {},
   "outputs": [
    {
     "data": {
      "text/plain": [
       "b'\\x89PNG\\r\\n\\x1a\\n'"
      ]
     },
     "execution_count": 15,
     "metadata": {},
     "output_type": "execute_result"
    }
   ],
   "source": [
    "# png_header (ASCII C notation)    \\211 P  N G \\r \\n \\032 \\n\n",
    "data[0:8]"
   ]
  },
  {
   "cell_type": "code",
   "execution_count": 16,
   "metadata": {},
   "outputs": [
    {
     "name": "stdout",
     "output_type": "stream",
     "text": [
      "width: [0, 0, 0, 154]\n",
      "high:  [0, 0, 0, 141]\n"
     ]
    }
   ],
   "source": [
    "# png - width(16~20), high(20~24) byte, 四位數 0~255 最大素數(255^4 + 255^3 + 255^2 + 255) \n",
    "print('width:', list(data[16:20]))\n",
    "print('high: ', list(data[20:24]))"
   ]
  },
  {
   "cell_type": "code",
   "execution_count": 17,
   "metadata": {},
   "outputs": [
    {
     "data": {
      "text/plain": [
       "[0, 0, 0, 141]"
      ]
     },
     "execution_count": 17,
     "metadata": {},
     "output_type": "execute_result"
    }
   ],
   "source": [
    "list(data[20:24])"
   ]
  },
  {
   "cell_type": "markdown",
   "metadata": {},
   "source": [
    "### 提供 png 檔案的資訊函式："
   ]
  },
  {
   "cell_type": "code",
   "execution_count": 18,
   "metadata": {},
   "outputs": [],
   "source": [
    "def png_info(file):\n",
    "    file = open(file, 'rb')\n",
    "    data = file.read()\n",
    "    file.close()\n",
    "    if data[0:8] == b'\\x89PNG\\r\\n\\x1a\\n':\n",
    "        print('png file:')\n",
    "        width, high = 0, 0\n",
    "        for i in range(4): # 4byte 1byte 256進位\n",
    "            width += (256**(3-i) * data[16+i]) \n",
    "            high += (256**(3-i) * data[20+i])\n",
    "        print('width:', width, '| high:', high)\n",
    "    else:\n",
    "        print('Not png file')"
   ]
  },
  {
   "cell_type": "code",
   "execution_count": 19,
   "metadata": {},
   "outputs": [
    {
     "name": "stdout",
     "output_type": "stream",
     "text": [
      "png file:\n",
      "width: 154 | high: 141\n"
     ]
    }
   ],
   "source": [
    "png_info('OReilly.png')"
   ]
  },
  {
   "cell_type": "markdown",
   "metadata": {},
   "source": [
    "### struct 套件"
   ]
  },
  {
   "cell_type": "code",
   "execution_count": 20,
   "metadata": {},
   "outputs": [
    {
     "data": {
      "text/plain": [
       "[0, 0, 0, 154, 0, 0, 0, 141]"
      ]
     },
     "execution_count": 20,
     "metadata": {},
     "output_type": "execute_result"
    }
   ],
   "source": [
    "import struct\n",
    "list(data[16:24])"
   ]
  },
  {
   "cell_type": "code",
   "execution_count": 21,
   "metadata": {},
   "outputs": [
    {
     "data": {
      "text/plain": [
       "(154, 141)"
      ]
     },
     "execution_count": 21,
     "metadata": {},
     "output_type": "execute_result"
    }
   ],
   "source": [
    "# unpeack 讀取二進位檔案 輸出tuple\n",
    "# >, < 讀取byte的順序\n",
    "struct.unpack('>II', data[16:24])"
   ]
  },
  {
   "cell_type": "code",
   "execution_count": 22,
   "metadata": {},
   "outputs": [
    {
     "data": {
      "text/plain": [
       "(2583691264, 2365587456)"
      ]
     },
     "execution_count": 22,
     "metadata": {},
     "output_type": "execute_result"
    }
   ],
   "source": [
    "# [154, 0, 0, 0] -> (154*256^3, 141*256^3)\n",
    "struct.unpack('<II', data[16:24]) "
   ]
  },
  {
   "cell_type": "code",
   "execution_count": 23,
   "metadata": {},
   "outputs": [
    {
     "data": {
      "text/plain": [
       "(0, 0, 0, 154, 0, 0, 0, 141)"
      ]
     },
     "execution_count": 23,
     "metadata": {},
     "output_type": "execute_result"
    }
   ],
   "source": [
    "struct.unpack('<8B', data[16:24]) # '8B' = 'BBBBBBBB'"
   ]
  },
  {
   "cell_type": "raw",
   "metadata": {},
   "source": [
    "指定符    說明          byte\n",
    "  x      跳過1byte      1\n",
    "  b      整數           1\n",
    "  B      無符號整數      1\n",
    "  h      整數           2  \n",
    "  H      無符號整數      2\n",
    "  i      整數           4\n",
    "  I      無符號整數      4\n",
    "  f      單精度浮點數    4\n",
    "  d      雙精度浮點數    8\n",
    "  s      字元           n"
   ]
  },
  {
   "cell_type": "code",
   "execution_count": 24,
   "metadata": {},
   "outputs": [
    {
     "name": "stdout",
     "output_type": "stream",
     "text": [
      "b'\\xff\\xff\\xff\\xff'\n"
     ]
    },
    {
     "data": {
      "text/plain": [
       "[255, 255, 255, 255]"
      ]
     },
     "execution_count": 24,
     "metadata": {},
     "output_type": "execute_result"
    }
   ],
   "source": [
    "# peck 數字轉回 binary\n",
    "print(struct.pack('>I', ((2**8)**4)-1))\n",
    "list(struct.pack('>I', ((2**8)**4)-1))"
   ]
  },
  {
   "cell_type": "markdown",
   "metadata": {},
   "source": [
    "### 文字編碼格式 (python3 str 使用 unicode, 其他編碼使用二進位(byte)表示！)\n",
    "#### 顯示使用格式"
   ]
  },
  {
   "cell_type": "code",
   "execution_count": 25,
   "metadata": {},
   "outputs": [
    {
     "data": {
      "text/plain": [
       "'utf-8'"
      ]
     },
     "execution_count": 25,
     "metadata": {},
     "output_type": "execute_result"
    }
   ],
   "source": [
    "import sys\n",
    "sys.getdefaultencoding()"
   ]
  },
  {
   "cell_type": "markdown",
   "metadata": {},
   "source": [
    "### [編碼史](http://ez2learn.com/basic/unicode.html)\n",
    "![](https://images2015.cnblogs.com/blog/1070619/201612/1070619-20161227223837273-1216295303.png)\n",
    "*  ASCII   : 只能儲英文或特殊字符，只占一個字節，一個字節8bit(1byte)，不能儲中文，所以出現Unicode\n",
    "\n",
    "*  big5    :  臺灣制定，繁體中文\n",
    "\n",
    "*  Unicode : 不管是中文或英文，都是占二個字節，一個字節8bit(1byte)\n",
    "\n",
    "*  UTF-8   : 針對Unicode的可變長度字元編碼，英文字符一樣會依照ASCII碼規範，占 1 byte，而中文字符的話統一占 3 byte\n",
    "\n",
    "### [decode & encode:](https://ithelp.ithome.com.tw/articles/10187778)"
   ]
  },
  {
   "cell_type": "code",
   "execution_count": 26,
   "metadata": {},
   "outputs": [],
   "source": [
    "unicode = '橙紅芯 Chen Hung-Hsin' # python3 str 使用 unicode, 其他編碼使用二進位表示！"
   ]
  },
  {
   "cell_type": "code",
   "execution_count": 27,
   "metadata": {},
   "outputs": [
    {
     "name": "stdout",
     "output_type": "stream",
     "text": [
      "utf8: b'\\xe6\\xa9\\x99\\xe7\\xb4\\x85\\xe8\\x8a\\xaf Chen Hung-Hsin'\n",
      "gbk:  b'\\xb3\\xc8\\xbct\\xd0\\xbe Chen Hung-Hsin'\n",
      "big5: b'\\xbe\\xed\\xac\\xf5\\xaa\\xe4 Chen Hung-Hsin'\n"
     ]
    }
   ],
   "source": [
    "utf8 = unicode.encode('utf8')\n",
    "gbk = unicode.encode('gbk')\n",
    "big5 = unicode.encode('big5')\n",
    "print('utf8:', utf8)\n",
    "print('gbk: ', gbk)\n",
    "print('big5:', big5)"
   ]
  },
  {
   "cell_type": "markdown",
   "metadata": {},
   "source": [
    "#### 或是在轉 Binary 的 時候選擇編碼器！"
   ]
  },
  {
   "cell_type": "code",
   "execution_count": 28,
   "metadata": {},
   "outputs": [
    {
     "name": "stdout",
     "output_type": "stream",
     "text": [
      "unicode.encode('utf8') = \n"
     ]
    },
    {
     "data": {
      "text/plain": [
       "b'\\xe6\\xa9\\x99\\xe7\\xb4\\x85\\xe8\\x8a\\xaf Chen Hung-Hsin'"
      ]
     },
     "execution_count": 28,
     "metadata": {},
     "output_type": "execute_result"
    }
   ],
   "source": [
    "print(\"unicode.encode('utf8') = \")\n",
    "bytes(unicode, encoding='utf8')"
   ]
  },
  {
   "cell_type": "markdown",
   "metadata": {},
   "source": [
    "#### 解碼"
   ]
  },
  {
   "cell_type": "code",
   "execution_count": 29,
   "metadata": {},
   "outputs": [
    {
     "data": {
      "text/plain": [
       "'橙紅芯 Chen Hung-Hsin'"
      ]
     },
     "execution_count": 29,
     "metadata": {},
     "output_type": "execute_result"
    }
   ],
   "source": [
    "utf8.decode(encoding='utf8')"
   ]
  },
  {
   "cell_type": "code",
   "execution_count": 30,
   "metadata": {},
   "outputs": [
    {
     "data": {
      "text/plain": [
       "'橙紅芯 Chen Hung-Hsin'"
      ]
     },
     "execution_count": 30,
     "metadata": {},
     "output_type": "execute_result"
    }
   ],
   "source": [
    "gbk.decode(encoding='gbk')"
   ]
  },
  {
   "cell_type": "code",
   "execution_count": 31,
   "metadata": {},
   "outputs": [
    {
     "data": {
      "text/plain": [
       "'橙紅芯 Chen Hung-Hsin'"
      ]
     },
     "execution_count": 31,
     "metadata": {},
     "output_type": "execute_result"
    }
   ],
   "source": [
    "big5.decode(encoding='big5')"
   ]
  }
 ],
 "metadata": {
  "kernelspec": {
   "display_name": "Python 3",
   "language": "python",
   "name": "python3"
  },
  "language_info": {
   "codemirror_mode": {
    "name": "ipython",
    "version": 3
   },
   "file_extension": ".py",
   "mimetype": "text/x-python",
   "name": "python",
   "nbconvert_exporter": "python",
   "pygments_lexer": "ipython3",
   "version": "3.7.3"
  }
 },
 "nbformat": 4,
 "nbformat_minor": 2
}
