{
 "cells": [
  {
   "cell_type": "markdown",
   "metadata": {},
   "source": [
    "# [宇宙兄弟](https://www.gufengmh8.com/manhua/yuzhouxiongdi/)\n",
    "\n",
    "### 導入套件"
   ]
  },
  {
   "cell_type": "code",
   "execution_count": 1,
   "metadata": {},
   "outputs": [],
   "source": [
    "import time\n",
    "import requests # 讀取網頁資料\n",
    "import bs4\n",
    "import os\n",
    "from selenium import webdriver"
   ]
  },
  {
   "cell_type": "code",
   "execution_count": 2,
   "metadata": {},
   "outputs": [
    {
     "name": "stdout",
     "output_type": "stream",
     "text": [
      "pass\n",
      "/home/sppool/Program/Python/Learn/爬蟲\n"
     ]
    }
   ],
   "source": [
    "try:\n",
    "    os.chdir('space bro')\n",
    "except:\n",
    "    print('pass')\n",
    "    \n",
    "print(os.getcwd())"
   ]
  },
  {
   "cell_type": "code",
   "execution_count": 3,
   "metadata": {},
   "outputs": [],
   "source": [
    "def get_page_count(url):\n",
    "    chrome.get(url)\n",
    "    soup = bs4.BeautifulSoup(chrome.page_source)\n",
    "    \n",
    "    return int(soup.select('span')[3].text[-3:-1])\n",
    "\n",
    "def next_page():\n",
    "    chrome.find_element_by_css_selector('a[href=\"javascript:SinTheme.nextPage();\"]').click()\n",
    "    \n",
    "def get_img_url():\n",
    "    soup = bs4.BeautifulSoup(chrome.page_source)\n",
    "    \n",
    "    return soup.find('img')['src']\n",
    "\n",
    "def save_img(f_name, url):\n",
    "    pic = requests.get(url).content\n",
    "#     with open(f_name, 'wb') as file: # 寫入資料(存圖)\n",
    "#         file.write(pic)"
   ]
  },
  {
   "cell_type": "code",
   "execution_count": null,
   "metadata": {
    "scrolled": true
   },
   "outputs": [],
   "source": [
    "# 打開瀏覽器(檔案位置)\n",
    "chrome = webdriver.Chrome('/home/sppool/.local/share/chromedriver')\n",
    "\n",
    "for round_n in range(1):\n",
    "    chrome.implicitly_wait(10)\n",
    "    url = f'https://www.gufengmh8.com/manhua/yuzhouxiongdi/{402959 + round_n}.html'\n",
    "    page_count = get_page_count(url)\n",
    "    img_url = get_img_url(url)\n",
    "    save_img(f'{round_n + 1}#1', img_url)\n",
    "    \n",
    "    for page_n in range(page_count-1):\n",
    "        chrome.implicitly_wait(10)\n",
    "        next_page()\n",
    "        img_url = get_img_url(url)\n",
    "        save_img(f'{round_n + 1}#{page_n + 1}', img_url)\n",
    "        \n",
    "        print('running')"
   ]
  }
 ],
 "metadata": {
  "kernelspec": {
   "display_name": "Python 3",
   "language": "python",
   "name": "python3"
  },
  "language_info": {
   "codemirror_mode": {
    "name": "ipython",
    "version": 3
   },
   "file_extension": ".py",
   "mimetype": "text/x-python",
   "name": "python",
   "nbconvert_exporter": "python",
   "pygments_lexer": "ipython3",
   "version": "3.7.3"
  }
 },
 "nbformat": 4,
 "nbformat_minor": 2
}
