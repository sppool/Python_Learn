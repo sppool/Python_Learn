{
 "cells": [
  {
   "cell_type": "markdown",
   "metadata": {},
   "source": [
    "# [ㄎㄨㄥˇ GON](https://tw.manhuagui.com/comic/6848/)\n",
    "\n",
    "### 導入套件"
   ]
  },
  {
   "cell_type": "code",
   "execution_count": 1,
   "metadata": {},
   "outputs": [],
   "source": [
    "import numpy as np\n",
    "import time\n",
    "import requests # 讀取網頁資料\n",
    "import bs4\n",
    "import os\n",
    "from PIL import Image\n",
    "from selenium import webdriver\n",
    "from selenium.webdriver.common.keys import Keys"
   ]
  },
  {
   "cell_type": "code",
   "execution_count": 2,
   "metadata": {},
   "outputs": [
    {
     "name": "stdout",
     "output_type": "stream",
     "text": [
      "pass\n",
      "/home/sppool/Program/Python/Learn/爬蟲\n"
     ]
    }
   ],
   "source": [
    "try:\n",
    "    os.chdir('gon')\n",
    "except:\n",
    "    print('pass')\n",
    "    \n",
    "print(os.getcwd())"
   ]
  },
  {
   "cell_type": "code",
   "execution_count": 3,
   "metadata": {},
   "outputs": [],
   "source": [
    "def get_soup(url):\n",
    "    headers = {'user-agent':'Mozilla/5.0 (X11; Linux x86_64)'}\n",
    "    r = requests.get(url, headers=headers)\n",
    "    rt = r.text\n",
    "    soup = bs4.BeautifulSoup(rt, \"html.parser\")\n",
    "    \n",
    "    return soup\n",
    "\n",
    "def next_page():\n",
    "    chrome.find_element_by_css_selector('#next').click()\n",
    "    \n",
    "def get_img_url():\n",
    "    soup = bs4.BeautifulSoup(chrome.page_source)\n",
    "    \n",
    "    return soup.select('#mangaFile')[0]['src']\n",
    "\n",
    "def save_img(f_name, url):\n",
    "    pic = requests.get(url).content\n",
    "    with open(f_name, 'wb') as file: # 寫入資料(存圖)\n",
    "        file.write(pic)"
   ]
  },
  {
   "cell_type": "code",
   "execution_count": 4,
   "metadata": {},
   "outputs": [],
   "source": [
    "url = 'https://tw.manhuagui.com/comic/6848/'\n",
    "soup = get_soup(url)"
   ]
  },
  {
   "cell_type": "code",
   "execution_count": 5,
   "metadata": {},
   "outputs": [
    {
     "name": "stdout",
     "output_type": "stream",
     "text": [
      "精選集 : 162 p\n",
      "https://tw.manhuagui.com//comic/6848/259092.html\n",
      "第07卷 : 171 p\n",
      "https://tw.manhuagui.com//comic/6848/60934.html\n",
      "第06卷 : 178 p\n",
      "https://tw.manhuagui.com//comic/6848/60899.html\n",
      "第05卷 : 165 p\n",
      "https://tw.manhuagui.com//comic/6848/60898.html\n",
      "第04卷 : 158 p\n",
      "https://tw.manhuagui.com//comic/6848/60897.html\n",
      "第03卷 : 150 p\n",
      "https://tw.manhuagui.com//comic/6848/60844.html\n",
      "第02卷 : 150 p\n",
      "https://tw.manhuagui.com//comic/6848/60843.html\n",
      "第01卷 : 142 p\n",
      "https://tw.manhuagui.com//comic/6848/60842.html\n"
     ]
    }
   ],
   "source": [
    "gon = {}\n",
    "head = 'https://tw.manhuagui.com/'\n",
    "for i, a in enumerate(soup.select('.status0')):\n",
    "    url_ = head + a['href']\n",
    "    book = a.text[:-4]\n",
    "    page = int(a.text[-4:-1])\n",
    "    gon[i] = [url_, book, page]\n",
    "    print(book, ':', page, 'p')\n",
    "    print(url_)"
   ]
  },
  {
   "cell_type": "markdown",
   "metadata": {},
   "source": [
    "## 問題  .webp無法儲存,  "
   ]
  },
  {
   "cell_type": "raw",
   "metadata": {},
   "source": [
    "# 打開瀏覽器(檔案位置)\n",
    "chrome = webdriver.Chrome('/home/sppool/.local/share/chromedriver')"
   ]
  },
  {
   "cell_type": "raw",
   "metadata": {},
   "source": [
    "for i in gon:\n",
    "    url = gon[i][0]\n",
    "    name =  gon[i][1]\n",
    "    p_count =  gon[i][2]\n",
    "    chrome.implicitly_wait(3)\n",
    "    chrome.get(url)\n",
    "    for p in range(1, p_count):\n",
    "        f_name = name + '_' + str(p) + '.png'\n",
    "        # .webp無法儲存 使用螢幕節擷圖的方式\n",
    "        # img_url = get_img_url()\n",
    "        # save_img(f_name, img_url)\n",
    "        chrome.execute_script(\"window.scrollTo(0, 500);\")\n",
    "        time.sleep(1.2)\n",
    "        img = chrome.find_element_by_css_selector('#mangaFile')\n",
    "        img.screenshot(f_name)\n",
    "        next_page()\n",
    "\n",
    "chrome.quit()"
   ]
  },
  {
   "cell_type": "markdown",
   "metadata": {},
   "source": [
    "## 只好選擇旋轉在截圖的方式"
   ]
  },
  {
   "cell_type": "code",
   "execution_count": 16,
   "metadata": {},
   "outputs": [],
   "source": [
    "# 打開瀏覽器(檔案位置)\n",
    "chrome = webdriver.Chrome('/home/sppool/.local/share/chromedriver')\n",
    "i = 5 # 一本一本抓\n",
    "url = gon[i][0]\n",
    "chrome.get(url)"
   ]
  },
  {
   "cell_type": "code",
   "execution_count": null,
   "metadata": {
    "scrolled": true
   },
   "outputs": [],
   "source": [
    "chrome.fullscreen_window()\n",
    "\n",
    "url = gon[i][0]\n",
    "name =  gon[i][1]\n",
    "p_count =  gon[i][2]\n",
    "chrome.implicitly_wait(3)\n",
    "chrome.get(url)\n",
    "\n",
    "for p in range(1, p_count+1):\n",
    "    f_name = name + '_' + str(p) + '.png'\n",
    "    chrome.find_element_by_id('tool-rotate').click()\n",
    "    time.sleep(0.9)\n",
    "    chrome.execute_script(\"window.scrollTo(0, 180);\")\n",
    "    time.sleep(0.2)\n",
    "    chrome.get_screenshot_as_file(f_name)\n",
    "    next_page()\n",
    "    time.sleep(0.5)\n",
    "    \n",
    "chrome.quit()"
   ]
  },
  {
   "cell_type": "markdown",
   "metadata": {},
   "source": [
    "## 圖片處理"
   ]
  },
  {
   "cell_type": "code",
   "execution_count": null,
   "metadata": {},
   "outputs": [],
   "source": [
    "import numpy as np\n",
    "from PIL import Image\n",
    "\n",
    "def show_(arr):\n",
    "    return Image.fromarray(np.uint8(arr))"
   ]
  },
  {
   "cell_type": "markdown",
   "metadata": {},
   "source": [
    "### cut & rotate"
   ]
  },
  {
   "cell_type": "raw",
   "metadata": {},
   "source": [
    "for dr in ['11', '22', '33', '44', '55', '66', '77']:\n",
    "    for name in os.listdir(dr):\n",
    "        f_n = dr + '/' + name\n",
    "        p = Image.open(f_n)\n",
    "        arr = np.array(p)[:, 240:-240].transpose(1, 0, 2)[-1::-1, :]\n",
    "        Image.fromarray(arr).save(f_n)\n",
    "        print(f_n)\n",
    "    print('done')"
   ]
  }
 ],
 "metadata": {
  "kernelspec": {
   "display_name": "Python 3",
   "language": "python",
   "name": "python3"
  },
  "language_info": {
   "codemirror_mode": {
    "name": "ipython",
    "version": 3
   },
   "file_extension": ".py",
   "mimetype": "text/x-python",
   "name": "python",
   "nbconvert_exporter": "python",
   "pygments_lexer": "ipython3",
   "version": "3.7.3"
  }
 },
 "nbformat": 4,
 "nbformat_minor": 2
}
