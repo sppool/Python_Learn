{
 "cells": [
  {
   "cell_type": "markdown",
   "metadata": {},
   "source": [
    "# [蝦皮 Shopee](https://shopee.tw/)  (json 資料)\n",
    "## [參考影片](https://www.youtube.com/watch?v=jV6eHoLzD2E)\n",
    "\n",
    "### 導入套件"
   ]
  },
  {
   "cell_type": "code",
   "execution_count": 1,
   "metadata": {},
   "outputs": [],
   "source": [
    "import time\n",
    "import requests # 讀取網頁資料\n",
    "import bs4\n",
    "import json\n",
    "from selenium import webdriver"
   ]
  },
  {
   "cell_type": "markdown",
   "metadata": {},
   "source": [
    "### 搜尋 \"Text\" 網址會轉為`https://shopee.tw/search?keyword=\"text\"`"
   ]
  },
  {
   "cell_type": "code",
   "execution_count": 2,
   "metadata": {},
   "outputs": [],
   "source": [
    "text = 'cabinzero'\n",
    "url = f'https://shopee.tw/search?keyword={text}'\n",
    "\n",
    "headers = {'user-agent':'Mozilla/5.0 (X11; Linux x86_64) AppleWebKit/537.36 (KHTML, like Gecko) Chrome/79.0.3945.88 Safari/537.36'}\n",
    "r = requests.get(url, headers=headers)\n",
    "soup = bs4.BeautifulSoup(r.text, \"html.parser\")"
   ]
  },
  {
   "cell_type": "code",
   "execution_count": 3,
   "metadata": {},
   "outputs": [
    {
     "name": "stdout",
     "output_type": "stream",
     "text": [
      "Server SGW\n",
      "Date Mon, 13 Jan 2020 05:24:41 GMT\n",
      "Content-Type text/html\n",
      "Transfer-Encoding chunked\n",
      "Connection keep-alive\n",
      "Last-Modified Fri, 10 Jan 2020 10:09:54 GMT\n",
      "Vary Accept-Encoding\n",
      "ETag W/\"5e184d72-2156\"\n",
      "Content-Encoding gzip\n",
      "Expires Mon, 13 Jan 2020 05:24:40 GMT\n",
      "Cache-Control no-cache, no-cache, no-store\n",
      "Content-Security-Policy frame-ancestors 'self' *.shopeemobile.com *.shopee.tw *.shopee.cn *.facebook.com; \n"
     ]
    }
   ],
   "source": [
    "for k in r.headers:\n",
    "    print(k , r.headers[k])"
   ]
  },
  {
   "cell_type": "markdown",
   "metadata": {},
   "source": [
    "### Chrome F12 觀察, 並搜尋body 可以知道商品內容並不在其中"
   ]
  },
  {
   "cell_type": "code",
   "execution_count": 4,
   "metadata": {
    "scrolled": true
   },
   "outputs": [
    {
     "name": "stdout",
     "output_type": "stream",
     "text": [
      "<body>\n",
      " <noscript>\n",
      "  <iframe height=\"0\" src=\"https://www.googletagmanager.com/ns.html?id=GTM-WJZQSJF\" style=\"display:none;visibility:hidden\" width=\"0\">\n",
      "  </iframe>\n",
      " </noscript>\n",
      " <div id=\"main\">\n",
      " </div>\n",
      " <div id=\"modal\">\n",
      " </div>\n",
      " <script src=\"https://deo.shopeemobile.com/shopee/shopee-pcmall-live-sg/assets/modules~bundle.a1765fa60dc6d58fd61b.js\" type=\"text/javascript\">\n",
      " </script>\n",
      " <script src=\"https://deo.shopeemobile.com/shopee/shopee-pcmall-live-sg/assets/bundle.73d2313c7936dfbf57b4.js\" type=\"text/javascript\">\n",
      " </script>\n",
      "</body>\n",
      "\n"
     ]
    }
   ],
   "source": [
    "print(soup.select('body')[0].prettify())"
   ]
  },
  {
   "cell_type": "markdown",
   "metadata": {},
   "source": [
    "### Chrome F12 -> Network -> XHR\n",
    "\n",
    "* 找到有item 的項目\n",
    "![shopee_items](./shopee_items.png)"
   ]
  },
  {
   "cell_type": "markdown",
   "metadata": {},
   "source": [
    "### 找到網址 `'https://shopee.tw/api/v2/search_items/?by=relevancy&keyword=cabinzero&limit=50&newest=0&order=desc&page_type=search&version=2'`\n",
    "* 並用 get 取得\n",
    "* header 會影響取得資料的差異(自行增減)\n",
    "* if-none-match- 會影響資料取得的完整性\n",
    "* `text = 'cabinzero'`\n",
    "    * `'if-none-match-':'55b03-e02247ccaf743c03922273 bb6ee346e9'`\n",
    "* 蝦皮好像有防爬蟲 多次抓取就需要 if-none-match-\n"
   ]
  },
  {
   "cell_type": "code",
   "execution_count": 5,
   "metadata": {},
   "outputs": [],
   "source": [
    "# 轉換萬國碼\n",
    "text = 'cabinzero'\n",
    "# b = text.encode('utf-8')\n",
    "# text = str(b)[2:-1].replace('\\\\x', '%').replace(' ', '%20')\n",
    "\n",
    "\n",
    "url = f'https://shopee.tw/api/v2/search_items/?by=relevancy&keyword={text}&limit=50&newest=0&order=desc&page_type=search&version=2'\n",
    "\n",
    "headers = {'referer':f'https://shopee.tw/search?keyword={text}',\n",
    "           'User-Agent':'Mozilla/5.0 (X11; Linux x86_64) AppleWebKit/537.36 (KHTML, like Gecko) Chrome/79.0.3945.88 Safari/537.36',\n",
    "           'if-none-match-':'55b03-e02247ccaf743c03922273bb6ee346e9'} # if-none-match- 這影響資料完整性？\n",
    "r = requests.get(url, headers=headers)\n",
    "shopee_items = r.json()['items']"
   ]
  },
  {
   "cell_type": "code",
   "execution_count": 6,
   "metadata": {
    "scrolled": true
   },
   "outputs": [
    {
     "name": "stdout",
     "output_type": "stream",
     "text": [
      "【加也】Cabinzero 軍規版 英國輕旅登機後背包、旅行包 36L ----->$ 2920.0 TWD\n",
      "阿胖正品--現貨 CabinZero  登機包 大容量- 軍用特別款 (黑) 36L 44L 英國 輕旅 登機 後背包 ----->$ 2910.0 TWD\n",
      "【加也】Cabinzero 軍規版 英國輕旅登機後背包 旅行包 44L ----->$ 3090.0 TWD\n",
      "阿胖正品---現貨 CABINZERO 登機包 大容量- 軍用特別款 (沙漠色)- 36L 英國 輕旅 登機 後背包 ----->$ 2910.0 TWD\n",
      "Cabin Zero 免Check-in 防水背囊 44L ----->$ 2499.0 TWD\n",
      "【@newone】CabinZero 登機包 軍用特別款 英國 輕旅 流行 後背包 褐色 44L ----->$ 3298.0 TWD\n",
      "毛仔嚴選 CabinZero 登機包-[大] 44L 英國輕旅登機後背包 大容量 10年保固 冰河灰 另有[小]跟[中] ----->$ 2580.0 TWD\n",
      "毛仔嚴選 CabinZero 登機包-[大] 44L 英國輕旅登機後背包 大容量 10年保固 城市迷彩另有[小]跟[中] ----->$ 2580.0 TWD\n",
      "Cabinzero全新防水包 附黑色收納包 ----->$ 1699.0 TWD\n",
      "【CabinZero】英國輕旅登機後背包44L - 火鶴紅  只有一個售完不補 ----->$ 1880.0 TWD\n",
      "Cabinzero 44L 登機包 ----->$ 2000.0 TWD\n",
      "【CabinZero】英國輕旅登機後背包44L - 鯨魚藍 只有一個售完不補 ----->$ 1880.0 TWD\n",
      "【加也】Cabinzero HIPPACK 腰包 2L ----->$ 830.0 TWD\n",
      "【@newone】CabinZero 登機包 軍用特別款 英國 輕旅 流行 後背包 褐 深藍 軍綠 黑 36L ----->$ 3128.0 TWD\n",
      "ST嚴選 CabinZero 登機包-[大.中.小] 英國輕旅登機後背包 大容量 10年保固  灰色 ----->$ 2580.0 TWD\n",
      "S H C-🇬🇧英國 cabinzero 36L 軍用款限量特殊色 卡其 深藍 共兩色 旅行後背包 休閒背包 ----->$ 3680.0 TWD\n",
      "sonia_usa_korea-嚴選正品快速出貨 🇬🇧英國 cabin zero 登機包 後背包 旅行包 雙肩包 ----->$ 2580.0 TWD\n",
      "阿胖正品---現貨 CabinZero 登機包 大容量- 軍用特別款 深藍 44L英國 輕旅 登機 後背包 ----->$ 3080.0 TWD\n",
      "毛仔嚴選 CabinZero 登機包-[大] 44L 英國輕旅登機後背包 大容量 10年保固 沙漠黃 另有[小]跟[中] ----->$ 2580.0 TWD\n",
      "（全新）英國cabinzero防水後背包 ----->$ 1790.0 TWD\n",
      "CabinZero Pro 42L 黑色 ----->$ 4500.0 TWD\n",
      "【@newone】CabinZero 登機包 軍用特別款 英國 輕旅 流行 後背包 黑色 44L ----->$ 3298.0 TWD\n",
      "cabinzero classic 44L 後背包 ----->$ 2000.0 TWD\n",
      "全新【CabinZero】英國輕旅登機後背包 36L - 冰河灰 ----->$ 2100.0 TWD\n",
      "CabinZero 登機包 軍用特別款 英國 輕旅 流行 後背包 黑色 44L 四色可選 ----->$ 3200.0 TWD\n",
      "全新含吊牌【CabinZero】英國輕旅登機後背包36L-午夜黑 ----->$ 2100.0 TWD\n",
      "ST嚴選 CabinZero 登機包  英國輕旅登機後背包  大容量 10年保固 全新含吊 另有鯨魚藍 ----->$ 2180.0 TWD\n",
      "sonia_usa_korea-25年保固 CABIN ZERO 登機包 黑 綠 44L超大容量 英國 後背包 ----->$ 3900.0 TWD\n",
      "阿胖正品---現貨 CabinZero  登機包 大容量-冰河灰-44L 英國 輕旅 登機 後背包 ----->$ 2560.0 TWD\n",
      "【@newone】CabinZero 登機包 軍用特別款 英國 輕旅 流行 後背包 綠色 44L ----->$ 3298.0 TWD\n",
      "毛仔嚴選 CabinZero 登機包-[大] 44L 英國輕旅登機後背包 大容量 10年保固 午夜黑 另有[小]跟[中] ----->$ 2580.0 TWD\n",
      "阿胖正品---現貨 CabinZero 登機包 大容量-鯨魚藍- 28L 英國 輕旅 登機 後背包 ----->$ 2160.0 TWD\n",
      "【加也】Cabinzero 英國輕旅登機後背包 44L ----->$ 2580.0 TWD\n",
      "【@newone】CabinZero 登機包 英國 輕旅 流行 後背包 大 中 小 灰色 ----->$ 2198.0 TWD\n",
      "毛仔嚴選 CabinZero 登機包-[大] 44L 英國輕旅登機後背包 大容量 10年保固 鯨魚藍 另有[小]跟[中] ----->$ 2580.0 TWD\n",
      "阿胖正品--- 現貨 CabinZero 登機包 軍用特別款(綠) 36L 44L 英國 輕旅 登機 後背包 ----->$ 2910.0 TWD\n",
      "【加也】Cabinzero 英國輕旅登機後背包 36L ----->$ 2450.0 TWD\n",
      "【@newone】CabinZero 登機包 英國 輕旅 流行 後背包 大 中 小 藍色 ----->$ 2198.0 TWD\n",
      "CabinZero NBA 馬刺 球隊 LOGO 棒球外套 飛行夾克 防風 ----->$ 2760.0 TWD\n",
      "毛仔嚴選 CabinZero 登機包-[大] 44L 英國輕旅登機後背包 大容量 10年保固 火鶴紅 另有[小]跟[中] ----->$ 2580.0 TWD\n",
      "阿胖正品---現貨 CabinZero 登機包 大容量 英國 輕旅 登機 登機 後背包36L - 芥末黃 ----->$ 2560.0 TWD\n",
      "【@newone】CabinZero 登機包 英國 輕旅 流行 後背包 大 中 小 黑色 ----->$ 2198.0 TWD\n",
      "ST嚴選 CabinZero 登機包 軍用特別款 44L 英國輕旅登機後背包 大容量 綠 ----->$ 3280.0 TWD\n",
      "毛仔嚴選 CabinZero 登機包-[中] 36L 英國輕旅登機後背包 大容量 10年保固 冰河灰 另有[小]跟[大] ----->$ 2450.0 TWD\n",
      "阿胖正品---現貨 CabinZero 登機包 大容量 英國 輕旅 登機 後背包 36L - 西班牙香草粉 ----->$ 2560.0 TWD\n",
      "【加也】Cabinzero 軍規版 英國輕旅登機後背包、旅行包 28L ----->$ 2870.0 TWD\n",
      "【@newone】CabinZero 登機包 英國 輕旅 流行 後背包 大 中 小 迷彩 ----->$ 2198.0 TWD\n",
      "毛仔嚴選 CabinZero 登機包-[中] 36L 英國輕旅登機後背包 大容量 10年保固 城市迷彩另有[小]跟[大] ----->$ 2450.0 TWD\n",
      "阿胖正品--現貨 CabinZero 英國 輕旅 登機 後背包 12L  沙漠黃 黑 ----->$ 1380.0 TWD\n",
      "【加也】Cabinzero Classic Pro 英國專業登機後背包 旅用包 42L 英國品牌 十年保固 ----->$ 4190.0 TWD\n"
     ]
    }
   ],
   "source": [
    "for item in shopee_items:\n",
    "    print(item['name'], '----->$', item['price']/1e5, item['currency'])"
   ]
  },
  {
   "cell_type": "markdown",
   "metadata": {},
   "source": [
    "### 要完整抓取資料 必須獲得頁面的 `if-none-match-` 可是目前稿不懂產生機制"
   ]
  },
  {
   "cell_type": "markdown",
   "metadata": {},
   "source": [
    "### 翻頁機制在newest=50*i (i 0~)  , 爬到第二頁就會跳錯誤"
   ]
  },
  {
   "cell_type": "code",
   "execution_count": 7,
   "metadata": {
    "scrolled": true
   },
   "outputs": [
    {
     "name": "stdout",
     "output_type": "stream",
     "text": [
      "【加也】Cabinzero 軍規版 英國輕旅登機後背包、旅行包 36L ----->$ 2920.0 TWD\n",
      "阿胖正品--現貨 CabinZero  登機包 大容量- 軍用特別款 (黑) 36L 44L 英國 輕旅 登機 後背包 ----->$ 2910.0 TWD\n",
      "【加也】Cabinzero 軍規版 英國輕旅登機後背包 旅行包 44L ----->$ 3090.0 TWD\n",
      "阿胖正品---現貨 CABINZERO 登機包 大容量- 軍用特別款 (沙漠色)- 36L 英國 輕旅 登機 後背包 ----->$ 2910.0 TWD\n",
      "Cabin Zero 免Check-in 防水背囊 44L ----->$ 2499.0 TWD\n",
      "【@newone】CabinZero 登機包 軍用特別款 英國 輕旅 流行 後背包 褐色 44L ----->$ 3298.0 TWD\n",
      "毛仔嚴選 CabinZero 登機包-[大] 44L 英國輕旅登機後背包 大容量 10年保固 冰河灰 另有[小]跟[中] ----->$ 2580.0 TWD\n",
      "毛仔嚴選 CabinZero 登機包-[大] 44L 英國輕旅登機後背包 大容量 10年保固 城市迷彩另有[小]跟[中] ----->$ 2580.0 TWD\n",
      "Cabinzero全新防水包 附黑色收納包 ----->$ 1699.0 TWD\n",
      "【CabinZero】英國輕旅登機後背包44L - 火鶴紅  只有一個售完不補 ----->$ 1880.0 TWD\n",
      "Cabinzero 44L 登機包 ----->$ 2000.0 TWD\n",
      "【CabinZero】英國輕旅登機後背包44L - 鯨魚藍 只有一個售完不補 ----->$ 1880.0 TWD\n",
      "【加也】Cabinzero HIPPACK 腰包 2L ----->$ 830.0 TWD\n",
      "【@newone】CabinZero 登機包 軍用特別款 英國 輕旅 流行 後背包 褐 深藍 軍綠 黑 36L ----->$ 3128.0 TWD\n",
      "ST嚴選 CabinZero 登機包-[大.中.小] 英國輕旅登機後背包 大容量 10年保固  灰色 ----->$ 2580.0 TWD\n",
      "S H C-🇬🇧英國 cabinzero 36L 軍用款限量特殊色 卡其 深藍 共兩色 旅行後背包 休閒背包 ----->$ 3680.0 TWD\n",
      "sonia_usa_korea-嚴選正品快速出貨 🇬🇧英國 cabin zero 登機包 後背包 旅行包 雙肩包 ----->$ 2580.0 TWD\n",
      "阿胖正品---現貨 CabinZero 登機包 大容量- 軍用特別款 深藍 44L英國 輕旅 登機 後背包 ----->$ 3080.0 TWD\n",
      "毛仔嚴選 CabinZero 登機包-[大] 44L 英國輕旅登機後背包 大容量 10年保固 沙漠黃 另有[小]跟[中] ----->$ 2580.0 TWD\n",
      "（全新）英國cabinzero防水後背包 ----->$ 1790.0 TWD\n",
      "CabinZero Pro 42L 黑色 ----->$ 4500.0 TWD\n",
      "【@newone】CabinZero 登機包 軍用特別款 英國 輕旅 流行 後背包 黑色 44L ----->$ 3298.0 TWD\n",
      "cabinzero classic 44L 後背包 ----->$ 2000.0 TWD\n",
      "全新【CabinZero】英國輕旅登機後背包 36L - 冰河灰 ----->$ 2100.0 TWD\n",
      "CabinZero 登機包 軍用特別款 英國 輕旅 流行 後背包 黑色 44L 四色可選 ----->$ 3200.0 TWD\n",
      "全新含吊牌【CabinZero】英國輕旅登機後背包36L-午夜黑 ----->$ 2100.0 TWD\n",
      "ST嚴選 CabinZero 登機包  英國輕旅登機後背包  大容量 10年保固 全新含吊 另有鯨魚藍 ----->$ 2180.0 TWD\n",
      "sonia_usa_korea-25年保固 CABIN ZERO 登機包 黑 綠 44L超大容量 英國 後背包 ----->$ 3900.0 TWD\n",
      "阿胖正品---現貨 CabinZero  登機包 大容量-冰河灰-44L 英國 輕旅 登機 後背包 ----->$ 2560.0 TWD\n",
      "【@newone】CabinZero 登機包 軍用特別款 英國 輕旅 流行 後背包 綠色 44L ----->$ 3298.0 TWD\n",
      "毛仔嚴選 CabinZero 登機包-[大] 44L 英國輕旅登機後背包 大容量 10年保固 午夜黑 另有[小]跟[中] ----->$ 2580.0 TWD\n",
      "阿胖正品---現貨 CabinZero 登機包 大容量-鯨魚藍- 28L 英國 輕旅 登機 後背包 ----->$ 2160.0 TWD\n",
      "【加也】Cabinzero 英國輕旅登機後背包 44L ----->$ 2580.0 TWD\n",
      "【@newone】CabinZero 登機包 英國 輕旅 流行 後背包 大 中 小 灰色 ----->$ 2198.0 TWD\n",
      "毛仔嚴選 CabinZero 登機包-[大] 44L 英國輕旅登機後背包 大容量 10年保固 鯨魚藍 另有[小]跟[中] ----->$ 2580.0 TWD\n",
      "阿胖正品--- 現貨 CabinZero 登機包 軍用特別款(綠) 36L 44L 英國 輕旅 登機 後背包 ----->$ 2910.0 TWD\n",
      "【加也】Cabinzero 英國輕旅登機後背包 36L ----->$ 2450.0 TWD\n",
      "【@newone】CabinZero 登機包 英國 輕旅 流行 後背包 大 中 小 藍色 ----->$ 2198.0 TWD\n",
      "CabinZero NBA 馬刺 球隊 LOGO 棒球外套 飛行夾克 防風 ----->$ 2760.0 TWD\n",
      "毛仔嚴選 CabinZero 登機包-[大] 44L 英國輕旅登機後背包 大容量 10年保固 火鶴紅 另有[小]跟[中] ----->$ 2580.0 TWD\n",
      "阿胖正品---現貨 CabinZero 登機包 大容量 英國 輕旅 登機 登機 後背包36L - 芥末黃 ----->$ 2560.0 TWD\n",
      "【@newone】CabinZero 登機包 英國 輕旅 流行 後背包 大 中 小 黑色 ----->$ 2198.0 TWD\n",
      "ST嚴選 CabinZero 登機包 軍用特別款 44L 英國輕旅登機後背包 大容量 綠 ----->$ 3280.0 TWD\n",
      "毛仔嚴選 CabinZero 登機包-[中] 36L 英國輕旅登機後背包 大容量 10年保固 冰河灰 另有[小]跟[大] ----->$ 2450.0 TWD\n",
      "阿胖正品---現貨 CabinZero 登機包 大容量 英國 輕旅 登機 後背包 36L - 西班牙香草粉 ----->$ 2560.0 TWD\n",
      "【加也】Cabinzero 軍規版 英國輕旅登機後背包、旅行包 28L ----->$ 2870.0 TWD\n",
      "【@newone】CabinZero 登機包 英國 輕旅 流行 後背包 大 中 小 迷彩 ----->$ 2198.0 TWD\n",
      "毛仔嚴選 CabinZero 登機包-[中] 36L 英國輕旅登機後背包 大容量 10年保固 城市迷彩另有[小]跟[大] ----->$ 2450.0 TWD\n",
      "阿胖正品--現貨 CabinZero 英國 輕旅 登機 後背包 12L  沙漠黃 黑 ----->$ 1380.0 TWD\n",
      "【加也】Cabinzero Classic Pro 英國專業登機後背包 旅用包 42L 英國品牌 十年保固 ----->$ 4190.0 TWD\n",
      "【@newone】CabinZero 登機包 英國 輕旅 流行 後背包 大 中 小 黃色 ----->$ 2198.0 TWD\n",
      "ST嚴選 CabinZero 登機包 中款 36L 軍用特別款 英國輕旅登機後背包 大容量 後背包 黑色 ----->$ 2480.0 TWD\n",
      "毛仔嚴選 CabinZero 登機包-[中] 36L 英國輕旅登機後背包 大容量 10年保固 午夜黑 另有[小]跟[大] ----->$ 2450.0 TWD\n",
      "阿胖正品--現貨 CabinZero 登機包 大容量軍用特別款(淺褐) 28L英國 輕旅 登機 後背包 ----->$ 2830.0 TWD\n",
      "【加也】CabinZero 英國輕旅登機後背包12L ----->$ 1390.0 TWD\n",
      "【@newone】CabinZero 登機包 英國 輕旅 流行 後背包 大 中 小 紅色 ----->$ 2198.0 TWD\n",
      "毛仔嚴選 CabinZero 登機包-[中] 36L 英國輕旅登機後背包 大容量 10年保固 沙漠黃 另有[小]跟[大] ----->$ 2450.0 TWD\n",
      "阿胖正品--現貨 CabinZero  登機包 大容量 軍用特別款(灰) 28L 英國 輕旅 登機 後背包 ----->$ 2830.0 TWD\n",
      "毛仔嚴選 CabinZero 登機包-[中] 36L 英國輕旅登機後背包 大容量 10年保固 鯨魚藍 另有[小]跟[大] ----->$ 2450.0 TWD\n",
      "阿胖正品---現貨 CabinZero 登機包 大容量- 軍用特別款 卡其 44L英國 輕旅 登機 後背包 ----->$ 3080.0 TWD\n",
      "毛仔嚴選 CabinZero 登機包-[中] 36L 英國輕旅登機後背包 大容量 10年保固 火鶴紅 另有[小]跟[大] ----->$ 2450.0 TWD\n",
      "阿胖正品---現貨 CabinZero  登機包 大容量- 軍用特別款 深藍 36L英國 輕旅 登機 後背包 ----->$ 2910.0 TWD\n",
      "毛仔嚴選 CabinZero 登機包-[小] 28L 英國輕旅登機後背包 大容量 10年保固 冰河灰 另有[中]跟[大] ----->$ 2180.0 TWD\n",
      "阿胖正品-現貨 CabinZero  正品公司 代理 登機包 登山包 運動包 休閒包 旅行包 背包客 25年保固 ----->$ 2560.0 TWD\n",
      "毛仔嚴選 CabinZero 登機包-[小] 28L 英國輕旅登機後背包 大容量 10年保固 沙漠黃 另有[中]跟[大] ----->$ 2180.0 TWD\n",
      "毛仔嚴選 CabinZero 登機包-[小] 28L 英國輕旅登機後背包 大容量 午夜黑 另有[中]跟[大] ----->$ 2180.0 TWD\n",
      "阿胖正品--現貨 CabinZero  登機包 大容量-冰河灰-36L 英國 輕旅 登機 後背包 ----->$ 2410.0 TWD\n",
      "毛仔嚴選 CabinZero 登機包-[小] 28L 英國輕旅登機後背包 大容量 10年保固 鯨魚藍 另有[中]跟[大] ----->$ 2180.0 TWD\n",
      "阿胖正品---現貨 CabinZero 登機包 大容量-冰河灰  28L 英國 輕旅 登機 後背包 ----->$ 2160.0 TWD\n",
      "毛仔嚴選 CabinZero 登機包-[小] 28L 英國輕旅登機後背包 大容量 10年保固 火鶴紅 另有[中]跟[大] ----->$ 2180.0 TWD\n",
      "阿胖正品--- 現貨 CabinZero 登機包 大容量火鶴紅 44L 英國 輕旅 登機 後背包 ----->$ 2560.0 TWD\n",
      "毛仔嚴選 CabinZero 登機包-[小] 28L 英國輕旅登機後背包 大容量 10年保固 公主藍 ----->$ 2180.0 TWD\n",
      "阿胖正品---現貨 CabinZero 登機包 大容量 沙漠黃 36L 英國 輕旅 登機 後背包 ----->$ 2410.0 TWD\n",
      "毛仔嚴選 CabinZero 登機包-[小] 28L 英國輕旅登機後背包 大容量 10年保固 皇后紫 ----->$ 2180.0 TWD\n",
      "阿胖正品-- 現貨 CabinZero 登機包 大容量 火鶴紅36L 英國 輕旅 登機 後背包 ----->$ 2410.0 TWD\n",
      "毛仔嚴選 CabinZero 登機包-[小] 28L 英國輕旅登機後背包 大容量 迷彩 10年保固 另有[中]跟[大] ----->$ 2180.0 TWD\n",
      "阿胖正品--- 現貨 CabinZero  登機包 大容量-鯨魚藍 44L 英國 輕旅 登機 後背包 ----->$ 2560.0 TWD\n",
      "阿胖正品---現貨 CabinZero 登機包 大容量 午夜黑 36L 英國 輕旅 登機 後背包 ----->$ 2410.0 TWD\n",
      "阿胖正品---現貨 CabinZero  登機包 大容量-城市迷彩-36L 英國 輕旅 登機 後背包 ----->$ 2410.0 TWD\n",
      "【毛仔嚴選】CabinZero 登機包 軍用特別款 36L 英國輕旅登機後背包 大容量 褐 另有44L ----->$ 3120.0 TWD\n",
      "阿胖正品---現貨 CabinZero  登機包 大容量-午夜黑-44L 英國 輕旅 登機 後背包 ----->$ 2560.0 TWD\n",
      "【毛仔嚴選】CabinZero 登機包 軍用特別款 36L 英國輕旅登機後背包 大容量 藍 另有44L ----->$ 3120.0 TWD\n",
      "阿胖正品--現貨 CabinZero 登機包 大容量- 午夜黑 28L 英國 輕旅 登機 後背包 ----->$ 2150.0 TWD\n",
      "阿胖正品---現貨 CABINZERO 風格單肩包 腰包 旅行  隨身包 ----->$ 820.0 TWD\n",
      "阿胖正品---現貨 CabinZero  登機包 大容量-火鶴紅 - 28L 英國 輕旅 登機 後背包 ----->$ 2160.0 TWD\n",
      "阿胖正品--現貨 CabinZero 登機包 大容量- 城市迷彩 28L 英國 輕旅登機 後背包 ----->$ 2160.0 TWD\n",
      "阿胖正品--現貨 CabinZero  登機包 大容量- 沙漠黃- 28L 英國 輕旅 登機 後背包 ----->$ 2160.0 TWD\n",
      "阿胖正品---現貨 CabinZero  登機包 大容量-沙漠黃 44L 英國 輕旅 登機 後背包 ----->$ 2560.0 TWD\n",
      "阿胖正品---現貨 CabinZero  登機包 大容量- 城市迷彩 44L 英國 輕旅 登機 後背包 ----->$ 2560.0 TWD\n",
      "阿胖正品---現貨 CabinZero  登機包 大容量- 鯨魚藍-36L 英國 輕旅 登機 後背包 ----->$ 2410.0 TWD\n",
      "ST嚴選 CabinZero 登機包-[大.中.小] 英國輕旅登機後背包 大容量 10年保固 迷彩 ----->$ 2180.0 TWD\n",
      "㊣S H C-🇬🇧英國 cabinzero 36L 軍用款限量特殊色 卡其 深藍 共兩色 旅行後背包 休閒背包290 ----->$ 3310.0 TWD\n",
      "【加也】Cabinzero 軍規版 英國輕旅登機後背包、旅行包 36L ----->$ 2920.0 TWD\n",
      "ST嚴選CabinZero 登機包 軍用特別款 44L 英國輕旅登機後背包 大容量 三色 綠 黑 ----->$ 2500.0 TWD\n",
      "【加也】Cabinzero 英國輕旅登機後背包 28L ----->$ 2180.0 TWD\n",
      "ST嚴選 CabinZero 登機包-[大.中.小] 英國輕旅登機後背包 大容量 10年保固 鯨魚藍 另有黑色 ----->$ 2180.0 TWD\n",
      "【毛仔嚴選】CabinZero 登機包 軍用特別款 44L 英國輕旅登機後背包 大容量 四色 綠 黑 沙漠 藍另有36L ----->$ 3280.0 TWD\n"
     ]
    }
   ],
   "source": [
    "for i in range(3):\n",
    "    url = f'https://shopee.tw/api/v2/search_items/?by=relevancy&keyword={text}&limit=50&newest={i*50}&order=desc&page_type=search&version=2'\n",
    "    r = requests.get(url, headers=headers)\n",
    "    shopee_items = r.json()['items']\n",
    "    for item in shopee_items:\n",
    "        print(item['name'], '----->$', item['price']/1e5, item['currency'])"
   ]
  },
  {
   "cell_type": "markdown",
   "metadata": {},
   "source": [
    "## 使用 selenium (Chrome) 虛擬瀏覽器\n",
    "* 獲取最後獲得的原始碼"
   ]
  },
  {
   "cell_type": "code",
   "execution_count": 8,
   "metadata": {},
   "outputs": [],
   "source": [
    "# 打開瀏覽器(檔案位置)\n",
    "chrome = webdriver.Chrome('/home/sppool/.local/share/chromedriver')"
   ]
  },
  {
   "cell_type": "code",
   "execution_count": 9,
   "metadata": {},
   "outputs": [],
   "source": [
    "text = 'cabinzero'\n",
    "url = f'https://shopee.tw/search?keyword={text}'\n",
    "chrome.get(url)\n",
    "\n",
    "# 網站需要讀取的時間\n",
    "time.sleep(2)"
   ]
  },
  {
   "cell_type": "markdown",
   "metadata": {},
   "source": [
    "### 只有15筆資料 (因為有些資料需要捲動到下面才會下載)"
   ]
  },
  {
   "cell_type": "code",
   "execution_count": 10,
   "metadata": {},
   "outputs": [
    {
     "name": "stdout",
     "output_type": "stream",
     "text": [
      "1 : Cabin Zero 免Check-in 防水背囊 44L ----> $2,499\n",
      "2 : 【@newone】CabinZero 登機包 軍用特別款 英國 輕旅 流行 後背包 褐 深藍 軍綠 黑 36L ----> $3,128\n",
      "3 : 【加也】Cabinzero 軍規版 英國輕旅登機後背包 旅行包 44L ----> $3,090\n",
      "4 : 【CabinZero】英國輕旅登機後背包44L - 鯨魚藍 只有一個售完不補 ----> $1,880\n",
      "5 : 阿胖正品---現貨 CABINZERO 登機包 大容量- 軍用特別款 (沙漠色)- 36L 英國 輕旅 登機 後背包 ----> $2,910\n",
      "6 : 阿胖正品---現貨 CabinZero 登機包 大容量- 軍用特別款 深藍 44L英國 輕旅 登機 後背包 ----> $3,080\n",
      "7 : 阿胖正品--現貨 CabinZero  登機包 大容量- 軍用特別款 (黑) 36L 44L 英國 輕旅 登機 後背包 ----> $3,080\n",
      "8 : Cabinzero 44L 登機包 ----> $2,000\n",
      "9 : 【CabinZero】英國輕旅登機後背包44L - 火鶴紅  只有一個售完不補 ----> $1,880\n",
      "10 : 【@newone】CabinZero 登機包 軍用特別款 英國 輕旅 流行 後背包 褐色 44L ----> $3,298\n",
      "11 : 【加也】Cabinzero HIPPACK 腰包 2L ----> $830\n",
      "12 : 毛仔嚴選 CabinZero 登機包-[大] 44L 英國輕旅登機後背包 大容量 10年保固 冰河灰 另有[小]跟[中] ----> $2,580\n",
      "13 : Cabinzero全新防水包 附黑色收納包 ----> $1,699\n",
      "14 : 毛仔嚴選 CabinZero 登機包-[大] 44L 英國輕旅登機後背包 大容量 10年保固 沙漠黃 另有[小]跟[中] ----> $2,580\n",
      "15 : sonia_usa_korea-嚴選正品快速出貨 🇬🇧英國 cabin zero 登機包 後背包 旅行包 雙肩包 ----> $3,080\n"
     ]
    }
   ],
   "source": [
    "soup = bs4.BeautifulSoup(chrome.page_source, \"html.parser\")\n",
    "n = 0\n",
    "for tag in soup.select('a[data-sqe=\"link\"]'):\n",
    "    n += 1\n",
    "    name = tag.select('div[data-sqe=\"name\"]')[0].div.get_text()\n",
    "    price = tag.select('span')[-1].get_text()\n",
    "    print(f'{n} : {name} ----> ${price}')"
   ]
  },
  {
   "cell_type": "markdown",
   "metadata": {},
   "source": [
    "### [滾動視窗](https://selenium-python.readthedocs.io/faq.html#how-to-scroll-down-to-the-bottom-of-a-page)\n",
    "* 瀏覽器要保持最大寬度, 有些連結才能順利打開\n",
    "* javascript: `window.scrollTo(x, y)`"
   ]
  },
  {
   "cell_type": "code",
   "execution_count": 11,
   "metadata": {},
   "outputs": [],
   "source": [
    "# 藉由滾動讀取所有的資料\n",
    "for i in range(0, 4):\n",
    "    chrome.execute_script(f\"window.scrollTo(250, {i*1000});\")\n",
    "    time.sleep(1)"
   ]
  },
  {
   "cell_type": "code",
   "execution_count": 13,
   "metadata": {
    "scrolled": true
   },
   "outputs": [
    {
     "name": "stdout",
     "output_type": "stream",
     "text": [
      "1 : Cabin Zero 免Check-in 防水背囊 44L ----> $2,499\n",
      "2 : 【@newone】CabinZero 登機包 軍用特別款 英國 輕旅 流行 後背包 褐 深藍 軍綠 黑 36L ----> $3,128\n",
      "3 : 【加也】Cabinzero 軍規版 英國輕旅登機後背包 旅行包 44L ----> $3,090\n",
      "4 : 【CabinZero】英國輕旅登機後背包44L - 鯨魚藍 只有一個售完不補 ----> $1,880\n",
      "5 : 阿胖正品---現貨 CABINZERO 登機包 大容量- 軍用特別款 (沙漠色)- 36L 英國 輕旅 登機 後背包 ----> $2,910\n",
      "6 : 阿胖正品---現貨 CabinZero 登機包 大容量- 軍用特別款 深藍 44L英國 輕旅 登機 後背包 ----> $3,080\n",
      "7 : 阿胖正品--現貨 CabinZero  登機包 大容量- 軍用特別款 (黑) 36L 44L 英國 輕旅 登機 後背包 ----> $3,080\n",
      "8 : Cabinzero 44L 登機包 ----> $2,000\n",
      "9 : 【CabinZero】英國輕旅登機後背包44L - 火鶴紅  只有一個售完不補 ----> $1,880\n",
      "10 : 【@newone】CabinZero 登機包 軍用特別款 英國 輕旅 流行 後背包 褐色 44L ----> $3,298\n",
      "11 : 【加也】Cabinzero HIPPACK 腰包 2L ----> $830\n",
      "12 : 毛仔嚴選 CabinZero 登機包-[大] 44L 英國輕旅登機後背包 大容量 10年保固 冰河灰 另有[小]跟[中] ----> $2,580\n",
      "13 : Cabinzero全新防水包 附黑色收納包 ----> $1,699\n",
      "14 : 毛仔嚴選 CabinZero 登機包-[大] 44L 英國輕旅登機後背包 大容量 10年保固 沙漠黃 另有[小]跟[中] ----> $2,580\n",
      "15 : sonia_usa_korea-嚴選正品快速出貨 🇬🇧英國 cabin zero 登機包 後背包 旅行包 雙肩包 ----> $3,080\n",
      "16 : 【@newone】CabinZero 登機包 英國 輕旅 流行 後背包 大 中 小 紅色 ----> $2,618\n",
      "17 : 【@newone】CabinZero 登機包 英國 輕旅 流行 後背包 大 中 小 黑色 ----> $2,618\n",
      "18 : 阿胖正品--現貨 CabinZero  登機包 大容量- 沙漠黃- 28L 英國 輕旅 登機 後背包 ----> $2,160\n",
      "19 : 【@newone】CabinZero 登機包 英國 輕旅 流行 後背包 大 中 小 藍色 ----> $2,618\n",
      "20 : 阿胖正品---現貨 CabinZero  登機包 大容量-午夜黑-44L 英國 輕旅 登機 後背包 ----> $2,560\n",
      "21 : 毛仔嚴選 CabinZero 登機包-[中] 36L 英國輕旅登機後背包 大容量 10年保固 沙漠黃 另有[小]跟[大] ----> $2,450\n",
      "22 : 阿胖正品---現貨 CabinZero 登機包 大容量 午夜黑 36L 英國 輕旅 登機 後背包 ----> $2,410\n",
      "23 : 【加也】Cabinzero 英國輕旅登機後背包 44L ----> $2,580\n",
      "24 : 阿胖正品--- 現貨 CabinZero 登機包 軍用特別款(綠) 36L 44L 英國 輕旅 登機 後背包 ----> $3,080\n",
      "25 : 阿胖正品---現貨 CabinZero  登機包 大容量- 城市迷彩 44L 英國 輕旅 登機 後背包 ----> $2,560\n"
     ]
    }
   ],
   "source": [
    "soup = bs4.BeautifulSoup(chrome.page_source, \"html.parser\")\n",
    "n = 0\n",
    "for tag in soup.select('a[data-sqe=\"link\"]'):\n",
    "    n += 1\n",
    "    name = tag.select('div[data-sqe=\"name\"]')[0].div.get_text()\n",
    "    price = tag.select('span')[-1].get_text()\n",
    "    print(f'{n} : {name} ----> ${price}')"
   ]
  },
  {
   "cell_type": "code",
   "execution_count": 14,
   "metadata": {},
   "outputs": [],
   "source": [
    "chrome.quit()"
   ]
  },
  {
   "cell_type": "code",
   "execution_count": null,
   "metadata": {},
   "outputs": [],
   "source": []
  }
 ],
 "metadata": {
  "kernelspec": {
   "display_name": "Python 3",
   "language": "python",
   "name": "python3"
  },
  "language_info": {
   "codemirror_mode": {
    "name": "ipython",
    "version": 3
   },
   "file_extension": ".py",
   "mimetype": "text/x-python",
   "name": "python",
   "nbconvert_exporter": "python",
   "pygments_lexer": "ipython3",
   "version": "3.7.3"
  }
 },
 "nbformat": 4,
 "nbformat_minor": 2
}
