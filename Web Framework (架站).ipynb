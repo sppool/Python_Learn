{
 "cells": [
  {
   "cell_type": "markdown",
   "metadata": {},
   "source": [
    "### Bottle --- Anaconda 內沒有整理( pip install bottle )"
   ]
  },
  {
   "cell_type": "raw",
   "metadata": {},
   "source": [
    "from bottle import route, run, static_file"
   ]
  },
  {
   "cell_type": "raw",
   "metadata": {},
   "source": [
    "# test\n",
    "@route('/')\n",
    "def home():\n",
    "    return 'Hello Wlord'\n",
    "\n",
    "run(host='localhost', port=9999)"
   ]
  },
  {
   "cell_type": "raw",
   "metadata": {},
   "source": [
    "# 由 html檔案提供網頁\n",
    "@route('/')\n",
    "def main():\n",
    "    return static_file('index.html', root='.') # 檔案的位置root = ./ 的意思\n",
    "\n",
    "run(host='localhost', port=9999)"
   ]
  },
  {
   "cell_type": "raw",
   "metadata": {},
   "source": [
    "# 網頁引數\n",
    "@route('/')\n",
    "def home():\n",
    "    return static_file('index.html', root='.') # 檔案的位置root = ./ 的意思\n",
    "\n",
    "@route('/echo/<thing>')\n",
    "def echo(thing):\n",
    "    return 'Say hi to mt friend: %s'%thing \n",
    "\n",
    "run(host='localhost', port=9999)\n",
    "# keyin \"http://localhost:9999/echo/pool\" in Chrome"
   ]
  },
  {
   "cell_type": "markdown",
   "metadata": {},
   "source": [
    "### Flask"
   ]
  },
  {
   "cell_type": "raw",
   "metadata": {},
   "source": [
    "from flask import Flask"
   ]
  },
  {
   "cell_type": "raw",
   "metadata": {},
   "source": [
    "# Hello Flask\n",
    "app = Flask(__name__)\n",
    "\n",
    "@app.route('/')\n",
    "def root():\n",
    "    return '<h1>Hello Flask</h1>'\n",
    "\n",
    "app.run()"
   ]
  },
  {
   "cell_type": "raw",
   "metadata": {},
   "source": [
    "# 網頁引數\n",
    "app = Flask(__name__, static_folder='.', static_url_path='')\n",
    "\n",
    "@app.route('/')\n",
    "def home():\n",
    "    return app.send_static_file('index.html')\n",
    "\n",
    "@app.route('/echo/<thing>') # <thing> 任意string\n",
    "def echo(thing):\n",
    "    return 'Say hi to mt friend: %s'%thing \n",
    "\n",
    "app.run(port=9999)\n",
    "\n",
    "# keyin \"http://localhost:9999/echo/pool\" in Chrome"
   ]
  }
 ],
 "metadata": {
  "kernelspec": {
   "display_name": "Python 3",
   "language": "python",
   "name": "python3"
  },
  "language_info": {
   "codemirror_mode": {
    "name": "ipython",
    "version": 3
   },
   "file_extension": ".py",
   "mimetype": "text/x-python",
   "name": "python",
   "nbconvert_exporter": "python",
   "pygments_lexer": "ipython3",
   "version": "3.7.3"
  }
 },
 "nbformat": 4,
 "nbformat_minor": 2
}
