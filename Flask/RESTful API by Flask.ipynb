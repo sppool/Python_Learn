{
 "cells": [
  {
   "cell_type": "markdown",
   "metadata": {},
   "source": [
    "# RESTful API\n",
    "* [參考資料1](http://www.pythondoc.com/flask-restful/first.html)\n",
    "* [參考資料2](https://blog.taiker.space/python-shi-yong-python-he-flask-she-ji-restful-api/)\n",
    "* [參考資料3](https://medium.com/%E4%B8%80%E5%80%8B%E4%BA%BA%E7%9A%84%E6%96%87%E8%97%9D%E5%BE%A9%E8%88%88/python-flask-rest-api%E7%AD%86%E8%A8%98-869c3d2fee3)\n",
    "* [參考資料4](https://medium.com/@twilightlau94/rest-apis-with-flask-%E7%B3%BB%E5%88%97%E6%95%99%E5%AD%B8%E6%96%87-1-5405216d3166)\n",
    "\n",
    "|mathod|/|\n",
    "|:---|:---|\n",
    "|GET   |取得資料|\n",
    "|POST  |新增資料|\n",
    "|PUT   |更新資料|\n",
    "|DELETE|刪除資料|"
   ]
  },
  {
   "cell_type": "markdown",
   "metadata": {},
   "source": [
    "## GET"
   ]
  },
  {
   "cell_type": "code",
   "execution_count": 1,
   "metadata": {
    "scrolled": true
   },
   "outputs": [
    {
     "name": "stdout",
     "output_type": "stream",
     "text": [
      " * Serving Flask app \"__main__\" (lazy loading)\n",
      " * Environment: production\n",
      "   WARNING: This is a development server. Do not use it in a production deployment.\n",
      "   Use a production WSGI server instead.\n",
      " * Debug mode: off\n"
     ]
    },
    {
     "name": "stderr",
     "output_type": "stream",
     "text": [
      " * Running on http://127.0.0.1:5000/ (Press CTRL+C to quit)\n"
     ]
    }
   ],
   "source": [
    "from flask import Flask, jsonify, abort, make_response, request\n",
    "app = Flask(__name__) #__name__ 代表目前執行的模組\n",
    "\n",
    "tasks = [{'id': 1,\n",
    "          'title': u'Buy groceries',\n",
    "          'description': u'Milk, Cheese, Pizza, Fruit, Tylenol',\n",
    "          'done': False},\n",
    "         {'id': 2,\n",
    "          'title': u'Learn Python',\n",
    "          'description': u'Need to find a good Python tutorial on the web',\n",
    "          'done': False}]\n",
    "\n",
    "@app.route('/todo/api/v1.0/tasks', methods=['GET'])\n",
    "def get_tasks():\n",
    "    return jsonify({'tasks': tasks})\n",
    "\n",
    "if __name__ == '__main__':\n",
    "    app.run()"
   ]
  },
  {
   "cell_type": "markdown",
   "metadata": {},
   "source": [
    "### [http://127.0.0.1:5000/todo/api/v1.0/tasks](http://127.0.0.1:5000/todo/api/v1.0/tasks)\n",
    "\n",
    "在 Terminal 中使用 curl\n",
    "*  `curl -i http://127.0.0.1:5000/todo/api/v1.0/tasks`\""
   ]
  },
  {
   "cell_type": "code",
   "execution_count": 2,
   "metadata": {},
   "outputs": [
    {
     "name": "stdout",
     "output_type": "stream",
     "text": [
      " * Serving Flask app \"__main__\" (lazy loading)\n",
      " * Environment: production\n",
      "   WARNING: This is a development server. Do not use it in a production deployment.\n",
      "   Use a production WSGI server instead.\n",
      " * Debug mode: off\n"
     ]
    },
    {
     "name": "stderr",
     "output_type": "stream",
     "text": [
      " * Running on http://127.0.0.1:5000/ (Press CTRL+C to quit)\n"
     ]
    }
   ],
   "source": [
    "@app.route('/todo/api/v1.0/tasks/<int:task_id>', methods=['GET'])\n",
    "def get_task(task_id):\n",
    "    func = lambda t: t['id'] == task_id\n",
    "    task = list(filter(func, tasks)) # filter 需要序列化！\n",
    "    if len(task) == 0:\n",
    "        abort(404)\n",
    "    return jsonify({'task': task[0]})\n",
    "\n",
    "app.run()"
   ]
  },
  {
   "cell_type": "markdown",
   "metadata": {},
   "source": [
    "* [http://127.0.0.1:5000/todo/api/v1.0/tasks/1](http://127.0.0.1:5000/todo/api/v1.0/tasks/1)\n",
    "* `curl -i http://127.0.0.1:5000/todo/api/v1.0/tasks/1`\n",
    "* [http://127.0.0.1:5000/todo/api/v1.0/tasks/2](http://127.0.0.1:5000/todo/api/v1.0/tasks/2)\n",
    "* `curl -i http://127.0.0.1:5000/todo/api/v1.0/tasks/2`"
   ]
  },
  {
   "cell_type": "markdown",
   "metadata": {},
   "source": [
    "### 自己寫錯誤代碼"
   ]
  },
  {
   "cell_type": "code",
   "execution_count": 3,
   "metadata": {},
   "outputs": [
    {
     "name": "stdout",
     "output_type": "stream",
     "text": [
      " * Serving Flask app \"__main__\" (lazy loading)\n",
      " * Environment: production\n",
      "   WARNING: This is a development server. Do not use it in a production deployment.\n",
      "   Use a production WSGI server instead.\n",
      " * Debug mode: off\n"
     ]
    },
    {
     "name": "stderr",
     "output_type": "stream",
     "text": [
      " * Running on http://127.0.0.1:5000/ (Press CTRL+C to quit)\n"
     ]
    }
   ],
   "source": [
    "@app.errorhandler(404)\n",
    "def not_found(error):\n",
    "    return make_response(jsonify({'error': 'Not found'}), 404)\n",
    "\n",
    "app.run()"
   ]
  },
  {
   "cell_type": "markdown",
   "metadata": {},
   "source": [
    "* [http://127.0.0.1:5000/todo/api/v1.0/tasks/3](http://127.0.0.1:5000/todo/api/v1.0/tasks/3)\n",
    "* `curl -i http://127.0.0.1:5000/todo/api/v1.0/tasks/3`"
   ]
  },
  {
   "cell_type": "markdown",
   "metadata": {},
   "source": [
    "## POST"
   ]
  },
  {
   "cell_type": "code",
   "execution_count": 4,
   "metadata": {},
   "outputs": [
    {
     "name": "stdout",
     "output_type": "stream",
     "text": [
      " * Serving Flask app \"__main__\" (lazy loading)\n",
      " * Environment: production\n",
      "   WARNING: This is a development server. Do not use it in a production deployment.\n",
      "   Use a production WSGI server instead.\n",
      " * Debug mode: off\n"
     ]
    },
    {
     "name": "stderr",
     "output_type": "stream",
     "text": [
      " * Running on http://127.0.0.1:5000/ (Press CTRL+C to quit)\n"
     ]
    }
   ],
   "source": [
    "@app.route('/todo/api/v1.0/tasks', methods=['POST'])\n",
    "def create_task():\n",
    "    if not request.json or not 'title' in request.json:\n",
    "        abort(400)\n",
    "    task = {\n",
    "        'id': tasks[-1]['id'] + 1,\n",
    "        'title': request.json['title'],\n",
    "        'description': request.json.get('description', \"\"),\n",
    "        'done': False\n",
    "    }\n",
    "    tasks.append(task)\n",
    "    return jsonify({'task': task}), 201\n",
    "\n",
    "app.run()"
   ]
  },
  {
   "cell_type": "markdown",
   "metadata": {},
   "source": [
    "* `curl -i -H \"Content-Type: application/json\" -X POST -d '{\"title\":\"Read a book\"}' http://localhost:5000/todo/api/v1.0/tasks`"
   ]
  },
  {
   "cell_type": "code",
   "execution_count": 5,
   "metadata": {},
   "outputs": [
    {
     "name": "stdout",
     "output_type": "stream",
     "text": [
      " * Serving Flask app \"__main__\" (lazy loading)\n",
      " * Environment: production\n",
      "   WARNING: This is a development server. Do not use it in a production deployment.\n",
      "   Use a production WSGI server instead.\n",
      " * Debug mode: off\n"
     ]
    },
    {
     "name": "stderr",
     "output_type": "stream",
     "text": [
      " * Running on http://127.0.0.1:5000/ (Press CTRL+C to quit)\n"
     ]
    }
   ],
   "source": [
    "app.run()"
   ]
  },
  {
   "cell_type": "code",
   "execution_count": null,
   "metadata": {},
   "outputs": [],
   "source": []
  }
 ],
 "metadata": {
  "kernelspec": {
   "display_name": "Python 3",
   "language": "python",
   "name": "python3"
  },
  "language_info": {
   "codemirror_mode": {
    "name": "ipython",
    "version": 3
   },
   "file_extension": ".py",
   "mimetype": "text/x-python",
   "name": "python",
   "nbconvert_exporter": "python",
   "pygments_lexer": "ipython3",
   "version": "3.7.3"
  }
 },
 "nbformat": 4,
 "nbformat_minor": 2
}
