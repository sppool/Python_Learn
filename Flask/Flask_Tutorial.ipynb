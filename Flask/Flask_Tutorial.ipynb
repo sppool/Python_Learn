{
 "cells": [
  {
   "cell_type": "markdown",
   "metadata": {},
   "source": [
    "# Flask\n",
    "[https://flask.palletsprojects.com/en/1.1.x/](https://flask.palletsprojects.com/en/1.1.x/)\n",
    "### 起手式 ([QuickStart](https://flask.palletsprojects.com/en/1.1.x/quickstart/#quickstart))\n",
    "儲存檔案的時候不能使用`flask.py`, 和flask模組產生衝突"
   ]
  },
  {
   "cell_type": "code",
   "execution_count": 1,
   "metadata": {},
   "outputs": [],
   "source": [
    "from flask import Flask, request, session, url_for, redirect, render_template, flash\n",
    "app = Flask(__name__) #__name__ 代表目前執行的模組"
   ]
  },
  {
   "cell_type": "markdown",
   "metadata": {},
   "source": [
    "### [Flask - Config](https://zhuanlan.zhihu.com/p/24055329?refer=flask):\n",
    "\n",
    "* app.config['key'] 設定是以字典形式\n",
    "* [所有設定參數](https://flask.palletsprojects.com/en/1.1.x/config/?highlight=update)\n",
    "* 設定的方式:\n",
    "\n",
    "|/|code|\n",
    "|---|---|\n",
    "|直接設定|`app.debug = True`|\n",
    "|字典設定|`app.config['DEBUG'] = True`|\n",
    "|update 多個設定|`app.config.update(DEBUG=True, ...)`|\n",
    "\n",
    "* 使用單獨文件 config.py:\n",
    "```python\n",
    "SECRET_KEY = 'some secret words'\n",
    "DEBUG = True\n",
    "ITEMS_PER_PAGE = 10\n",
    "```\n",
    "\n",
    "* app.py:\n",
    "```python\n",
    "import config\n",
    "...\n",
    "app = Flask(__name__)\n",
    "# 兩種導入方式(擇一)\n",
    "app.config.from_object(config) \n",
    "app.config.from_pyfile('config.py')\n",
    "...\n",
    "```\n",
    "\n",
    "### app.debug=True (預設False)\n",
    "主要是執行錯誤時會導入語法錯誤協助開發, 否則只是顯示(HTTP 500 Internal Server Error)  \n",
    "在True情況下, 程式碼的異動會觸發專案重新啟動, 你不需要每次重新執行, 這無形之中替開發人員節省了很多開關的時間\n",
    ">* 必須加上標頭 `#! /usr/bin/env python3`才能使用app.debug功能！\n",
    "* 另外需要為文件加上執行權限 terminal中輸入:`chmod +x filename`\n",
    "* jupyter 不能順利執行 app.debug\n",
    "* 在正式環境中一定設置 False"
   ]
  },
  {
   "cell_type": "code",
   "execution_count": 2,
   "metadata": {
    "scrolled": true
   },
   "outputs": [
    {
     "name": "stdout",
     "output_type": "stream",
     "text": [
      " * Serving Flask app \"__main__\" (lazy loading)\n",
      " * Environment: production\n",
      "   WARNING: This is a development server. Do not use it in a production deployment.\n",
      "   Use a production WSGI server instead.\n",
      " * Debug mode: off\n"
     ]
    },
    {
     "name": "stderr",
     "output_type": "stream",
     "text": [
      " * Running on http://127.0.0.1:5000/ (Press CTRL+C to quit)\n"
     ]
    }
   ],
   "source": [
    "@app.route('/') # route()裝飾器將函式綁定URL\n",
    "def index():\n",
    "    return 'Home Page'\n",
    "\n",
    "@app.route('/hello')\n",
    "def hello(): # 基本上是回傳文本當然也可以是html!\n",
    "    return '<title>Hello Flask</title>\\\n",
    "    <h1><i>Hello Flask.</i></h1><hr>\\\n",
    "    <img src=\"https://flask.palletsprojects.com/en/1.1.x/_images/flask-logo.png\" alt=\"\">'\n",
    "\n",
    "if __name__ == '__main__': # 主程式檢查\n",
    "    #app.debug = True # debug功能\n",
    "    app.run() # 執行！"
   ]
  },
  {
   "cell_type": "markdown",
   "metadata": {},
   "source": [
    "### @route( )裝飾器 將函式綁定URL\n",
    ">[http://127.0.0.1:5000/](http://127.0.0.1:5000/)  \n",
    "[http://127.0.0.1:5000/hello](http://127.0.0.1:5000/hello)\n",
    "\n",
    "#### 範例: \"/hello\"\n",
    "><h1><i>Hello Flask.</i></h1>\n",
    "><hr>\n",
    "><img src=\"https://flask.palletsprojects.com/en/1.1.x/_images/flask-logo.png\" alt=\"\">\n",
    "\n",
    "### URL Variable Rules 網址變數規則 (/varname)\n",
    ">\n",
    ">\n",
    ">|Converter types:| |\n",
    ">|---|---|\n",
    ">|string (預設 沒有'/'字串)|(default) accepts any text without a slash|\n",
    ">|int|accepts positive integers|\n",
    ">|float|accepts positive floating point values|\n",
    ">|path (可以有'/')|like string but also accepts slashes|\n",
    ">|uuid|accepts UUID string|"
   ]
  },
  {
   "cell_type": "code",
   "execution_count": 3,
   "metadata": {},
   "outputs": [
    {
     "name": "stdout",
     "output_type": "stream",
     "text": [
      " * Serving Flask app \"__main__\" (lazy loading)\n",
      " * Environment: production\n",
      "   WARNING: This is a development server. Do not use it in a production deployment.\n",
      "   Use a production WSGI server instead.\n",
      " * Debug mode: off\n"
     ]
    },
    {
     "name": "stderr",
     "output_type": "stream",
     "text": [
      " * Running on http://127.0.0.1:5000/ (Press CTRL+C to quit)\n"
     ]
    }
   ],
   "source": [
    "@app.route('/user/<username>') # 預設字串string\n",
    "def show_user_profile(username): # 函數中放入變數\n",
    "    return f'User: {username}' # username變成普通的變數直接在函式內使用\n",
    "\n",
    "@app.route('/post/<int:post_id>') # 指定int 變數格式\n",
    "def show_post(post_id):\n",
    "    return f'Post: {post_id}'\n",
    "\n",
    "@app.route('/path/<path:subpath>') # 可以有'/'\n",
    "def show_subpath(subpath):\n",
    "    return f'Path: {subpath}'\n",
    "\n",
    "app.run()"
   ]
  },
  {
   "cell_type": "markdown",
   "metadata": {},
   "source": [
    ">[http://127.0.0.1:5000/user/pool](http://127.0.0.1:5000/user/pool)  \n",
    "[http://127.0.0.1:5000/post/8888](http://127.0.0.1:5000/post/8888)  \n",
    "[http://127.0.0.1:5000/path/python/flask](http://127.0.0.1:5000/path/python/flask)"
   ]
  },
  {
   "cell_type": "markdown",
   "metadata": {},
   "source": [
    "### render_template( ) 使用模板<有變數的html>\n",
    "建立一個資料夾(template), 跟檔案放一起"
   ]
  },
  {
   "cell_type": "code",
   "execution_count": 4,
   "metadata": {},
   "outputs": [
    {
     "name": "stdout",
     "output_type": "stream",
     "text": [
      " * Serving Flask app \"__main__\" (lazy loading)\n",
      " * Environment: production\n",
      "   WARNING: This is a development server. Do not use it in a production deployment.\n",
      "   Use a production WSGI server instead.\n",
      " * Debug mode: off\n"
     ]
    },
    {
     "name": "stderr",
     "output_type": "stream",
     "text": [
      " * Running on http://127.0.0.1:5000/ (Press CTRL+C to quit)\n"
     ]
    }
   ],
   "source": [
    "@app.route('/template/') \n",
    "@app.route('/template/<name>') # 有定義name變數\n",
    "def from_template1(name=None): # 沒有定義name變數\n",
    "    return render_template('template1.html', arg=name) # template中的{{ arg }} 由 name 變數替代\n",
    "\n",
    "app.run()"
   ]
  },
  {
   "cell_type": "markdown",
   "metadata": {},
   "source": [
    ">[http://127.0.0.1:5000/template/](http://127.0.0.1:5000/template/)  \n",
    "[http://127.0.0.1:5000/template/pool](http://127.0.0.1:5000/template/pool)"
   ]
  },
  {
   "cell_type": "markdown",
   "metadata": {},
   "source": [
    "### URL Variable Rules 網址變數規則2: request.args.get('Varname')\n",
    ">`'URL' + ?Var1=val1&Var=val2`  \n",
    ">\n",
    "> 獲取網址內的變數(string)\n",
    ">\n",
    "> request.args是一個 MultiDic(字典中的值是串列) {key0:[val0, val1],... }"
   ]
  },
  {
   "cell_type": "code",
   "execution_count": 5,
   "metadata": {},
   "outputs": [
    {
     "name": "stdout",
     "output_type": "stream",
     "text": [
      " * Serving Flask app \"__main__\" (lazy loading)\n",
      " * Environment: production\n",
      "   WARNING: This is a development server. Do not use it in a production deployment.\n",
      "   Use a production WSGI server instead.\n",
      " * Debug mode: off\n"
     ]
    },
    {
     "name": "stderr",
     "output_type": "stream",
     "text": [
      " * Running on http://127.0.0.1:5000/ (Press CTRL+C to quit)\n"
     ]
    }
   ],
   "source": [
    "@app.route('/Var/')\n",
    "def show_var1():\n",
    "    name = request.args.get('name') # AlanPool\n",
    "    num = request.args.get('number') # 93132047 雖然是數字但是是字串形式\n",
    "    # print(type(num)) # == str\n",
    "    return name + ': ' + num # html檔案中的變數\n",
    "\n",
    "# 字典形式引數\n",
    "@app.route('/Var2/')\n",
    "def show_var2():\n",
    "    kwargs = {}\n",
    "    kwargs['arg1'] = request.args.get('name')\n",
    "    kwargs['arg2'] = request.args.get('number')\n",
    "    return render_template('template2.html', **kwargs) # 字典引數 \"key=value\"\n",
    "\n",
    "app.run()"
   ]
  },
  {
   "cell_type": "markdown",
   "metadata": {},
   "source": [
    "[http://127.0.0.1:5000/Var/?name=AlanPool&number=93132047](http://127.0.0.1:5000/Var/?name=AlanPool&number=93132047)  \n",
    "[http://127.0.0.1:5000/Var2/?name=AlanPool&number=93132047](http://127.0.0.1:5000/Var2/?name=AlanPool&number=93132047)?\n",
    "### template2.html:\n",
    "```html\n",
    "<!DOCTYPE html>\n",
    "<html>\n",
    "  <head>\n",
    "    <title>template2</title>\n",
    "  </head>\n",
    "  <body>\n",
    "    <h1>Variable:</h1>\n",
    "    <h2>name: {{arg1}}</h2>\n",
    "    <h2>number: {{arg2}}</h2>\n",
    "  </body>\n",
    "</html>\n",
    "```"
   ]
  },
  {
   "cell_type": "markdown",
   "metadata": {},
   "source": [
    "### URL的重新導向行為\n",
    "* 在預設尾部 + '/' , 再網址有沒有加上的情況都能搜尋到(自動重新導向)\n",
    "* 另外結尾+ '/' , 靜態資料無法讀取到"
   ]
  },
  {
   "cell_type": "code",
   "execution_count": 6,
   "metadata": {},
   "outputs": [
    {
     "name": "stdout",
     "output_type": "stream",
     "text": [
      " * Serving Flask app \"__main__\" (lazy loading)\n",
      " * Environment: production\n",
      "   WARNING: This is a development server. Do not use it in a production deployment.\n",
      "   Use a production WSGI server instead.\n",
      " * Debug mode: off\n"
     ]
    },
    {
     "name": "stderr",
     "output_type": "stream",
     "text": [
      " * Running on http://127.0.0.1:5000/ (Press CTRL+C to quit)\n"
     ]
    }
   ],
   "source": [
    "@app.route('/projects/')\n",
    "def projects():\n",
    "    return 'The project page'\n",
    "\n",
    "@app.route('/about')\n",
    "def about():\n",
    "    return 'The about page'\n",
    "\n",
    "app.run()"
   ]
  },
  {
   "cell_type": "markdown",
   "metadata": {},
   "source": [
    ">[http://127.0.0.1:5000/projects/](http://127.0.0.1:5000/projects/)  \n",
    "[http://127.0.0.1:5000/projects](http://127.0.0.1:5000/projects)  \n",
    "[http://127.0.0.1:5000/about/](http://127.0.0.1:5000/about/) (404 無法重新導向)  \n",
    "[http://127.0.0.1:5000/about](http://127.0.0.1:5000/about)"
   ]
  },
  {
   "cell_type": "markdown",
   "metadata": {},
   "source": [
    "### url_for( ) 網址生成\n",
    "* 而實際上只是輸出一個網址字串\n",
    "* `url_for(func_name, **kwargs)` 第一個參數就是函式名稱！\n",
    "* kwargs 可以是網址中<username>變數, 也可以是網址變數search"
   ]
  },
  {
   "cell_type": "code",
   "execution_count": 7,
   "metadata": {},
   "outputs": [
    {
     "name": "stdout",
     "output_type": "stream",
     "text": [
      "/\n",
      "/about\n",
      "/about?search=Qoo\n",
      "/user/pool\n",
      "/path/python/flask\n"
     ]
    }
   ],
   "source": [
    "with app.test_request_context(): # 需要在有前文才能使用\n",
    "    print(url_for('index'))\n",
    "    print(url_for('about'))\n",
    "    print(url_for('about', search='Qoo')) # 參數變數添加\n",
    "    print(url_for('show_user_profile', username='pool')) # 函數原本就的變數\n",
    "    print(url_for('show_subpath', subpath='python/flask')) # 函數原本就的變數"
   ]
  },
  {
   "cell_type": "markdown",
   "metadata": {},
   "source": [
    "### redirect( ) 配合 url_for( ) 導向新網址\n",
    "* 超連結的概念"
   ]
  },
  {
   "cell_type": "code",
   "execution_count": 8,
   "metadata": {
    "scrolled": true
   },
   "outputs": [
    {
     "name": "stdout",
     "output_type": "stream",
     "text": [
      " * Serving Flask app \"__main__\" (lazy loading)\n",
      " * Environment: production\n",
      "   WARNING: This is a development server. Do not use it in a production deployment.\n",
      "   Use a production WSGI server instead.\n",
      " * Debug mode: off\n"
     ]
    },
    {
     "name": "stderr",
     "output_type": "stream",
     "text": [
      " * Running on http://127.0.0.1:5000/ (Press CTRL+C to quit)\n"
     ]
    }
   ],
   "source": [
    "@app.route('/url_for')\n",
    "def url_for_path():\n",
    "    return redirect('https://www.google.com.tw/') # 把它連到ㄢgoogle\n",
    "\n",
    "app.run()"
   ]
  },
  {
   "cell_type": "markdown",
   "metadata": {},
   "source": [
    ">[http://127.0.0.1:5000/url_for](http://127.0.0.1:5000/url_for)"
   ]
  },
  {
   "cell_type": "markdown",
   "metadata": {},
   "source": [
    "# 靜態文件的取得\n",
    "* 使用 生成連結 `url_for('static', filename='path + filename', _external=True)`\n",
    "* `_external=True` 保有host位址\n",
    "* static( )特殊預留, 用來取得static 資料夾內的文件\n",
    "* 可以由遊覽器打開的就會顯示, 若是不能就會下載\n",
    "* 也能直接由/static/path + filename 取得文件, 安全性？ 但是要一字不差"
   ]
  },
  {
   "cell_type": "code",
   "execution_count": 9,
   "metadata": {
    "scrolled": true
   },
   "outputs": [
    {
     "name": "stdout",
     "output_type": "stream",
     "text": [
      " * Serving Flask app \"__main__\" (lazy loading)\n",
      " * Environment: production\n",
      "   WARNING: This is a development server. Do not use it in a production deployment.\n",
      "   Use a production WSGI server instead.\n",
      " * Debug mode: off\n"
     ]
    },
    {
     "name": "stderr",
     "output_type": "stream",
     "text": [
      " * Running on http://127.0.0.1:5000/ (Press CTRL+C to quit)\n"
     ]
    }
   ],
   "source": [
    "@app.route('/getfile') # 注意：這裡不需要寫/static 的網頁就能使用 url_for('static')\n",
    "def getfile():\n",
    "    return render_template('template3.html')\n",
    "'''\n",
    "template3.html:\n",
    "<head>\n",
    "  <title>template3</title>\n",
    "</head>\n",
    "<body>\n",
    "  <p><a href=\"{{ url_for('static', filename='files/test.txt') }}\">test.txt</a></p>\n",
    "  <p><a href=\"{{ url_for('static', filename='files/test.qq') }}\">test.qq</a></p>\n",
    "  <p><a href=\"./static/files/test.txt\">test.txt</a></p>\n",
    "  <p><a href=\"./static/files/test.qq\">test.qq</a></p>\n",
    "</body>\n",
    "'''\n",
    "app.run()\n"
   ]
  },
  {
   "cell_type": "markdown",
   "metadata": {},
   "source": [
    ">[http://127.0.0.1:5000/getfile](http://127.0.0.1:5000/getfile)  "
   ]
  },
  {
   "cell_type": "code",
   "execution_count": 10,
   "metadata": {},
   "outputs": [
    {
     "name": "stdout",
     "output_type": "stream",
     "text": [
      "http://localhost/static/files/test.txt\n",
      "/static/files/test.txt\n"
     ]
    }
   ],
   "source": [
    "with app.test_request_context():\n",
    "    print(url_for('static', filename='files/test.txt', _external=True))\n",
    "    print(url_for('static', filename='files/test.txt'))"
   ]
  },
  {
   "cell_type": "markdown",
   "metadata": {},
   "source": [
    "### app.route(URL, methods)\n",
    "#### methods:\n",
    "> * 取得資訊的時候GET\n",
    "* 送出資訊的時候POST\n",
    "* 更新資訊的時候UPDATE\n",
    "* 刪除資訊的時候DELETE"
   ]
  },
  {
   "cell_type": "code",
   "execution_count": 11,
   "metadata": {},
   "outputs": [
    {
     "name": "stdout",
     "output_type": "stream",
     "text": [
      " * Serving Flask app \"__main__\" (lazy loading)\n",
      " * Environment: production\n",
      "   WARNING: This is a development server. Do not use it in a production deployment.\n",
      "   Use a production WSGI server instead.\n",
      " * Debug mode: off\n"
     ]
    },
    {
     "name": "stderr",
     "output_type": "stream",
     "text": [
      " * Running on http://127.0.0.1:5000/ (Press CTRL+C to quit)\n"
     ]
    }
   ],
   "source": [
    "@app.route('/login', methods=['GET', 'POST']) \n",
    "def login():\n",
    "    if request.method == 'POST':\n",
    "        return 'Hello ' + request.values['username'] \n",
    "\n",
    "    return \"<form method='post' action='/login'><input type='text' name='username'></br><button type='submit'>Submit</button></form>\"\n",
    "    # 這裡的sction又導回'/login', 更好的方法是是用{{url_for('login')}}\n",
    "    '''\n",
    "    <form class=\"\" action=送出目的地(URL) method=資料傳送方式> 把資料回傳(把要回傳的資料包在form)\n",
    "    內容(input, textarea, select, button...等)\n",
    "    </form>\n",
    "    '''\n",
    "\n",
    "app.run()  "
   ]
  },
  {
   "cell_type": "markdown",
   "metadata": {},
   "source": [
    ">[http://127.0.0.1:5000/login](http://127.0.0.1:5000/login)"
   ]
  },
  {
   "cell_type": "markdown",
   "metadata": {},
   "source": [
    "## flash:\n",
    "* 只會讀取一次, 出現一次！\n",
    "* `flash('string')`\n",
    "* 實際上這是儲存在session中, 並一次性讀取\n",
    "* 在html中使用`get_flashed_messages()` 取得資訊\n",
    "\n",
    "flash.html:\n",
    "```html\n",
    "{% with messages = get_flashed_messages() %}\n",
    "{% for message in messages %}\n",
    "{{ message }}\n",
    "{% endfor %}\n",
    "{% endwith %}\n",
    "```\n",
    "\n",
    "## request:\n",
    "\n",
    "|code|/|\n",
    "|---|---|\n",
    "|method|當前請求的HTTP方法, (`POST`,`GET` ...)|\n",
    "|args|URL中的參數, 是一個MultiDict|\n",
    "|form|發送表單內的資料, 是一個 MultiDict, `Key`是`html`元素的`name`屬性|\n",
    "|values|包含from, args的一個MultiDict|\n",
    "|files|上傳的文件|\n",
    "\n",
    "### request.args:\n",
    "\n",
    "*  `request.args['key'] = 'val'`\n",
    "* 字典 key 與 URL+?key=val&...\n",
    "\n",
    "### request.from:\n",
    "\n",
    "```html\n",
    "<form action=\"URL\" method=\"post\">\n",
    "    <input type=\"text\" name=\"key\" value=\"val\">\n",
    "    <input type=\"submit\" value=\"submit\">\n",
    "</form>\n",
    "```\n",
    "\n",
    "* `request.from['key'] = 'val'`\n",
    "* 字典 key 與 input 元素中的 name 對應, value！\n",
    "\n",
    "### request.values:\n",
    "\n",
    "* 以上兩個字典的總和\n",
    "\n",
    "### [request.files](https://flask.palletsprojects.com/en/1.1.x/patterns/fileuploads/):\n",
    "* [https://zhuanlan.zhihu.com/p/23731819?refer=flask](https://zhuanlan.zhihu.com/p/23731819?refer=flask)\n",
    "* form 元素 必須有屬性: enctype=\"multipart/form-data\"\n",
    "* `request.files['key']`\n",
    "* file 本身只能讀取一次, 若要儲存要在讀取前\n",
    "* 字典 key 與 input 元素 type file 中的 name 對應！\n",
    "* 如同python open 讀取文件一樣, 多了兩種功能:\n",
    "    1. 儲存在文件中 `request.files['key'].save('path')`\n",
    "    2. 文件名稱 `request.files['key'].filename`\n",
    "    \n",
    "```html\n",
    "<form method=\"POST\" enctype=\"multipart/form-data\">\n",
    "    <input type=\"file\" name=\"file\">\n",
    "    <input type=\"submit\" value=\"Upload\">\n",
    "</form>\n",
    "```\n",
    "\n",
    "#### 上傳文件的相關設定:\n",
    "* 文件大小限制 `app.config['MAX_CONTENT_LENGTH'] = 16 * 1024 * 1024` int (byte) 16MB\n",
    "\n"
   ]
  },
  {
   "cell_type": "code",
   "execution_count": 12,
   "metadata": {},
   "outputs": [
    {
     "name": "stdout",
     "output_type": "stream",
     "text": [
      " * Serving Flask app \"__main__\" (lazy loading)\n",
      " * Environment: production\n",
      "   WARNING: This is a development server. Do not use it in a production deployment.\n",
      "   Use a production WSGI server instead.\n",
      " * Debug mode: off\n"
     ]
    },
    {
     "name": "stderr",
     "output_type": "stream",
     "text": [
      " * Running on http://127.0.0.1:5000/ (Press CTRL+C to quit)\n"
     ]
    }
   ],
   "source": [
    "@app.route('/upload', methods=['GET', 'POST']) \n",
    "def upload():\n",
    "    if request.method == 'POST':\n",
    "        file = request.files['file']\n",
    "#         file.name\n",
    "        file.save('./static/files/test')\n",
    "        return 'Success'\n",
    "    return '<title>upload</title><form action=\"/upload\" method=\"POST\" enctype=\"multipart/form-data\"><input type=\"file\" name=\"file\"><input type=\"submit\" value=\"Upload\"></form>'\n",
    "'''\n",
    "<title>upload</title>\n",
    "<form action=\"/upload\" method=\"POST\" enctype=\"multipart/form-data\">\n",
    "  <input type=\"file\" name=\"file\">\n",
    "  <input type=\"submit\" value=\"Upload\">\n",
    "</form>\n",
    "'''\n",
    "\n",
    "app.run() "
   ]
  },
  {
   "cell_type": "markdown",
   "metadata": {},
   "source": [
    ">[http://127.0.0.1:5000/upload](http://127.0.0.1:5000/upload)"
   ]
  },
  {
   "cell_type": "markdown",
   "metadata": {},
   "source": [
    "#### 儲存文件的安全性:\n",
    "\n",
    "* 基於 _**\"永不信任用戶\"**_ 對於用戶上傳的文件名稱不能直接使用!\n",
    "* 引用: `from werkzeug.utils import secure_filename`\n",
    "* 使用: `secure_filename('filename')`\n",
    "* 一定會保留副檔名"
   ]
  },
  {
   "cell_type": "code",
   "execution_count": 13,
   "metadata": {},
   "outputs": [
    {
     "name": "stdout",
     "output_type": "stream",
     "text": [
      "My_cool_movie.mov\n",
      "etc_passwd\n",
      "i_contain_cool_umlauts.txt\n"
     ]
    }
   ],
   "source": [
    "from werkzeug.utils import secure_filename\n",
    "print(secure_filename(\"My cool movie.mov\"))\n",
    "print(secure_filename(\"../../../etc/passwd\"))\n",
    "print(secure_filename(u'i contain cool \\xfcml\\xe4uts.txt'))"
   ]
  },
  {
   "cell_type": "markdown",
   "metadata": {},
   "source": [
    "## Session\n",
    "* 將資料從請求帶到下一個請求\n",
    "* 如同 cookie 記憶在用戶端\n",
    "* 需要設置密碼(通常是24位字串) `app.config['SECRET_KEY'] = b'XXXX'`\n",
    "* session 的使用就像是一個字典, 可以在裡面放任何需要的資料結構 list... str...\n",
    "* 方法有get, pop, clear, values, items, keys... 等\n",
    "* session.clear 清空！\n",
    "* session 總體大小只有4K, 基本上記憶一些字串使用"
   ]
  },
  {
   "cell_type": "code",
   "execution_count": 14,
   "metadata": {},
   "outputs": [],
   "source": [
    "app.config['SECRET_KEY'] = 'XXXX'\n",
    "@app.route('/session')\n",
    "def session_():\n",
    "    if 'username' in session:\n",
    "        return 'Logged in as %s' % escape(session['username'])\n",
    "    return 'You are not logged in'\n"
   ]
  },
  {
   "cell_type": "code",
   "execution_count": 15,
   "metadata": {},
   "outputs": [
    {
     "name": "stdout",
     "output_type": "stream",
     "text": [
      " * Serving Flask app \"__main__\" (lazy loading)\n",
      " * Environment: production\n",
      "   WARNING: This is a development server. Do not use it in a production deployment.\n",
      "   Use a production WSGI server instead.\n",
      " * Debug mode: off\n"
     ]
    },
    {
     "name": "stderr",
     "output_type": "stream",
     "text": [
      " * Running on http://127.0.0.1:5000/ (Press CTRL+C to quit)\n"
     ]
    }
   ],
   "source": [
    "app.run()\n"
   ]
  },
  {
   "cell_type": "code",
   "execution_count": null,
   "metadata": {},
   "outputs": [],
   "source": [
    "app.secret_key = b'_5#y2L\"F4Q8z\\n\\xec]/'\n",
    "\n",
    "@app.route('/')\n",
    "def index():\n",
    "    if 'username' in session:\n",
    "        return 'Logged in as %s' % escape(session['username'])\n",
    "    return 'You are not logged in'\n",
    "\n",
    "@app.route('/login', methods=['GET', 'POST'])\n",
    "def login():\n",
    "    if request.method == 'POST':\n",
    "        session['username'] = request.form['username']\n",
    "        return redirect(url_for('index'))\n",
    "    return '''\n",
    "        <form method=\"post\">\n",
    "            <p><input type=text name=username>\n",
    "            <p><input type=submit value=Login>\n",
    "        </form>\n",
    "    '''\n",
    "\n",
    "@app.route('/logout')\n",
    "def logout():\n",
    "    # remove the username from the session if it's there\n",
    "    session.pop('username', None)\n",
    "    return redirect(url_for('index'))"
   ]
  },
  {
   "cell_type": "code",
   "execution_count": 23,
   "metadata": {},
   "outputs": [
    {
     "name": "stdout",
     "output_type": "stream",
     "text": [
      "dict_items([('p', 'pool')])\n",
      "pool\n",
      "pool\n",
      "5\n",
      "dict_items([])\n"
     ]
    }
   ],
   "source": [
    "with app.test_request_context(): # 需要在有前文才能使用\n",
    "    session['p'] = 'pool'\n",
    "    print(session.items())\n",
    "    print(session.get('p', 5))\n",
    "    print(session.pop('p', 5))\n",
    "    print(session.get('p', 5))\n",
    "    print(session.items())\n",
    "    "
   ]
  },
  {
   "cell_type": "code",
   "execution_count": null,
   "metadata": {},
   "outputs": [],
   "source": []
  }
 ],
 "metadata": {
  "kernelspec": {
   "display_name": "Python 3",
   "language": "python",
   "name": "python3"
  },
  "language_info": {
   "codemirror_mode": {
    "name": "ipython",
    "version": 3
   },
   "file_extension": ".py",
   "mimetype": "text/x-python",
   "name": "python",
   "nbconvert_exporter": "python",
   "pygments_lexer": "ipython3",
   "version": "3.7.3"
  }
 },
 "nbformat": 4,
 "nbformat_minor": 2
}
