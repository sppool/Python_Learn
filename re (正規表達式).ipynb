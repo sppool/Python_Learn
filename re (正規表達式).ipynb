{
 "cells": [
  {
   "cell_type": "markdown",
   "metadata": {},
   "source": [
    "# 正規表達式\n",
    "### [線上產生器](https://cloudlab.tw/wp/sampleFiles/RegExp/)"
   ]
  },
  {
   "cell_type": "code",
   "execution_count": 1,
   "metadata": {},
   "outputs": [],
   "source": [
    "import re"
   ]
  },
  {
   "cell_type": "markdown",
   "metadata": {},
   "source": [
    "Regular Expression\n",
    "是一種表達〝具有某種特徵〞字串的方式，可用來完全指定需要加以處理的資料 , 避免反覆判斷找尋的困擾\n",
    "\n",
    "Regular Expression的組成\n",
    "為了表達〝特徵〞需定義範本(Pattern)，範本由普通字元(ASCII)、特殊字元(Metacharacter)及數量定義詞(Quantifier)組成。其格式為\n",
    "[ 普通字元|特殊字元 ]數量定義詞"
   ]
  },
  {
   "cell_type": "markdown",
   "metadata": {},
   "source": [
    "## re\n",
    "\n",
    "* `re.search(pattern, string)` 搜尋字串\n",
    "    * pattern(正規表達式)\n",
    "    * string(匹配字串)\n",
    "* `re.match(pattern, string)` 匹配(開頭)字串\n",
    "    * pattern(正規表達式)\n",
    "    * string(匹配字串)\n",
    "* `re.findall(pattern, string)` 匹配所有字串 輸出list\n",
    "    * pattern(正規表達式)\n",
    "    * string(匹配字串)\n",
    "* `re.sub(pattern, change, string)` 替換匹配的字符轉換取代字串\n",
    "    * pattern(正規表達式)\n",
    "    * change(變更字串)\n",
    "    * string(匹配字串)\n",
    "* `re.sub(pattern, string)` 分裂 匹配的字串切開輸出list\n",
    "    * pattern(正規表達式)\n",
    "    * string(匹配字串)"
   ]
  },
  {
   "cell_type": "code",
   "execution_count": 2,
   "metadata": {},
   "outputs": [
    {
     "name": "stdout",
     "output_type": "stream",
     "text": [
      "True\n",
      "False\n",
      "True\n",
      "True\n"
     ]
    }
   ],
   "source": [
    "# 匹配 string 的開頭\n",
    "print(re.match('P', 'Pool') != None)\n",
    "print(re.match('ool', 'Pool') != None)\n",
    "# 搜尋 string 內的字串\n",
    "print(re.search('P', 'Pool') != None)\n",
    "print(re.search('ool', 'Pool') != None)"
   ]
  },
  {
   "cell_type": "markdown",
   "metadata": {},
   "source": [
    "## pattern(正規表達式)\n",
    "\n",
    "|  / |  / |\n",
    "|:---|:---|\n",
    "|__次數限定：__||\n",
    "|`char`|`char` (1次)|\n",
    "|`char*`|`char` (0 ~ n 次數)|\n",
    "|`char+`|`char` (1 ~ n 次數)|\n",
    "|`char?`|`char` (0 or 1 次數) 可以當成有沒有使用|\n",
    "|`(string)?`|`string` (0 or 1 次數) 可以當成有沒有使用|\n",
    "|`char{n}`|`char` (n 次數)|\n",
    "|`char{,m}`|`char` (<= m 次數)|\n",
    "|`char{n,}`|`char` (>= n 次數)|\n",
    "|`char{n,m}`|`char` (n ~ m 次數)|\n",
    "|__字元限定：__||\n",
    "|`.`| 任意字元|\n",
    "|`[ABC]`| A, B, C 任選 (1次)|\n",
    "|`[^ABC]`| != A, B, C 任意字元 (1次)|\n",
    "|`[A-Z]`| A~Z (1次)|\n",
    "|`string1\\|string2`| `string1` or `string2` 都可以|\n",
    "|__限定pkg：__||\n",
    "|`\\a`|任何數字字母 [A-Za-z0-9]|\n",
    "|`\\c`|任何字母 [A-Za-z]|\n",
    "|`\\d`|任何數字 [0-9]|\n",
    "|`\\D`|任何非數字 [^0-9]|\n",
    "|`\\w`|任何數字字母底線 [A-Za-z0-9_]|\n",
    "|`\\W`|任何非數字字母底線 [^A-Za-z0-9_]|\n",
    "|`\\l`|任何小寫字母 [a-z]|\n",
    "|`\\L`|任何非小寫字母 [^a-z]|\n",
    "|`\\u`|任何大寫字母 [A-Z]|\n",
    "|`\\U`|任何非大寫字母 [^A-Z]|\n",
    "|`\\s`|任何空格 [\\t\\n\\r\\f\\v]|\n",
    "|`\\S`|任何非空格 [^\\t\\n\\r\\f\\v]|\n",
    "|__頭尾限定：__||\n",
    "|`^string`|`string` 指定開頭(match)|\n",
    "|`string$`|`string` 指定結尾|\n",
    "|`^string$`|`string` 完美比對|\n",
    "|`(a+b)+`| 括號(處理順序) 將比對符合的字元暫時存入一個變數 供系統後續使用|\n",
    "\n",
    "### 非python re :\n",
    "![](https://kopu.chat/wp-content/uploads/2017/01/%E6%AD%A3%E8%A6%8F5.jpg)"
   ]
  },
  {
   "cell_type": "markdown",
   "metadata": {},
   "source": [
    "#### 0 ~ n 個 s"
   ]
  },
  {
   "cell_type": "code",
   "execution_count": 3,
   "metadata": {},
   "outputs": [
    {
     "name": "stdout",
     "output_type": "stream",
     "text": [
      "True\n",
      "True\n"
     ]
    }
   ],
   "source": [
    "pattern = 's*'\n",
    "string = 'aaaaa'\n",
    "print(re.match(pattern, string) != None)\n",
    "print(re.search(pattern, string) != None)"
   ]
  },
  {
   "cell_type": "markdown",
   "metadata": {},
   "source": [
    "#### 1 ~ n 個 s"
   ]
  },
  {
   "cell_type": "code",
   "execution_count": 4,
   "metadata": {},
   "outputs": [
    {
     "name": "stdout",
     "output_type": "stream",
     "text": [
      "False\n",
      "True\n"
     ]
    }
   ],
   "source": [
    "pattern = 's+'\n",
    "string = 'os'\n",
    "print(re.match(pattern, string) != None)\n",
    "print(re.search(pattern, string) != None)"
   ]
  },
  {
   "cell_type": "markdown",
   "metadata": {},
   "source": [
    "#### 兩個任意字元 (任意兩個長度的字串)"
   ]
  },
  {
   "cell_type": "code",
   "execution_count": 5,
   "metadata": {},
   "outputs": [
    {
     "name": "stdout",
     "output_type": "stream",
     "text": [
      "True\n",
      "True\n"
     ]
    }
   ],
   "source": [
    "pattern = '..'\n",
    "string = 'Qoo'\n",
    "print(re.match(pattern, string) != None)\n",
    "print(re.search(pattern, string) != None)"
   ]
  },
  {
   "cell_type": "markdown",
   "metadata": {},
   "source": [
    "#### 任意一個數字"
   ]
  },
  {
   "cell_type": "code",
   "execution_count": 6,
   "metadata": {},
   "outputs": [
    {
     "name": "stdout",
     "output_type": "stream",
     "text": [
      "False\n",
      "True\n"
     ]
    }
   ],
   "source": [
    "pattern = '\\d'\n",
    "string = 'Zoo123'\n",
    "print(re.match(pattern, string) != None)\n",
    "print(re.search(pattern, string) != None)"
   ]
  },
  {
   "cell_type": "markdown",
   "metadata": {},
   "source": [
    "#### 指定開頭( ^ ), 指定結尾( $ )"
   ]
  },
  {
   "cell_type": "code",
   "execution_count": 7,
   "metadata": {},
   "outputs": [
    {
     "name": "stdout",
     "output_type": "stream",
     "text": [
      "False\n",
      "True\n",
      "True\n",
      "True\n"
     ]
    }
   ],
   "source": [
    "pattern = 'pool$'\n",
    "string = 'sppool'\n",
    "print(re.match(pattern, string) != None)\n",
    "print(re.search(pattern, string) != None)\n",
    "pattern = '^spp'\n",
    "string = 'sppool'\n",
    "print(re.match(pattern, string) != None)\n",
    "print(re.search(pattern, string) != None)"
   ]
  },
  {
   "cell_type": "code",
   "execution_count": 8,
   "metadata": {},
   "outputs": [
    {
     "name": "stdout",
     "output_type": "stream",
     "text": [
      "False\n",
      "True\n"
     ]
    }
   ],
   "source": [
    "pattern = 'po|so'\n",
    "string = 'aolpo'\n",
    "print(re.match(pattern, string) != None)\n",
    "print(re.search(pattern, string) != None)"
   ]
  },
  {
   "cell_type": "code",
   "execution_count": 9,
   "metadata": {},
   "outputs": [
    {
     "name": "stdout",
     "output_type": "stream",
     "text": [
      "True\n",
      "True\n"
     ]
    }
   ],
   "source": [
    "pattern = 'Mon(day)?'\n",
    "string = 'Monday'\n",
    "print(re.match(pattern, string) != None)\n",
    "print(re.search(pattern, string) != None)"
   ]
  },
  {
   "cell_type": "markdown",
   "metadata": {},
   "source": [
    "### re.findall( ) 尋找所有匹配\n",
    "* 可以已經匹配的字串不會重複出現！"
   ]
  },
  {
   "cell_type": "code",
   "execution_count": 10,
   "metadata": {},
   "outputs": [
    {
     "data": {
      "text/plain": [
       "['09', '60', '64']"
      ]
     },
     "execution_count": 10,
     "metadata": {},
     "output_type": "execute_result"
    }
   ],
   "source": [
    "pattern = '[06]\\d'\n",
    "string = '0960328640'\n",
    "re.findall(pattern, string)"
   ]
  },
  {
   "cell_type": "markdown",
   "metadata": {},
   "source": [
    "### re.sub( ) 取代 replace"
   ]
  },
  {
   "cell_type": "code",
   "execution_count": 11,
   "metadata": {},
   "outputs": [
    {
     "data": {
      "text/plain": [
       "'I am Qoo'"
      ]
     },
     "execution_count": 11,
     "metadata": {},
     "output_type": "execute_result"
    }
   ],
   "source": [
    "pattern = 'Pool'\n",
    "string = 'I am Pool'\n",
    "re.sub(pattern, 'Qoo', string)"
   ]
  },
  {
   "cell_type": "markdown",
   "metadata": {},
   "source": [
    "### re.split( ) 分裂"
   ]
  },
  {
   "cell_type": "code",
   "execution_count": 12,
   "metadata": {},
   "outputs": [
    {
     "data": {
      "text/plain": [
       "['A', 'B', 'C', 'D', 'E']"
      ]
     },
     "execution_count": 12,
     "metadata": {},
     "output_type": "execute_result"
    }
   ],
   "source": [
    "# r'[,.;:]' == '[,\\.;:]'   '\\.' == r'.'\n",
    "pattern = r'[,.;:]'\n",
    "string = 'A,B.C:D;E'\n",
    "re.split(pattern, string)"
   ]
  },
  {
   "cell_type": "markdown",
   "metadata": {},
   "source": [
    "### Raw String (原生字串) 不考慮轉義字符( \\\\ )\n",
    "|/|/|\n",
    "|:---|:---|\n",
    "|`\\\\`\t|反斜槓符號|\n",
    "|`\\’`\t|單引號|\n",
    "|`\\”`\t|雙引號|\n",
    "|`\\a`\t|響鈴|\n",
    "|`\\b`\t|退格(Backspace)|\n",
    "|`\\e`\t|轉義|\n",
    "|`\\000`\t|空|\n",
    "|`\\n`\t|換行|\n",
    "|`\\v`\t|縱向製表符|\n",
    "|`\\t`\t|橫向製表符|\n",
    "|`\\r`\t|回車|\n",
    "|`\\f`\t|換頁|"
   ]
  },
  {
   "cell_type": "code",
   "execution_count": 13,
   "metadata": {},
   "outputs": [
    {
     "name": "stdout",
     "output_type": "stream",
     "text": [
      "pool\n",
      "\n",
      "pool\\n\n"
     ]
    }
   ],
   "source": [
    "print('pool\\n')\n",
    "print(r'pool\\n')"
   ]
  },
  {
   "cell_type": "code",
   "execution_count": 14,
   "metadata": {},
   "outputs": [
    {
     "data": {
      "text/plain": [
       "True"
      ]
     },
     "execution_count": 14,
     "metadata": {},
     "output_type": "execute_result"
    }
   ],
   "source": [
    "re.search(r\"^[0\\-9]$\", '-') != None # 原生字串不須考慮\\問題"
   ]
  },
  {
   "cell_type": "markdown",
   "metadata": {},
   "source": [
    "### 字元組簡記法"
   ]
  },
  {
   "cell_type": "code",
   "execution_count": 15,
   "metadata": {},
   "outputs": [
    {
     "name": "stdout",
     "output_type": "stream",
     "text": [
      "True\n",
      "True\n"
     ]
    }
   ],
   "source": [
    "print(re.search(r\"^[0-9]$\", '5') != None) # \\d == [0-9]\n",
    "print(re.search(r\"^\\d$\", '5') != None)"
   ]
  },
  {
   "cell_type": "code",
   "execution_count": 16,
   "metadata": {},
   "outputs": [
    {
     "name": "stdout",
     "output_type": "stream",
     "text": [
      "True\n",
      "True\n",
      "True\n",
      "True\n"
     ]
    }
   ],
   "source": [
    "print(re.search(r\"^[0-9a-zA-Z]$\", 'P') != None) # \\w == [0-9a-zA-Z]\n",
    "print(re.search(r\"^\\w$\", '5') != None)\n",
    "print(re.search(r\"^\\w$\", 'p') != None)\n",
    "print(re.search(r\"^\\w$\", 'P') != None)"
   ]
  },
  {
   "cell_type": "code",
   "execution_count": 17,
   "metadata": {},
   "outputs": [
    {
     "name": "stdout",
     "output_type": "stream",
     "text": [
      "True\n",
      "True\n"
     ]
    }
   ],
   "source": [
    "print(re.search(r\"^[0-9a-z]$\", 'p') != None) # 也可以混用\n",
    "print(re.search(r\"^[\\da-z]$\", 'p') != None)"
   ]
  },
  {
   "cell_type": "markdown",
   "metadata": {},
   "source": [
    "#### \\D and \\W ( \\D = 非\\d, 兩者完全沒有交集)"
   ]
  },
  {
   "cell_type": "code",
   "execution_count": 18,
   "metadata": {},
   "outputs": [
    {
     "name": "stdout",
     "output_type": "stream",
     "text": [
      "True\n",
      "False\n",
      "True\n",
      "False\n",
      "True\n",
      "True\n"
     ]
    }
   ],
   "source": [
    "print(re.search(r\"^\\d$\", '5') != None)\n",
    "print(re.search(r\"^\\D$\", '5') != None)\n",
    "print(re.search(r\"^\\w$\", 'P') != None)\n",
    "print(re.search(r\"^\\W$\", 'P') != None)\n",
    "print(re.search(r\"^\\D$\", '?') != None) # 包含數字之外的所有\n",
    "print(re.search(r\"^\\W$\", '?') != None) # 包含單字之外的所有"
   ]
  },
  {
   "cell_type": "code",
   "execution_count": 19,
   "metadata": {},
   "outputs": [
    {
     "name": "stdout",
     "output_type": "stream",
     "text": [
      "True\n",
      "True\n",
      "True\n",
      "False\n"
     ]
    }
   ],
   "source": [
    "print(re.search(\"^[\\w\\W]$\", ':') != None) # 所有字元\n",
    "print(re.search(\"^.$\", ':') != None) # '.' 所有字元\n",
    "print(re.search(\"^.$\", ' ') != None) # 可以空白\n",
    "print(re.search(\"^.$\", '\\n') != None) # 除了\\n分行記號"
   ]
  },
  {
   "cell_type": "markdown",
   "metadata": {},
   "source": [
    "## 量詞"
   ]
  },
  {
   "cell_type": "code",
   "execution_count": 20,
   "metadata": {},
   "outputs": [
    {
     "name": "stdout",
     "output_type": "stream",
     "text": [
      "True\n",
      "False\n"
     ]
    }
   ],
   "source": [
    "print(re.search(r\"^\\d\\d\\d\\d\\d$\", '80143') != None) # 5個連續的數字\n",
    "print(re.search(r\"^\\d\\d\\d\\d\\d$\", '9999A') != None)# 5個連續的數字"
   ]
  },
  {
   "cell_type": "code",
   "execution_count": 21,
   "metadata": {},
   "outputs": [
    {
     "data": {
      "text/plain": [
       "True"
      ]
     },
     "execution_count": 21,
     "metadata": {},
     "output_type": "execute_result"
    }
   ],
   "source": [
    "re.search(r\"^\\d{5}$\", '80143') != None # \\d{5}追加5個, 用大括號{}"
   ]
  },
  {
   "cell_type": "code",
   "execution_count": 22,
   "metadata": {},
   "outputs": [
    {
     "name": "stdout",
     "output_type": "stream",
     "text": [
      "True\n",
      "True\n",
      "False\n",
      "False\n"
     ]
    }
   ],
   "source": [
    "print(re.search(r\"^\\d{2, 5}$\", '12345') != None) # \\d{2,5} 最少2個 最多5個, {n,m} 逗號後面不能有空白' '\n",
    "print(re.search(r\"^\\d{2, 5}$\", '12') != None)\n",
    "print(re.search(r\"^\\d{2, 5}$\", '123456') != None)\n",
    "print(re.search(r\"^\\d{2, 5}$\", '1') != None)"
   ]
  },
  {
   "cell_type": "code",
   "execution_count": 23,
   "metadata": {},
   "outputs": [
    {
     "name": "stdout",
     "output_type": "stream",
     "text": [
      "False\n",
      "True\n",
      "True\n"
     ]
    }
   ],
   "source": [
    "print(re.search(r\"^\\d{2,}$\", '1') != None) # \\d{n,} 最少n個 最多無限！\n",
    "print(re.search(r\"^\\d{2,}$\", '12') != None)\n",
    "print(re.search(r\"^\\d{2,}$\", '1234567890') != None)"
   ]
  },
  {
   "cell_type": "code",
   "execution_count": 24,
   "metadata": {},
   "outputs": [
    {
     "name": "stdout",
     "output_type": "stream",
     "text": [
      "True\n",
      "False\n",
      "True\n"
     ]
    }
   ],
   "source": [
    "print(re.search(r\"^\\d{0, 5}$\", '') != None) # \\d{0,n} 可不出現 最多n個！ 可不出現：空字串\n",
    "print(re.search(r\"^\\d{0, 5}$\", ' ') != None) # space字串 不是數字類\n",
    "print(re.search(r\"^\\d{0, 5}$\", '12345') != None) # 最多五個"
   ]
  }
 ],
 "metadata": {
  "kernelspec": {
   "display_name": "Python 3",
   "language": "python",
   "name": "python3"
  },
  "language_info": {
   "codemirror_mode": {
    "name": "ipython",
    "version": 3
   },
   "file_extension": ".py",
   "mimetype": "text/x-python",
   "name": "python",
   "nbconvert_exporter": "python",
   "pygments_lexer": "ipython3",
   "version": "3.7.3"
  }
 },
 "nbformat": 4,
 "nbformat_minor": 2
}
