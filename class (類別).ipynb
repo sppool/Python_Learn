{
 "cells": [
  {
   "cell_type": "markdown",
   "metadata": {},
   "source": [
    "# class\n",
    "<hr>\n",
    "\n",
    "### 物件:  \n",
    "python裡面所有的東西都是物件(_objects_)，連同一個整數也是一種物件\n",
    "物件包含屬性(__attribute__)與方法(__methods__)\n",
    "\n",
    "### 用class 定義或是修改自己的物件類別\n",
    "屬性(變數)有兩種定義方式:"
   ]
  },
  {
   "cell_type": "code",
   "execution_count": 1,
   "metadata": {},
   "outputs": [],
   "source": [
    "class cls():\n",
    "    var1 = 'Var1' # 固定屬性定義\n",
    "    def __init__(self, var2): # __init__(self, ) 初始化函數\n",
    "        self.var2 = var2 # 綁定實體物件,在建立實體物件時定義\n",
    "    \n",
    "    def func1(*args, **kwargs): # 固定方法\n",
    "        print(\"I'm class-cls's Func1\")\n",
    "        \n",
    "    def func2(self, *args, **kwargs): # 綁定實體物件,需要實體物件才能使用\n",
    "        print(\"I'm class-cls's Func2\")"
   ]
  },
  {
   "cell_type": "code",
   "execution_count": 2,
   "metadata": {},
   "outputs": [
    {
     "data": {
      "text/plain": [
       "'Var1'"
      ]
     },
     "execution_count": 2,
     "metadata": {},
     "output_type": "execute_result"
    }
   ],
   "source": [
    "cls.var1 # 固定屬性"
   ]
  },
  {
   "cell_type": "code",
   "execution_count": 3,
   "metadata": {},
   "outputs": [
    {
     "name": "stdout",
     "output_type": "stream",
     "text": [
      "I'm class-cls's Func1\n"
     ]
    }
   ],
   "source": [
    "cls.func1() # 固定方法"
   ]
  },
  {
   "cell_type": "code",
   "execution_count": 4,
   "metadata": {},
   "outputs": [
    {
     "name": "stdout",
     "output_type": "stream",
     "text": [
      "沒有實體物件\n"
     ]
    }
   ],
   "source": [
    "try:\n",
    "    cls.var2\n",
    "except:\n",
    "    print('沒有實體物件')"
   ]
  },
  {
   "cell_type": "code",
   "execution_count": 5,
   "metadata": {},
   "outputs": [
    {
     "name": "stdout",
     "output_type": "stream",
     "text": [
      "沒有實體物件(沒有self引數)\n"
     ]
    }
   ],
   "source": [
    "try:\n",
    "    cls.func2()\n",
    "except:\n",
    "    print('沒有實體物件(沒有self引數)')"
   ]
  },
  {
   "cell_type": "markdown",
   "metadata": {},
   "source": [
    "#### 建立實體物件並同時定義"
   ]
  },
  {
   "cell_type": "code",
   "execution_count": 6,
   "metadata": {},
   "outputs": [],
   "source": [
    "c = cls('QQ')"
   ]
  },
  {
   "cell_type": "code",
   "execution_count": 7,
   "metadata": {},
   "outputs": [
    {
     "data": {
      "text/plain": [
       "'QQ'"
      ]
     },
     "execution_count": 7,
     "metadata": {},
     "output_type": "execute_result"
    }
   ],
   "source": [
    "c.var2 # "
   ]
  },
  {
   "cell_type": "code",
   "execution_count": 8,
   "metadata": {},
   "outputs": [
    {
     "name": "stdout",
     "output_type": "stream",
     "text": [
      "I'm class-cls's Func2\n"
     ]
    }
   ],
   "source": [
    "c.func2() # 可以呼叫func2"
   ]
  },
  {
   "cell_type": "markdown",
   "metadata": {},
   "source": [
    "### getattr 用 'string' 取得某物件屬性 或 方法\n",
    "```\n",
    "getattr(object, name[, default]) -> value\n",
    "\n",
    "Get a named attribute from an object; getattr(x, 'y') is equivalent to x.y.\n",
    "When a default argument is given, it is returned when the attribute doesn't\n",
    "exist; without it, an exception is raised in that case.\n",
    "```"
   ]
  },
  {
   "cell_type": "code",
   "execution_count": 9,
   "metadata": {},
   "outputs": [],
   "source": [
    "class test():\n",
    "    a = 55 # 定義一個屬性\n",
    "    def b(self): # 定義一個方法\n",
    "        print('func: test.b()')"
   ]
  },
  {
   "cell_type": "code",
   "execution_count": 10,
   "metadata": {},
   "outputs": [
    {
     "data": {
      "text/plain": [
       "55"
      ]
     },
     "execution_count": 10,
     "metadata": {},
     "output_type": "execute_result"
    }
   ],
   "source": [
    "tt = test()\n",
    "tt.a"
   ]
  },
  {
   "cell_type": "code",
   "execution_count": 11,
   "metadata": {},
   "outputs": [
    {
     "data": {
      "text/plain": [
       "55"
      ]
     },
     "execution_count": 11,
     "metadata": {},
     "output_type": "execute_result"
    }
   ],
   "source": [
    "getattr(tt, 'a') # 可以這樣取屬性"
   ]
  },
  {
   "cell_type": "code",
   "execution_count": 12,
   "metadata": {},
   "outputs": [
    {
     "name": "stdout",
     "output_type": "stream",
     "text": [
      "func: test.b()\n"
     ]
    }
   ],
   "source": [
    "getattr(tt, 'b')() # 可以這樣執行方法"
   ]
  },
  {
   "cell_type": "code",
   "execution_count": 13,
   "metadata": {},
   "outputs": [
    {
     "name": "stdout",
     "output_type": "stream",
     "text": [
      "tt.c is not exist\n"
     ]
    }
   ],
   "source": [
    "try:\n",
    "    getattr(tt, 'c')\n",
    "except:\n",
    "    print('tt.c is not exist')"
   ]
  },
  {
   "cell_type": "code",
   "execution_count": 14,
   "metadata": {},
   "outputs": [
    {
     "data": {
      "text/plain": [
       "56"
      ]
     },
     "execution_count": 14,
     "metadata": {},
     "output_type": "execute_result"
    }
   ],
   "source": [
    "getattr(tt, 'c', 56) # 設定預設值就可以執行了！"
   ]
  }
 ],
 "metadata": {
  "kernelspec": {
   "display_name": "Python 3",
   "language": "python",
   "name": "python3"
  },
  "language_info": {
   "codemirror_mode": {
    "name": "ipython",
    "version": 3
   },
   "file_extension": ".py",
   "mimetype": "text/x-python",
   "name": "python",
   "nbconvert_exporter": "python",
   "pygments_lexer": "ipython3",
   "version": "3.7.3"
  }
 },
 "nbformat": 4,
 "nbformat_minor": 2
}
