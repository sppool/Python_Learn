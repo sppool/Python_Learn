{
 "cells": [
  {
   "cell_type": "markdown",
   "metadata": {},
   "source": [
    "## 使用 `Markdown`"
   ]
  },
  {
   "cell_type": "markdown",
   "metadata": {},
   "source": [
    "# 標題 (# + text)\n",
    "## 次標題 (## + text)\n",
    "...依此類推(Atx形式)\n",
    "\n",
    "標題還可以這樣使用\n",
    "```\n",
    "This is an H1\n",
    "=============\n",
    "\n",
    "This is an H2\n",
    "-------------\n",
    "```\n",
    "(Setext形式)\n",
    "\n",
    "---\n",
    "段落以空白行分隔。\n",
    "\n",
    "\"行末\" 兩個空格 産生斷行(jupyter如此,各自編輯器有其他語法) \"_\" x 2  \n",
    "<<<<<<<<<<<< 下一行 >>>>>>>>>>>>\n",
    "\n",
    "---\n",
    "### 文本屬性：\n",
    "_斜體_  \n",
    "*斜體*  \n",
    "__粗體__  \n",
    "**粗體**  \n",
    "~~刪除線~~  \n",
    "`等寬字型`  \n",
    "Proportional  \n",
    "`Monospaced`\n",
    "![](https://i.imgur.com/X8k8Myc.png)\n",
    "---\n",
    "### 列表：( *, +, - 皆可 )\n",
    "* 王二\n",
    "* 張三\n",
    "  - 張三伍(多階層,前面兩個空格)\n",
    "  - 張三柒\n",
    "    - 張三柒伍減租(Q_Q)\n",
    "* 李四\n",
    "---\n",
    "### 編號列表：( 數字 + . )\n",
    "1. 不論\n",
    "2. 三七\n",
    "3. 二十一\n",
    "---\n",
    "### Cherk Box：( *, +, - 皆可 & [space or x] )\n",
    "+ [x] `male`\n",
    "+ [ ] `female`\n",
    "+ [ ] `?????`\n",
    "---\n",
    "### 表格：(只能簡單的表格)\n",
    "|預設值  |靠右對齊|靠左對齊|置中對齊|\n",
    "|-------|------:|:-----|:-----:|\n",
    "|1234   |1234   |1234  |1234   |\n",
    "|123    |123    |123   |123    |\n",
    "|12     |12     |12    |12     |\n",
    "|1      |1      |1     |1      |\n",
    "\n",
    "---\n",
    "### 區塊：三個反引號( ` )\n",
    "```\n",
    "name = 'pool'\n",
    "print('Hello', name)\n",
    "```\n",
    "#### 可以點亮不同程式語法：\n",
    "python:\n",
    "```python\n",
    "name = 'pool'\n",
    "print('Hello', name)\n",
    "```\n",
    "c:\n",
    "```c\n",
    "void main()\n",
    "{\n",
    "  int num = 5;\n",
    "  printf(\"%d\\n\", num);\n",
    "}\n",
    "```\n",
    "---\n",
    "### 階層式區塊：\n",
    "> POOL\n",
    ">> Qoo!!\n",
    ">>> Good~\n",
    "---\n",
    "### 連結使用\n",
    "[連結名稱] + ( 網址)\n",
    "[Google](https://www.google.com.tw/)\n",
    "\n",
    "---\n",
    "### 圖片使用\n",
    "! + [圖片名稱] + (圖片網址資料夾位置)\n",
    "![台灣黑熊](https://attach.setn.com/newsimages/2014/09/22/145441-XXL.jpg)\n",
    "\n",
    "---\n",
    "### html：(可以直接讀取html標籤語法)\n",
    "<p>\n",
    "  <center>\n",
    "    <img width=\"500\" src=\"https://mdn.mozillademos.org/files/9347/grumpy-cat-small.png\" alt=\"\">\n",
    "  </center>\n",
    "</p>\n",
    "<b>\n",
    "  <center>support 'html'</center>\n",
    "</b>\n",
    "<hr>\n",
    "\n",
    "### 數學公式：(支援 $LaTax$ 格式, 用\"錢($)\"包起來)\n",
    "\n",
    "#### 範例：\n",
    "\n",
    "$m = \\frac{m_0}{\\sqrt{1-\\frac{v^2}{c^2}}}$\n",
    "\n",
    "#### 上標：\n",
    "\n",
    "$X^{n+1}$\n",
    "\n",
    "#### 下標：\n",
    "\n",
    "$X_{m+1}$\n",
    "\n",
    "#### 開根號：\n",
    "\n",
    "$\\sqrt{x^2 + y^2}$\n",
    "\n",
    "#### 分數：\n",
    "\n",
    "$9.8\\frac{m^2}{s}$\n",
    "\n",
    "---\n",
    "### 分割線： ^\n",
    "```\n",
    "---\n",
    "***\n",
    "___\n",
    "-----\n",
    "* * *\n",
    "很多種都可以,當然也可以用<hr>\n",
    "```\n",
    "---\n",
    "\n",
    "\n",
    "\n",
    "### 計算速度\n",
    "```\n",
    "%%time or %%timeit\n",
    "要執行code\n",
    "```"
   ]
  },
  {
   "cell_type": "code",
   "execution_count": 1,
   "metadata": {},
   "outputs": [
    {
     "name": "stdout",
     "output_type": "stream",
     "text": [
      "CPU times: user 3 µs, sys: 0 ns, total: 3 µs\n",
      "Wall time: 7.15 µs\n"
     ]
    }
   ],
   "source": [
    "%%time\n",
    "c = 100"
   ]
  },
  {
   "cell_type": "markdown",
   "metadata": {},
   "source": [
    "### 執行外部程式碼\n",
    "* %run"
   ]
  },
  {
   "cell_type": "code",
   "execution_count": 2,
   "metadata": {},
   "outputs": [
    {
     "name": "stdout",
     "output_type": "stream",
     "text": [
      "thks use func.py\n",
      "just func.py\n"
     ]
    }
   ],
   "source": [
    "%run func.py"
   ]
  },
  {
   "cell_type": "markdown",
   "metadata": {},
   "source": [
    "### 抑制輸出\n",
    "* 分號(;)"
   ]
  },
  {
   "cell_type": "code",
   "execution_count": 3,
   "metadata": {},
   "outputs": [],
   "source": [
    "1 + 1 ;"
   ]
  },
  {
   "cell_type": "markdown",
   "metadata": {},
   "source": [
    "### 當成 shell\n",
    "* ! shell command"
   ]
  },
  {
   "cell_type": "code",
   "execution_count": 4,
   "metadata": {},
   "outputs": [
    {
     "name": "stdout",
     "output_type": "stream",
     "text": [
      "/home/sppool/Swap_Zone/Program/Python/Learn\r\n"
     ]
    }
   ],
   "source": [
    "!pwd"
   ]
  }
 ],
 "metadata": {
  "kernelspec": {
   "display_name": "Python 3",
   "language": "python",
   "name": "python3"
  },
  "language_info": {
   "codemirror_mode": {
    "name": "ipython",
    "version": 3
   },
   "file_extension": ".py",
   "mimetype": "text/x-python",
   "name": "python",
   "nbconvert_exporter": "python",
   "pygments_lexer": "ipython3",
   "version": "3.7.3"
  }
 },
 "nbformat": 4,
 "nbformat_minor": 2
}
