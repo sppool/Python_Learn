{
 "cells": [
  {
   "cell_type": "markdown",
   "metadata": {},
   "source": [
    "## 函式裝飾器\n",
    "```\n",
    "利用原函式的引數作其他應用  \n",
    "*args:    引數(x)  \n",
    "**kwargs: 關鍵字引數(x=?)  \n",
    "```"
   ]
  },
  {
   "cell_type": "code",
   "execution_count": 1,
   "metadata": {},
   "outputs": [
    {
     "name": "stdout",
     "output_type": "stream",
     "text": [
      "Hello\n",
      "World\n"
     ]
    }
   ],
   "source": [
    "# printWorld = printHello(printWorld)\n",
    "\n",
    "def printHello(func):\n",
    "    def new_func():\n",
    "        print('Hello')\n",
    "        return func()\n",
    "    return new_func\n",
    "\n",
    "@printHello\n",
    "def printWorld():\n",
    "    print('World')\n",
    "\n",
    "printWorld()"
   ]
  },
  {
   "cell_type": "code",
   "execution_count": 2,
   "metadata": {},
   "outputs": [
    {
     "name": "stdout",
     "output_type": "stream",
     "text": [
      "Hello\n",
      "KittyDanny\n",
      "PoolAlan\n",
      "KittyDannyPoolAlan\n"
     ]
    }
   ],
   "source": [
    "# printDouble = printHello(printDouble)\n",
    "\n",
    "def printHello(func):\n",
    "    def new_func(*args, **kwargs):\n",
    "        print('Hello') # hello\n",
    "        a = ''\n",
    "        for x in args:\n",
    "            a += x\n",
    "        print(a)\n",
    "        a = ''\n",
    "        for x in kwargs.values():\n",
    "            a += x\n",
    "        print(a)\n",
    "        return func(*args, **kwargs)\n",
    "    return new_func\n",
    "\n",
    "@printHello\n",
    "def printDouble(arg1, arg2, arg3, arg4):\n",
    "    print(arg1 + arg2 + arg3 + arg4)\n",
    "    \n",
    "\n",
    "\n",
    "\n",
    "printDouble('Kitty', 'Danny', arg3='Pool', arg4='Alan')"
   ]
  },
  {
   "cell_type": "code",
   "execution_count": 3,
   "metadata": {},
   "outputs": [],
   "source": [
    "def doc1(func):\n",
    "    def new_func(*args, **kwargs):\n",
    "        print('doc1')\n",
    "        print('args:', args)\n",
    "        print('kwargs:', kwargs)\n",
    "        res = func(*args, **kwargs) # func() = cell()\n",
    "        res *= list(kwargs.values())[0] # res *= c\n",
    "        print('doc1:', res)\n",
    "        return res\n",
    "    return new_func\n",
    "\n",
    "def doc2(func):\n",
    "    def new_func(*args, **kwargs):\n",
    "        print('doc2')\n",
    "        print('args:', args)\n",
    "        print('kwargs:', kwargs)\n",
    "        res = func(*args, **kwargs) # func() = doc1(cell())\n",
    "        res += list(kwargs.values())[1] # res += d\n",
    "        print('doc2:', res)\n",
    "        return res\n",
    "    return new_func"
   ]
  },
  {
   "cell_type": "code",
   "execution_count": 4,
   "metadata": {},
   "outputs": [
    {
     "name": "stdout",
     "output_type": "stream",
     "text": [
      "doc1\n",
      "args: (1, 10)\n",
      "kwargs: {'c': 10, 'd': 5}\n",
      "doc2\n",
      "args: (1, 10)\n",
      "kwargs: {'c': 10, 'd': 5}\n",
      "cell\n",
      "doc2: 16\n",
      "doc1: 160\n"
     ]
    },
    {
     "data": {
      "text/plain": [
       "160"
      ]
     },
     "execution_count": 4,
     "metadata": {},
     "output_type": "execute_result"
    }
   ],
   "source": [
    "# cell() = doc1(doc2(cell()))\n",
    "\n",
    "@doc1\n",
    "@doc2\n",
    "def cell(a, b, *args, **kwargs):\n",
    "    print('cell')\n",
    "    return (a + b)\n",
    "\n",
    "cell(1, 10, c=10, d=5)\n",
    "#((a +  b) + d) *  c\n",
    "#((1 + 10) + 5) * 10"
   ]
  },
  {
   "cell_type": "code",
   "execution_count": 5,
   "metadata": {},
   "outputs": [
    {
     "name": "stdout",
     "output_type": "stream",
     "text": [
      "doc2\n",
      "args: (1, 10)\n",
      "kwargs: {'c': 10, 'd': 5}\n",
      "doc1\n",
      "args: (1, 10)\n",
      "kwargs: {'c': 10, 'd': 5}\n",
      "cell\n",
      "doc1: 110\n",
      "doc2: 115\n"
     ]
    },
    {
     "data": {
      "text/plain": [
       "115"
      ]
     },
     "execution_count": 5,
     "metadata": {},
     "output_type": "execute_result"
    }
   ],
   "source": [
    "# cell() = doc2(doc1(cell()))\n",
    "\n",
    "@doc2\n",
    "@doc1\n",
    "def cell(a,b,c,d):\n",
    "    print('cell')\n",
    "    return (a + b)\n",
    "\n",
    "cell(1, 10, c=10, d=5)\n",
    "#((a +  b) *  c) + c\n",
    "#((1 + 10) * 10) + 5"
   ]
  },
  {
   "cell_type": "code",
   "execution_count": 6,
   "metadata": {},
   "outputs": [],
   "source": [
    "# 不傳遞 數值！\n",
    "def doc1(func):\n",
    "    def new_func(*args, **kwargs):\n",
    "        print('doc11')\n",
    "        func(*args, **kwargs) # func() = cell()\n",
    "        print('doc12')\n",
    "    return new_func\n",
    "\n",
    "def doc2(func):\n",
    "    def new_func(*args, **kwargs):\n",
    "        print('doc21')\n",
    "        res = func(*args, **kwargs) # func() = cell()\n",
    "        print('doc22')\n",
    "    return new_func\n",
    "\n",
    "# cell() = doc1(doc2(cell()))\n",
    "@doc1\n",
    "@doc2\n",
    "def cell(a, b, *args, **kwargs):\n",
    "    print('cell')\n",
    "    return (a + b)"
   ]
  },
  {
   "cell_type": "code",
   "execution_count": 7,
   "metadata": {},
   "outputs": [
    {
     "name": "stdout",
     "output_type": "stream",
     "text": [
      "doc11\n",
      "doc21\n",
      "cell\n",
      "doc22\n",
      "doc12\n"
     ]
    }
   ],
   "source": [
    "cell(1, 2)"
   ]
  },
  {
   "cell_type": "markdown",
   "metadata": {},
   "source": [
    "### 靜態方法 `@staticmethod` & 類別方法 `@classmethod`\n",
    "\n",
    "[連結1](https://ithelp.ithome.com.tw/articles/10200945)  \n",
    "[連結2](https://openhome.cc/Gossip/Python/StaticClassMethod.html)  \n",
    "[連結3](https://github.com/dokelung/Python-QA/blob/master/questions/object/Python%E7%9A%84staticmethod%E5%9C%A8%E4%BB%80%E9%BA%BC%E6%83%85%E6%B3%81%E4%B8%8B%E7%94%A8.md)  \n",
    "[連結4](https://julien.danjou.info/guide-python-static-class-abstract-methods/)"
   ]
  },
  {
   "cell_type": "code",
   "execution_count": 8,
   "metadata": {},
   "outputs": [],
   "source": [
    "class Cls:\n",
    "    def func1(self, *args, **kwargs): # 約定俗成的使用方法\n",
    "#         print(self)\n",
    "        print(\"I'm func-1\")\n",
    "        \n",
    "    def func2(*args, **kwargs): # 沒有self(綁定實體),也能執行! (Python3 給的方便, 其實等同@staticmethod)\n",
    "        print(\"I'm func-2\")\n",
    "\n",
    "    @staticmethod # 靜態方法\n",
    "    def func3(*args, **kwargs):\n",
    "        print(\"I'm func-3\")\n",
    "\n",
    "    @classmethod # 類別方法 cls表示類本身\n",
    "    def func4(cls, *args, **kwargs):\n",
    "#         print(cls)\n",
    "        print(\"I'm func-4\")"
   ]
  },
  {
   "cell_type": "markdown",
   "metadata": {},
   "source": [
    "### 不需要建構實體也能呼叫方法"
   ]
  },
  {
   "cell_type": "code",
   "execution_count": 9,
   "metadata": {},
   "outputs": [
    {
     "name": "stdout",
     "output_type": "stream",
     "text": [
      "I cannot do func1, lose self.\n",
      "I'm func-2\n",
      "I'm func-3\n",
      "I'm func-4\n"
     ]
    }
   ],
   "source": [
    "try:\n",
    "    Cls.func1() #因為沒有實體化不能執行\n",
    "except:\n",
    "    print(\"I cannot do func1, lose self.\")\n",
    "Cls.func2()\n",
    "Cls.func3()\n",
    "Cls.func4()"
   ]
  },
  {
   "cell_type": "code",
   "execution_count": 10,
   "metadata": {},
   "outputs": [
    {
     "name": "stdout",
     "output_type": "stream",
     "text": [
      "I'm func-1\n"
     ]
    }
   ],
   "source": [
    "Cls.func1(1) # 可執行是因為 self = 1 (當成了普通變數)"
   ]
  },
  {
   "cell_type": "code",
   "execution_count": 11,
   "metadata": {},
   "outputs": [
    {
     "name": "stdout",
     "output_type": "stream",
     "text": [
      "I'm func-1\n",
      "I'm func-2\n",
      "I'm func-3\n",
      "I'm func-4\n"
     ]
    }
   ],
   "source": [
    "test = Cls() # 實體化 大家都ok\n",
    "\n",
    "test.func1()\n",
    "test.func2()\n",
    "test.func3()\n",
    "test.func4()"
   ]
  }
 ],
 "metadata": {
  "kernelspec": {
   "display_name": "Python 3",
   "language": "python",
   "name": "python3"
  },
  "language_info": {
   "codemirror_mode": {
    "name": "ipython",
    "version": 3
   },
   "file_extension": ".py",
   "mimetype": "text/x-python",
   "name": "python",
   "nbconvert_exporter": "python",
   "pygments_lexer": "ipython3",
   "version": "3.7.3"
  }
 },
 "nbformat": 4,
 "nbformat_minor": 2
}
