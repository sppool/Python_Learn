{
 "cells": [
  {
   "cell_type": "markdown",
   "metadata": {},
   "source": [
    "## [logging](https://docs.python.org/3/library/logging.html#module-logging) 套件\n",
    "### [`logging.basicConfig(**kwargs)` 日誌設定](https://docs.python.org/3/library/logging.html#logging.basicConfig)\n",
    "The call to basicConfig() should come before any calls to debug(), info() etc. As it’s intended as a one-off simple configuration facility, only the first call will actually do anything: subsequent calls are effectively no-ops.\n",
    "\n",
    "#### 要在最早呼叫, 且只能呼叫一次, 之後無效！\n",
    "\n",
    "| Format | Description |\n",
    "|--------|-------------|\n",
    "|filename|Specifies that a FileHandler be created, using the specified filename, rather than a StreamHandler.|\n",
    "|filemode|If filename is specified, open the file in this mode. Defaults to 'a'.|\n",
    "|format|Use the specified format string for the handler.|\n",
    "|datefmt|Use the specified date/time format, as accepted by time.strftime().|\n",
    "|style|If format is specified, use this style for the format string. One of '%', '{' or '$' for printf-style, str.format() or string.Template respectively. Defaults to '%'.|\n",
    "|level|Set the root logger level to the specified level.|\n",
    "|stream|Use the specified stream to initialize the StreamHandler. Note that this argument is incompatible with filename - if both are present, a ValueError is raised.|\n",
    "|handls|If specified, this should be an iterable of already created handlers to add to the root logger. Any handlers which don’t already have a formatter set will be assigned the default formatter created in this function. Note that this argument is incompatible with filename or stream - if both are present, a ValueError is raised.|\n",
    "\n",
    ">### filename (輸出文件名稱)\n",
    ">### [filemode](https://docs.python.org/3/library/functions.html#filemodes) (開啟文件的模式同`open`, 預設是`'a'`添加)\n",
    ">>|Character|Meaning|\n",
    ">>|---|---|\n",
    ">>|'w'|複寫  open for writing, truncating the file first|\n",
    ">>|'a'|添加  open for writing, appending to the end of the file if it exists|\n",
    "\n",
    ">### [format](https://docs.python.org/3/library/logging.html#logrecord-attributes) (logging格式)\n",
    ">>|種類 | |\n",
    ">>|---|---|\n",
    ">>|%(levelname)s|`DEBUG`, `INFO`, `WARNING`...等|\n",
    ">>|%(levelno)s|Numeric value 紀錄級別|\n",
    ">>|%(asctime)s|當下的時間|\n",
    ">>|%(message)s|傳入的訊息|\n",
    ">>|%(name)s|使用者|\n",
    ">### [datefmt](https://docs.python.org/3/library/time.html#time.strftime) (時間格式)\n",
    ">### Level (輸出等級設定 預設是`INFO`)\n",
    ">只會紀錄超過設定等級的報告:\n",
    ">>|Numeric value 紀錄級別|level|function|\n",
    ">>|----|---|---|\n",
    ">>| 10 |`DEBUG`|詳細信息通常僅在診斷問題時才有意義|\n",
    ">>| 20 |`INFO`|確認事情按預期工作|\n",
    ">>| 30 |`WARNING`|發生了意外情況或是不久的問題(例:磁盤空間不足) 程式仍在工作|\n",
    ">>| 40 |`ERROR`|嚴重的問題 程式無法執行某些功能|\n",
    ">>| 50 |`CRITICAL`|嚴重錯誤 程式本身無法繼續運行|"
   ]
  },
  {
   "cell_type": "code",
   "execution_count": 1,
   "metadata": {},
   "outputs": [],
   "source": [
    "import logging\n",
    "\n",
    "# 基本設定\n",
    "logging.basicConfig(filename='example.log',\n",
    "                    filemode='w',\n",
    "                    format='%(asctime)s:------%(levelno)s-------:%(message)s',\n",
    "                    datefmt='%a, %d %b %Y %H:%M:%S',\n",
    "                    level=logging.INFO) # 大寫是設定等級\n",
    "\n",
    "logging.debug('level1 DEBUG') # 小寫是輸出, 大寫是設定等級 \n",
    "logging.info('level2 INFO')\n",
    "logging.warning ('level3 WARNING')\n",
    "logging.error ('level4 ERROR')\n",
    "logging.critical ('level5 CRITICAL')"
   ]
  },
  {
   "cell_type": "markdown",
   "metadata": {},
   "source": [
    "### example.log :\n",
    "DEBUG 低於設定等級不會顯示！\n",
    "```\n",
    "Fri, 12 Jul 2019 10:08:26:level2 INFO\n",
    "Fri, 12 Jul 2019 10:08:26:level3 WARNING\n",
    "Fri, 12 Jul 2019 10:08:26:level4 ERROR\n",
    "Fri, 12 Jul 2019 10:08:26:level5 CRITICAL\n",
    "```"
   ]
  }
 ],
 "metadata": {
  "kernelspec": {
   "display_name": "Python 3",
   "language": "python",
   "name": "python3"
  },
  "language_info": {
   "codemirror_mode": {
    "name": "ipython",
    "version": 3
   },
   "file_extension": ".py",
   "mimetype": "text/x-python",
   "name": "python",
   "nbconvert_exporter": "python",
   "pygments_lexer": "ipython3",
   "version": "3.7.3"
  }
 },
 "nbformat": 4,
 "nbformat_minor": 2
}
