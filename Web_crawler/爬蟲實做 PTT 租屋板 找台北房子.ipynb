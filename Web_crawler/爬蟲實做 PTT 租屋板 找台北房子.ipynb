{
 "cells": [
  {
   "cell_type": "markdown",
   "metadata": {},
   "source": [
    "# [PTT 租屋板](https://www.ptt.cc/bbs/Rent_ya/index.html)\n",
    "\n",
    "### 導入套件"
   ]
  },
  {
   "cell_type": "code",
   "execution_count": 1,
   "metadata": {},
   "outputs": [],
   "source": [
    "import numpy as np\n",
    "import pandas as pd\n",
    "import requests # 讀取網頁資料\n",
    "import bs4"
   ]
  },
  {
   "cell_type": "code",
   "execution_count": 2,
   "metadata": {},
   "outputs": [],
   "source": [
    "headers = {'user-agent':'Mozilla/5.0 (X11; Linux x86_64)'}\n",
    "def get_soup(url, headers=headers):\n",
    "    r = requests.get(url, headers=headers)\n",
    "    rt = r.text\n",
    "    soup = bs4.BeautifulSoup(rt, \"html.parser\")\n",
    "    \n",
    "    return soup"
   ]
  },
  {
   "cell_type": "code",
   "execution_count": 3,
   "metadata": {},
   "outputs": [],
   "source": [
    "url = 'https://www.ptt.cc/bbs/Rent_ya/index.html'\n",
    "soup = get_soup(url)"
   ]
  },
  {
   "cell_type": "markdown",
   "metadata": {},
   "source": [
    "### 從超連結中找出上頁的連結"
   ]
  },
  {
   "cell_type": "code",
   "execution_count": 4,
   "metadata": {},
   "outputs": [],
   "source": [
    "def get_up_page(soup):\n",
    "    for a in soup.find_all('a'):\n",
    "        if '上頁' in a.get_text():\n",
    "            try:\n",
    "                up_page = 'https://www.ptt.cc' + a['href']\n",
    "            except:\n",
    "                up_page = ''\n",
    "            \n",
    "            break\n",
    "            \n",
    "    return up_page"
   ]
  },
  {
   "cell_type": "code",
   "execution_count": 5,
   "metadata": {},
   "outputs": [
    {
     "data": {
      "text/plain": [
       "'https://www.ptt.cc/bbs/Rent_ya/index20.html'"
      ]
     },
     "execution_count": 5,
     "metadata": {},
     "output_type": "execute_result"
    }
   ],
   "source": [
    "new_url = get_up_page(soup)\n",
    "new_url"
   ]
  },
  {
   "cell_type": "code",
   "execution_count": 6,
   "metadata": {},
   "outputs": [
    {
     "data": {
      "text/plain": [
       "'https://www.ptt.cc/bbs/Rent_ya/index19.html'"
      ]
     },
     "execution_count": 6,
     "metadata": {},
     "output_type": "execute_result"
    }
   ],
   "source": [
    "soup = get_soup(new_url)\n",
    "get_up_page(soup)"
   ]
  },
  {
   "cell_type": "markdown",
   "metadata": {},
   "source": [
    "### 抓取頁面中的\"男/台北\"標題"
   ]
  },
  {
   "cell_type": "code",
   "execution_count": 7,
   "metadata": {},
   "outputs": [],
   "source": [
    "def print_tag(soup, tag='台北'):\n",
    "    for div in soup.select('div.r-ent'):\n",
    "        if div.a:\n",
    "            at = div.a.get_text()\n",
    "            if tag in at and '女' not in at :\n",
    "                date = div.find('div', {'class':'date'}).get_text()\n",
    "                print(f'{date} {at} ---->  https://www.ptt.cc{div.a[\"href\"]}')"
   ]
  },
  {
   "cell_type": "code",
   "execution_count": 8,
   "metadata": {
    "scrolled": false
   },
   "outputs": [
    {
     "name": "stdout",
     "output_type": "stream",
     "text": [
      " 1/11 [無/台北/古亭] 近台大師大古亭捷運站出口大樓 ---->  https://www.ptt.cc/bbs/Rent_ya/M.1578743918.A.230.html\n",
      " 1/12 [無/台北/大安] 泰順街近台大師大公館捷運台電 ---->  https://www.ptt.cc/bbs/Rent_ya/M.1578758633.A.5BC.html\n",
      " 1/12 [無/台北/信義區] 市政府站出口一分鐘美雅房 ---->  https://www.ptt.cc/bbs/Rent_ya/M.1578796774.A.61D.html\n",
      " 1/13 [徵/台北/中山]  徵 中山國中捷運站附近 ---->  https://www.ptt.cc/bbs/Rent_ya/M.1578850519.A.09B.html\n",
      " 7/26 [台北][內湖] 租屋慎選 ---->  https://www.ptt.cc/bbs/Rent_ya/M.1501074398.A.E9E.html\n",
      " 1/07 [無/台北/永和] 永元路透天冷氣雅房出租. ---->  https://www.ptt.cc/bbs/Rent_ya/M.1578390826.A.BC8.html\n",
      " 1/08 [無/台北/萬華] 近青年公園便宜雅房 ---->  https://www.ptt.cc/bbs/Rent_ya/M.1578446849.A.789.html\n",
      " 1/08 [無/台北/內湖] 近內湖站公寓雅房徵室友 ---->  https://www.ptt.cc/bbs/Rent_ya/M.1578489822.A.90C.html\n",
      " 1/09 [無/台北/文山] 可寵可貓可養貓有流理台 世新電梯大樓捷運景美站 ---->  https://www.ptt.cc/bbs/Rent_ya/M.1578562816.A.698.html\n",
      " 1/09 [無/台北/木柵] 政大庭園僻靜雅房 ---->  https://www.ptt.cc/bbs/Rent_ya/M.1578572309.A.9E1.html\n",
      " 1/04 [男/台北/文山] 近政大世新萬芳 包水電瓦斯網路  ---->  https://www.ptt.cc/bbs/Rent_ya/M.1578150149.A.F2C.html\n",
      " 1/05 [無/台北/大同] 近北門捷運站雅房  ---->  https://www.ptt.cc/bbs/Rent_ya/M.1578199765.A.D53.html\n",
      " 1/05 [無/台北/大安] 泰順街近台大師大公館捷運台電 ---->  https://www.ptt.cc/bbs/Rent_ya/M.1578209543.A.C7B.html\n",
      " 1/06 [無/台北/大安] 近古亭+東門站+師大附網路雅房 ---->  https://www.ptt.cc/bbs/Rent_ya/M.1578284875.A.410.html\n",
      " 1/02 [無/台北/大安] 信義路三段雅房分租(近大安站)  ---->  https://www.ptt.cc/bbs/Rent_ya/M.1577947411.A.E92.html\n",
      " 1/04 [無/台北/士林] 文昌路雅房出租 近新光醫院 ---->  https://www.ptt.cc/bbs/Rent_ya/M.1578102699.A.A8E.html\n",
      " 1/04 [男/台北/大安] 近師大夜市古亭國小3200起 ---->  https://www.ptt.cc/bbs/Rent_ya/M.1578110682.A.87E.html\n",
      " 1/04 [無/台北/木柵] 政大庭園僻靜雅房 ---->  https://www.ptt.cc/bbs/Rent_ya/M.1578116735.A.6C6.html\n",
      " 1/04 [男/台北/大安] 師大路,近台電站,有院子,機車位  ---->  https://www.ptt.cc/bbs/Rent_ya/M.1578118891.A.0C9.html\n",
      "12/27 [無/台北/大安] 古亭站冷氣雅房 交通超便利  ---->  https://www.ptt.cc/bbs/Rent_ya/M.1577444457.A.C84.html\n",
      "12/28 [男/台北/文山] 近政大、世新 包水電瓦斯網路  ---->  https://www.ptt.cc/bbs/Rent_ya/M.1577488549.A.7D1.html\n",
      "12/29 [男/台北/政大] 雅房 指南路二段政大旁 4300元/ ---->  https://www.ptt.cc/bbs/Rent_ya/M.1577597409.A.4DB.html\n",
      "12/29 [無/台北/北投] 稍微遠一點悠閒多一點 奇岩12分 ---->  https://www.ptt.cc/bbs/Rent_ya/M.1577605678.A.06D.html\n",
      "12/30 [無/台北/南港] 合順街雅房近中研院 ---->  https://www.ptt.cc/bbs/Rent_ya/M.1577715273.A.7EE.html\n",
      "12/22 [無/台北/天母] 天玉高級住宅區雅芳徵室友 ---->  https://www.ptt.cc/bbs/Rent_ya/M.1576999419.A.734.html\n",
      "12/23 [男/台北/中和] 環境優高樓景觀近中和秀朗橋捷運 ---->  https://www.ptt.cc/bbs/Rent_ya/M.1577031081.A.EFC.html\n",
      "12/23 [徵/台北/南港] 近南港車站雅房 ---->  https://www.ptt.cc/bbs/Rent_ya/M.1577086177.A.063.html\n",
      "12/24 [徵/台北/內湖] 內湖文德2雅房（好採光陽台、廚房、可開伙) ---->  https://www.ptt.cc/bbs/Rent_ya/M.1577194056.A.239.html\n",
      "12/17 [男/台北/中山] 近中山國中站雅房出租 ---->  https://www.ptt.cc/bbs/Rent_ya/M.1576568499.A.6BF.html\n",
      "12/17 [無/台北/大安] 近台大師大 離捷運近 ---->  https://www.ptt.cc/bbs/Rent_ya/M.1576596584.A.220.html\n",
      "12/19 [男/台北/大安] 近師大台大古亭捷運4500有冷氣 ---->  https://www.ptt.cc/bbs/Rent_ya/M.1576767471.A.D69.html\n",
      "12/20 [男/台北/中正] 捷運中正紀念堂1分鐘4500含水電短可 ---->  https://www.ptt.cc/bbs/Rent_ya/M.1576838240.A.4C8.html\n",
      "12/21 [無/台北/內湖] 近東湖捷運站5500元出租 ---->  https://www.ptt.cc/bbs/Rent_ya/M.1576900787.A.C79.html\n",
      "12/21 [無/台北/信義] 莊敬路家庭式徵室友 ---->  https://www.ptt.cc/bbs/Rent_ya/M.1576935839.A.577.html\n",
      "12/13 [男/台北/中和] 新裝潢 距公館7分鐘 近秀朗橋  ---->  https://www.ptt.cc/bbs/Rent_ya/M.1576220686.A.AC4.html\n",
      "12/13 [男/台北/中和] 新裝潢 距公館3分鐘 緊鄰秀朗橋  ---->  https://www.ptt.cc/bbs/Rent_ya/M.1576220946.A.07E.html\n",
      "12/14 [男/台北/文山] 近政大 世新 包水電瓦斯網路  ---->  https://www.ptt.cc/bbs/Rent_ya/M.1576284822.A.97A.html\n",
      "12/04 [徵/台北/多區] 代PO 可貓雅房、合租佳  ---->  https://www.ptt.cc/bbs/Rent_ya/M.1575434678.A.516.html\n",
      "12/05 [無/台北/永和] 5000全包中正橋旁可短租百M網路 ---->  https://www.ptt.cc/bbs/Rent_ya/M.1575547147.A.580.html\n",
      "12/08 [無/台北/大安] 北漂青年首選 精華住宅區 ---->  https://www.ptt.cc/bbs/Rent_ya/M.1575737915.A.D45.html\n",
      "12/09 [無/台北/公館] 家庭式雙人雅房，萬隆站一分鐘  ---->  https://www.ptt.cc/bbs/Rent_ya/M.1575892123.A.BB6.html\n",
      "12/10 [無/台北/大安] 古亭站冷氣雅房  ---->  https://www.ptt.cc/bbs/Rent_ya/M.1575914707.A.210.html\n",
      "11/28 [無/台北/淡水] 淡大旁 優質雅房 限學生2500/月 ---->  https://www.ptt.cc/bbs/Rent_ya/M.1574927226.A.05E.html\n",
      "11/29 [男/台北/中正] 中正紀念站1分鐘4500含水電短可 ---->  https://www.ptt.cc/bbs/Rent_ya/M.1574992528.A.9F3.html\n",
      "11/30 [徵/台北/中山] 南京復興鄰近捷運站短租一個月 ---->  https://www.ptt.cc/bbs/Rent_ya/M.1575077849.A.0F7.html\n",
      "12/01 [徵/台北/中山] 誠徵短租一個月 ---->  https://www.ptt.cc/bbs/Rent_ya/M.1575211097.A.C90.html\n",
      "12/02 [男/台北/文山] 近政大、世新 包水電瓦斯  ---->  https://www.ptt.cc/bbs/Rent_ya/M.1575301577.A.5F7.html\n",
      "12/03 [男/台北/大安] 臥龍街近台大台科 5500含水網路 ---->  https://www.ptt.cc/bbs/Rent_ya/M.1575362085.A.456.html\n",
      "11/23 [徵/台北/信義] 板南線　雅房  ---->  https://www.ptt.cc/bbs/Rent_ya/M.1574491206.A.001.html\n",
      "11/23 [徵/台北/市區] 南京復興 松山火車站、忠孝復興 ---->  https://www.ptt.cc/bbs/Rent_ya/M.1574495413.A.371.html\n",
      "11/24 [徵/台北/內湖] 南港 ---->  https://www.ptt.cc/bbs/Rent_ya/M.1574562663.A.1DC.html\n",
      "11/24 [徵/台北/信義] 三興國小、北醫吳興街、市政府 ---->  https://www.ptt.cc/bbs/Rent_ya/M.1574586550.A.037.html\n",
      "11/24 [無/台北/南港] 捷運南港展覽館/全新雅房釋出 ---->  https://www.ptt.cc/bbs/Rent_ya/M.1574608679.A.F70.html\n",
      "11/24 [無/台北/文山] 公館新裝潢Share House雅房出租 ---->  https://www.ptt.cc/bbs/Rent_ya/M.1574609194.A.B12.html\n",
      "11/24 [徵/台北/信義] 大安松山 家庭式雅房分租  ---->  https://www.ptt.cc/bbs/Rent_ya/M.1574609677.A.BEC.html\n",
      "11/24 [無/台北/大安] 近師大台大、台電大樓站雅房釋出 ---->  https://www.ptt.cc/bbs/Rent_ya/M.1574609845.A.766.html\n",
      "11/25 [無/台北/信義] 6500北醫101六張犁安和可短租 ---->  https://www.ptt.cc/bbs/Rent_ya/M.1574651049.A.D3C.html\n",
      "11/26 [無/台北/石牌] 大雅房 石牌捷運站7分 近陽明大 ---->  https://www.ptt.cc/bbs/Rent_ya/M.1574738860.A.B8A.html\n",
      "11/27 [無/台北/公館] 獨立雅房 近台大公館站 ---->  https://www.ptt.cc/bbs/Rent_ya/M.1574831169.A.5B0.html\n",
      "11/27 [無/台北/公館] 近台大及公館捷運站,生活機能佳 ---->  https://www.ptt.cc/bbs/Rent_ya/M.1574835699.A.6DD.html\n",
      "11/17 [無/台北/中正] 可貓高級美裝家庭式雅房 ---->  https://www.ptt.cc/bbs/Rent_ya/M.1573932539.A.8DA.html\n",
      "11/18 [徵/台北/南港] 板南線　雅房 ---->  https://www.ptt.cc/bbs/Rent_ya/M.1574075634.A.E1C.html\n",
      "11/19 [男/台北/大安] 國父紀念館 採光明亮雅房招租 ---->  https://www.ptt.cc/bbs/Rent_ya/M.1574144705.A.EDC.html\n",
      "11/20 [男/台北/新店] 大坪林捷運走4分靜亮寬敞通風  ---->  https://www.ptt.cc/bbs/Rent_ya/M.1574200162.A.AA9.html\n",
      "11/21 [無/台北/信義] 近北醫 吳興街冷氣雅房 ---->  https://www.ptt.cc/bbs/Rent_ya/M.1574306319.A.E02.html\n",
      "11/10 [無/台北/中正] 我們想找像我們的你！誠徵室友 ---->  https://www.ptt.cc/bbs/Rent_ya/M.1573391070.A.617.html\n",
      "11/11 [徵/台北/板橋] 板橋一代1-2個月短租(周邊也可) ---->  https://www.ptt.cc/bbs/Rent_ya/M.1573450864.A.A4F.html\n",
      "11/11 [徵/台北/南港] 板南線　雅房  ---->  https://www.ptt.cc/bbs/Rent_ya/M.1573481523.A.888.html\n",
      "11/15 [男/台北/大安] 6500科技大樓旁冷氣電梯雅房 ---->  https://www.ptt.cc/bbs/Rent_ya/M.1573830870.A.2DC.html\n",
      "11/16 [無/台北/中正] 近中正紀念堂 家庭式雅房徵室友 ---->  https://www.ptt.cc/bbs/Rent_ya/M.1573836253.A.2A2.html\n",
      "11/16 [無/台北/大安] 絕佳地點 北漂青年的第一選擇 ---->  https://www.ptt.cc/bbs/Rent_ya/M.1573892560.A.1E9.html\n",
      "10/28 [無/台北/內湖] 文湖街徵室友 ---->  https://www.ptt.cc/bbs/Rent_ya/M.1572224065.A.F8F.html\n",
      "11/01 [無/台北/信義] 6500北醫101安和六張犁可短租 ---->  https://www.ptt.cc/bbs/Rent_ya/M.1572583660.A.DAD.html\n",
      "11/03 [徵/台北/內湖] 男 大直西湖港墘 ---->  https://www.ptt.cc/bbs/Rent_ya/M.1572759306.A.F70.html\n",
      "11/03 [無/台北/文山] 房間出租 可隨時入住  ---->  https://www.ptt.cc/bbs/Rent_ya/M.1572760543.A.589.html\n",
      "11/05 [無/台北/士林] 近捷運芝山站 巷內安靜 ---->  https://www.ptt.cc/bbs/Rent_ya/M.1572944547.A.2DF.html\n",
      "11/06 [無/台北/信義] 101 可炊可寵 找室友 ---->  https://www.ptt.cc/bbs/Rent_ya/M.1572970631.A.DFD.html\n",
      "11/06 [無/台北/大安] 台大辛亥路門正對面雅房(4000) ---->  https://www.ptt.cc/bbs/Rent_ya/M.1572971316.A.2E7.html\n",
      "10/19 [無/台北/大安] 5600 近台大小福含水電網路  ---->  https://www.ptt.cc/bbs/Rent_ya/M.1571466314.A.AF3.html\n",
      "10/20 [無/台北/信義] 吳興國小家庭式公寓徵室友 ---->  https://www.ptt.cc/bbs/Rent_ya/M.1571549068.A.15D.html\n",
      "10/23 [無/台北/文山] 近世新走路5分鐘，短期可 ---->  https://www.ptt.cc/bbs/Rent_ya/M.1571791095.A.C5F.html\n",
      "10/11 [無/台北/信義] 7000通化街101安和北醫六張犁可短租 ---->  https://www.ptt.cc/bbs/Rent_ya/M.1570793582.A.27D.html\n",
      "10/13 [無/台北/內湖] 整層家庭分租雅房(近港墘 ---->  https://www.ptt.cc/bbs/Rent_ya/M.1570945548.A.4BE.html\n",
      "10/15 [無/台北/信義] 分租雅房 邊間採光好/近101象山  ---->  https://www.ptt.cc/bbs/Rent_ya/M.1571145122.A.953.html\n",
      "10/18 [無/台北/永和] 4500全包中正橋旁可短租百M網路 ---->  https://www.ptt.cc/bbs/Rent_ya/M.1571392872.A.C7B.html\n",
      "10/19 [無/台北/內湖] 整層家庭分租雅房(近港墘) ---->  https://www.ptt.cc/bbs/Rent_ya/M.1571454008.A.B24.html\n",
      "10/02 [無/台北/大安] 台大側門新生南路三段雅房出租 ---->  https://www.ptt.cc/bbs/Rent_ya/M.1569970755.A.0B4.html\n",
      "10/03 [無/台北/信義] 3房2廳1衛找室友 ---->  https://www.ptt.cc/bbs/Rent_ya/M.1570088549.A.943.html\n",
      "10/04 [徵/台北/多區] 徵台北多區 希望有廚房、客廳 預計12月入住 ---->  https://www.ptt.cc/bbs/Rent_ya/M.1570151869.A.A18.html\n",
      "10/04 [無/台北/內湖] 3房整層出租雅房徵室友(近港墘 ---->  https://www.ptt.cc/bbs/Rent_ya/M.1570193608.A.345.html\n",
      "10/06 [無/台北/大安] 台大側門新生南路三段兩間雅房 ---->  https://www.ptt.cc/bbs/Rent_ya/M.1570366697.A.47C.html\n",
      "10/09 [徵/台北/南港] 徵南港內湖雅房 ---->  https://www.ptt.cc/bbs/Rent_ya/M.1570554154.A.89A.html\n",
      "10/10 [無/台北/永和] 家庭式公寓徵室友  ---->  https://www.ptt.cc/bbs/Rent_ya/M.1570716052.A.A00.html\n"
     ]
    },
    {
     "name": "stdout",
     "output_type": "stream",
     "text": [
      " 9/26 [無/台北/中山] 近捷運中山國中站 走路5分鐘 ---->  https://www.ptt.cc/bbs/Rent_ya/M.1569433329.A.6D8.html\n",
      " 9/26 [男/台北/永和] 永元路6.5坪雅房 近公館 ---->  https://www.ptt.cc/bbs/Rent_ya/M.1569460627.A.0E6.html\n",
      " 9/26 [無/台北/萬華] 近青年公園包網路第四台瓦斯  ---->  https://www.ptt.cc/bbs/Rent_ya/M.1569468264.A.E08.html\n",
      " 9/27 [無/台北/東湖] 南軟內科家庭式徵室友 ---->  https://www.ptt.cc/bbs/Rent_ya/M.1569519978.A.DBE.html\n",
      " 9/29 [無/台北/大同] 承德路3段靜巷公寓出租，近民權 ---->  https://www.ptt.cc/bbs/Rent_ya/M.1569753861.A.27C.html\n",
      " 9/30 [無/台北/松山] 南京三民 家庭式分租近捷運 ---->  https://www.ptt.cc/bbs/Rent_ya/M.1569777572.A.999.html\n",
      "10/01 [無/台北/萬華] 青年公園大雅房可雙人  ---->  https://www.ptt.cc/bbs/Rent_ya/M.1569864447.A.B15.html\n",
      " 9/20 [無/台北/大安] 信義安和捷運站走路三分鐘 ---->  https://www.ptt.cc/bbs/Rent_ya/M.1568975588.A.03A.html\n",
      " 9/21 [男/台北/南港] 近中研院 南港軟體園區 文官培訓 ---->  https://www.ptt.cc/bbs/Rent_ya/M.1569069490.A.732.html\n",
      " 9/22 [無/台北/文山] 景美捷運站 近台大台師 ---->  https://www.ptt.cc/bbs/Rent_ya/M.1569147266.A.48D.html\n",
      " 9/24 [無/台北/內湖] 雅房分租近大湖公園站(廚房客廳) ---->  https://www.ptt.cc/bbs/Rent_ya/M.1569334115.A.04E.html\n",
      " 9/14 [無/台北/大安] 可貓雅房徵室友 3房2廳1衛 正義國宅 ---->  https://www.ptt.cc/bbs/Rent_ya/M.1568440267.A.3E9.html\n",
      " 9/15 [無/台北/南港] 可寵大雅房 ---->  https://www.ptt.cc/bbs/Rent_ya/M.1568532622.A.162.html\n",
      " 9/15 [無/台北/信義] 家庭式徵室友(雅房)  ---->  https://www.ptt.cc/bbs/Rent_ya/M.1568557454.A.56C.html\n",
      " 9/16 [男/台北/公館] 台大公館捷運商圈靜巷雅房出租 ---->  https://www.ptt.cc/bbs/Rent_ya/M.1568618173.A.838.html\n",
      " 9/16 [無/台北/信義] 北醫旁家庭式住家徵室友（雅房） ---->  https://www.ptt.cc/bbs/Rent_ya/M.1568640711.A.309.html\n",
      " 9/16 [無/台北/信義] 永春捷運站雅房  ---->  https://www.ptt.cc/bbs/Rent_ya/M.1568646569.A.7C9.html\n",
      " 7/26 [台北][內湖]   租屋慎選 ---->  https://www.ptt.cc/bbs/Rent_ya/M.1501074398.A.E9E.html\n",
      " 4/05 [無/台北/市區] 租屋慎選房客(代PO) ---->  https://www.ptt.cc/bbs/Rent_ya/M.1522916716.A.81D.html\n",
      " 7/04 [心得] 台北市松山區房客租房小心 ---->  https://www.ptt.cc/bbs/Rent_ya/M.1530709162.A.84C.html\n",
      " 9/09 [台北][內湖] 租屋小心惡室友 ---->  https://www.ptt.cc/bbs/Rent_ya/M.1567989263.A.98E.html\n",
      " 9/11 [徵/台北/市區] 台大週邊] ---->  https://www.ptt.cc/bbs/Rent_ya/M.1568174096.A.329.html\n",
      " 9/11 [男/台北/大安] 近台灣大學誠品書局雅房 ---->  https://www.ptt.cc/bbs/Rent_ya/M.1568202109.A.B4A.html\n",
      " 9/12 [男/台北/大安] 古亭國小側面3200起 ---->  https://www.ptt.cc/bbs/Rent_ya/M.1568251588.A.CDB.html\n",
      " 9/12 [男/台北/大直] 捷運站旁/近實踐大學/學生 ---->  https://www.ptt.cc/bbs/Rent_ya/M.1568263241.A.136.html\n",
      " 9/12 [男/台北/公館] 超便利台大2F雅房出租 ---->  https://www.ptt.cc/bbs/Rent_ya/M.1568280913.A.DB6.html\n",
      "\n",
      "done\n"
     ]
    }
   ],
   "source": [
    "url = 'https://www.ptt.cc/bbs/Rent_ya/index.html'\n",
    "\n",
    "while True:\n",
    "    soup = get_soup(url)\n",
    "    print_tag(soup)\n",
    "    url = get_up_page(soup)\n",
    "    if not url:\n",
    "        break\n",
    "\n",
    "print('\\ndone')"
   ]
  },
  {
   "cell_type": "code",
   "execution_count": null,
   "metadata": {},
   "outputs": [],
   "source": []
  }
 ],
 "metadata": {
  "kernelspec": {
   "display_name": "Python 3",
   "language": "python",
   "name": "python3"
  },
  "language_info": {
   "codemirror_mode": {
    "name": "ipython",
    "version": 3
   },
   "file_extension": ".py",
   "mimetype": "text/x-python",
   "name": "python",
   "nbconvert_exporter": "python",
   "pygments_lexer": "ipython3",
   "version": "3.7.3"
  }
 },
 "nbformat": 4,
 "nbformat_minor": 2
}
