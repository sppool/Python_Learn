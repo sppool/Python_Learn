{
 "cells": [
  {
   "cell_type": "markdown",
   "metadata": {},
   "source": [
    "# [requests](https://requests.readthedocs.io/en/master/user/quickstart/)"
   ]
  },
  {
   "cell_type": "code",
   "execution_count": 1,
   "metadata": {},
   "outputs": [],
   "source": [
    "import requests # 讀取網頁資料\n",
    "from bs4 import BeautifulSoup"
   ]
  },
  {
   "cell_type": "markdown",
   "metadata": {},
   "source": [
    "## HTTP 請求\n",
    "### [參考資料](https://blog.gtwang.org/programming/python-requests-module-tutorial/)\n",
    "\n",
    "* `requests.get('url')`\n",
    "* `requests.post(\"url\", data={'key':'value'})`\n",
    "* `requests.put(\"url\", data ={'key':'value'})`\n",
    "* `requests.delete(\"url\")`\n",
    "* `requests.head(\"url\")`\n",
    "* `requests.options(\"url\")`\n",
    "\n",
    "### `requests.get('url'))` GET 方法\n",
    "\n",
    "* r = Response 對象\n",
    "\n",
    "|||\n",
    "|:---|---:|\n",
    "|`R.headers`| 標頭檔資訊 |\n",
    "|`R.encoding`| 編碼格式 ('utf-8') |\n",
    "|`R.reason`| 回應 (OK) |\n",
    "|`R.url`| 讀取網址 |\n",
    "|`R.request`| Method 請求方法 (GET, POST) |\n",
    "|`R.ok`| 是否OK (bool) |\n",
    "|`R.status_code`| 網頁狀態 (200, 404...) |\n",
    "\n",
    "* 其他應用範例\n",
    "\n",
    "    * 傳遞參數網址\n",
    ">```python\n",
    "my_params = {'key1': 'val1', 'key2': 'val2'} # 查詢參數\n",
    "r = requests.get('http://test.com.tw', params=my_params) # (http://test.com.tw/?key1=val1&key2=val2)\n",
    "```\n",
    "\n",
    "    * 自訂標頭 (Request Headers) 欺騙伺服器是人類使用瀏覽器上網\n",
    ">``` python\n",
    "my_headers = {'ser-agent'='Mozilla/5.0}\n",
    "r = requests.get('http://test.com.tw', headers=my_headers, timeout=3) # GET 請求\n",
    "```\n",
    "\n",
    "    * 帳號登入 \n",
    ">```python\n",
    "r = requests.get('http://test.com.tw', auth=('user', 'pass'), timeout=3)) # 需要帳號登入的網頁\n",
    "```\n",
    "\n",
    "\n",
    "### [破解反爬蟲技巧](https://codertw.com/%E7%A8%8B%E5%BC%8F%E8%AA%9E%E8%A8%80/114511/)\n",
    "### 自定製 Requests Headers\n",
    "\n",
    "* `user-agent`:裡面儲存的是系統和瀏覽器的型號版本，通過修改它來假裝自己是人。\n",
    "* `referer`:告訴伺服器你是通過哪個網址點進來的而不是憑空出現的，有些網站會檢查。\n",
    "* `cookie`:有時帶不帶餅乾得到的結果是不同的，試著帶餅乾去“賄賂”伺服器讓她給你完整的資訊。"
   ]
  },
  {
   "cell_type": "code",
   "execution_count": 2,
   "metadata": {},
   "outputs": [],
   "source": [
    "url = 'https://sci2fig.herokuapp.com/func'\n",
    "headers = {'user-agent':'Mozilla/5.0 (X11; Linux x86_64)'}\n",
    "\n",
    "r = requests.get(url, headers=headers) #將url網頁資料GET下來"
   ]
  },
  {
   "cell_type": "code",
   "execution_count": 3,
   "metadata": {},
   "outputs": [],
   "source": [
    "def print_requests(r):\n",
    "    print('request     :', r.request)\n",
    "    print('url         :', r.url)\n",
    "    print('status_code :', r.status_code)\n",
    "    print('reason      :', r.reason)\n",
    "    print('ok?         :', r.ok)\n",
    "    print('encoding    :', r.encoding, '\\n')"
   ]
  },
  {
   "cell_type": "code",
   "execution_count": 4,
   "metadata": {},
   "outputs": [
    {
     "name": "stdout",
     "output_type": "stream",
     "text": [
      "request     : <PreparedRequest [GET]>\n",
      "url         : https://sci2fig.herokuapp.com/func\n",
      "status_code : 200\n",
      "reason      : OK\n",
      "ok?         : True\n",
      "encoding    : utf-8 \n",
      "\n"
     ]
    }
   ],
   "source": [
    "print_requests(r)"
   ]
  },
  {
   "cell_type": "markdown",
   "metadata": {},
   "source": [
    "### 網頁內容\n",
    "\n",
    "|||\n",
    "|:---|---:|\n",
    "|`R.content`| 網頁內容 (未解碼 二進制) |\n",
    "|`R.text`| 網頁內容 (已解碼) |"
   ]
  },
  {
   "cell_type": "code",
   "execution_count": 5,
   "metadata": {},
   "outputs": [
    {
     "name": "stdout",
     "output_type": "stream",
     "text": [
      "type to rc: <class 'bytes'>\n",
      "type to rt: <class 'str'>\n"
     ]
    }
   ],
   "source": [
    "rc = r.content\n",
    "rt = r.text\n",
    "print('type to rc:', type(rc))\n",
    "print('type to rt:', type(rt))"
   ]
  },
  {
   "cell_type": "markdown",
   "metadata": {},
   "source": [
    "#### 解碼即可還原"
   ]
  },
  {
   "cell_type": "code",
   "execution_count": 6,
   "metadata": {},
   "outputs": [
    {
     "data": {
      "text/plain": [
       "True"
      ]
     },
     "execution_count": 6,
     "metadata": {},
     "output_type": "execute_result"
    }
   ],
   "source": [
    "rc.decode(encoding=r.encoding) == rt"
   ]
  },
  {
   "cell_type": "markdown",
   "metadata": {},
   "source": [
    "### 網頁內容是 html 格式"
   ]
  },
  {
   "cell_type": "code",
   "execution_count": 7,
   "metadata": {
    "scrolled": true
   },
   "outputs": [
    {
     "name": "stdout",
     "output_type": "stream",
     "text": [
      "<!DOCTYPE html>\n",
      "<html lang=\"\" dir=\"ltr\">\n",
      "\n",
      "<head>\n",
      "  \n",
      "  <title>\n",
      "    \n",
      "Func2Fig\n",
      "\n",
      "  </title>\n",
      "  <link rel=\"icon\" type=\"image/png\" href=\"./static/image/fig.png\">\n",
      "  \n",
      "</head>\n",
      "\n",
      "<body bgcolor=\"#a3c6e9\">\n",
      "\n",
      "  <div id=\"content\">\n",
      "    \n",
      "<h1><i>Func2Fig</i></h1>\n",
      "<form action=\"/func\" method=\"post\">\n",
      "  <div id=\"func_setting\">\n",
      "    <h2>func setting</h2>\n",
      "    <i><b>y(x)=</b></i>\n",
      "    <input type=\"text\" name=\"func\" id=\"func\" style=\"width: 400px; height: 30px;\" value=\"\" placeholder=\"sin(x^(2*π))\">\n",
      "    \n",
      "    \n",
      "    \n",
      "    <br><!-- onclick HTML5標準事件 -->\n",
      "    <button type=\"button\" id=\"num7\" value=\"7\" onclick=\"func.value+=num7.value\" style=\"width: 40px; height: 40px;\">7</button>\n",
      "    <button type=\"button\" id=\"num8\" value=\"8\" onclick=\"func.value+=num8.value\" style=\"width: 40px; height: 40px;\">8</button>\n",
      "    <button type=\"button\" id=\"num9\" value=\"9\" onclick=\"func.value+=num9.value\" style=\"width: 40px; height: 40px;\">9</button>\n",
      "    <button type=\"button\" id=\"divide\" value=\"/\" onclick=\"func.value+=divide.value\" style=\"width: 40px; height: 40px;\">÷</button>\n",
      "    <button type=\"button\" id=\"sin\" value=\"sin(\" onclick=\"func.value+=sin.value\" style=\"width: 50px; height: 40px;\"><i>sin</i></button>\n",
      "    <button type=\"button\" id=\"cos\" value=\"cos(\" onclick=\"func.value+=cos.value\" style=\"width: 50px; height: 40px;\"><i>cos</i></button>\n",
      "    <button type=\"button\" id=\"tan\" value=\"tan(\" onclick=\"func.value+=tan.value\" style=\"width: 50px; height: 40px;\"><i>tan</i></button>\n",
      "    <button type=\"button\" id=\"sinh\" value=\"sinh(\" onclick=\"func.value+=sinh.value\" style=\"width: 50px; height: 40px;\"><i>sinh</i></button>\n",
      "    <button type=\"button\" id=\"cosh\" value=\"cosh(\" onclick=\"func.value+=cosh.value\" style=\"width: 50px; height: 40px;\"><i>cosh</i></button>\n",
      "    <button type=\"button\" id=\"tanh\" value=\"tanh(\" onclick=\"func.value+=tanh.value\" style=\"width: 50px; height: 40px;\"><i>tanh</i></button>\n",
      "    <br>\n",
      "    <button type=\"button\" id=\"num4\" value=\"4\" onclick=\"func.value+=num4.value\" style=\"width: 40px; height: 40px;\">4</button>\n",
      "    <button type=\"button\" id=\"num5\" value=\"5\" onclick=\"func.value+=num5.value\" style=\"width: 40px; height: 40px;\">5</button>\n",
      "    <button type=\"button\" id=\"num6\" value=\"6\" onclick=\"func.value+=num6.value\" style=\"width: 40px; height: 40px;\">6</button>\n",
      "    <button type=\"button\" id=\"multiplied\" value=\"*\" onclick=\"func.value+=multiplied.value\" style=\"width: 40px; height: 40px;\">×</button>\n",
      "    <button type=\"button\" id=\"log10\" value=\"log10(\" onclick=\"func.value+=log10.value\" style=\"width: 50px; height: 40px;\"><i>log<sub>10</sub></i></button>\n",
      "    <button type=\"button\" id=\"log\" value=\"log(\" onclick=\"func.value+=log.value\" style=\"width: 50px; height: 40px;\"><i>log<sub>e</sub></i></button>\n",
      "    <button type=\"button\" id=\"log2\" value=\"log2(\" onclick=\"func.value+=log2.value\" style=\"width: 50px; height: 40px;\"><i>log<sub>2</sub></i></button>\n",
      "    <br>\n",
      "    <button type=\"button\" id=\"num1\" value=\"1\" onclick=\"func.value+=num1.value\" style=\"width: 40px; height: 40px;\">1</button>\n",
      "    <button type=\"button\" id=\"num2\" value=\"2\" onclick=\"func.value+=num2.value\" style=\"width: 40px; height: 40px;\">2</button>\n",
      "    <button type=\"button\" id=\"num3\" value=\"3\" onclick=\"func.value+=num3.value\" style=\"width: 40px; height: 40px;\">3</button>\n",
      "    <button type=\"button\" id=\"minus\" value=\"-\" onclick=\"func.value+=minus.value\" style=\"width: 40px; height: 40px;\">-</button>\n",
      "    <button type=\"button\" id=\"l_bkt\" value=\"(\" onclick=\"func.value+=l_bkt.value\" style=\"width: 40px; height: 40px;\">(</button>\n",
      "    <button type=\"button\" id=\"r_bkt\" value=\")\" onclick=\"func.value+=r_bkt.value\" style=\"width: 40px; height: 40px;\">)</button>\n",
      "    <br>\n",
      "    <button type=\"button\" id=\"num0\" value=\"0\" onclick=\"func.value+=num0.value\" style=\"width: 40px; height: 40px;\">0</button>\n",
      "    <button type=\"button\" id=\"dot\" value=\".\" onclick=\"func.value+=dot.value\" style=\"width: 40px; height: 40px;\">.</button>\n",
      "    <button type=\"button\" id=\"cancel\" onclick=\"func.value=''\" style=\"width: 40px; height: 40px;\">c</button>\n",
      "    <button type=\"button\" id=\"plus\" value=\"+\" onclick=\"func.value+=plus.value\" style=\"width: 40px; height: 40px;\">+</button>\n",
      "    <button type=\"button\" id=\"index\" value=\"^(\" onclick=\"func.value+=index.value\" style=\"width: 40px; height: 40px;\">^</button>\n",
      "    <button type=\"button\" id=\"x\" value=\"x\" onclick=\"func.value+=x.value\" style=\"width: 40px; height: 40px;\"><b><i>x</i></b></button>\n",
      "    <button type=\"button\" id=\"pi\" value=\"π\" onclick=\"func.value+=pi.value\" style=\"width: 40px; height: 40px;\"><b><i>π</i></b></button>\n",
      "    <button type=\"button\" id=\"exp\" value=\"e\" onclick=\"func.value+=exp.value\" style=\"width: 40px; height: 40px;\"><b><i>e</i></b></button>\n",
      "    <ul>\n",
      "      <li>\n",
      "        line-width <sub>(線寬)</sub> :\n",
      "        <input type=\"range\" name=\"lw\" id=\"inlw\" value=\"1.5\" min=\"0.5\" max=\"10\" step=\"0.1\" oninput=\"outlw.value = inlw.value\">\n",
      "        <output name=\"ageOutputName\" id=\"outlw\">1.5</output>\n",
      "      </li>\n",
      "      <li>\n",
      "        line-style <sub>(線條風格)</sub> :\n",
      "        <select class=\"\" name=\"ls\" style=\"width: 100px; height: 28px;\">\n",
      "          <option value=\"-\">solid (實線)</option>\n",
      "          <option value=\":\">dotted (點線)</option>\n",
      "          <option value=\"--\">dashed (虛線)</option>\n",
      "          <option value=\"-.\">dashdot (點虛線)</option>\n",
      "        </select>\n",
      "      </li>\n",
      "      <li>\n",
      "        line-color <sub>(顏色)</sub> :\n",
      "        <input type=\"color\" name=\"c\" value=\"#000000\">\n",
      "      </li>\n",
      "    </ul>\n",
      "  </div>\n",
      "\n",
      "  <div id=\"layout_setting\">\n",
      "    <h2>layout setting</h2>\n",
      "    <ul>\n",
      "      <li>\n",
      "        x-limit <sub>(x軸範圍)</sub> :\n",
      "        <input type=\"number\" id=\"xmin\" name=\"xmin\" step=\"0.1\" value=\"0\" style=\"width: 50px; height: 20px;\">~\n",
      "        <input type=\"number\" id=\"xmax\" name=\"xmax\" step=\"0.1\" value=\"10\" style=\"width: 50px; height: 20px;\">\n",
      "      </li>\n",
      "      <li>\n",
      "        y-limit <sub>(y軸範圍)</sub> :\n",
      "        <input type=\"number\" id=\"ymin\" name=\"ymin\" step=\"0.1\" value=\"\" style=\"width: 50px; height: 20px;\" placeholder=\"auto\">~\n",
      "        <input type=\"number\" id=\"ymax\" name=\"ymax\" step=\"0.1\" value=\"\" style=\"width: 50px; height: 20px;\" placeholder=\"auto\">\n",
      "        <sub><i>(default: all range)</i></sub>\n",
      "      </li>\n",
      "      <li>\n",
      "        fig-title <sub>(標題)</sub> :\n",
      "        <input type=\"text\" name=\"title\" value=\"\" style=\"width: 100px; height: 20px;\" placeholder=\"$sin(x)$\">\n",
      "        <sub>Support<i><a href=\"http://web.ift.uib.no/Teori/KURS/WRK/TeX/symALL.html\">LaTeX</a></i> (頭尾打上$)</sub>\n",
      "      </li>\n",
      "      <li>\n",
      "        x-label <sub>(x軸標誌)</sub> :\n",
      "        <input type=\"text\" name=\"xlabel\" value=\"\" style=\"width: 100px; height: 20px;\">\n",
      "      </li>\n",
      "      <li>\n",
      "        y-labal <sub>(y軸標誌)</sub> :\n",
      "        <input type=\"text\" name=\"ylabel\" value=\"\" style=\"width: 100px; height: 20px;\">\n",
      "      </li>\n",
      "      <li>\n",
      "        legend <sub>(圖示)</sub> :\n",
      "        <i>off</i>\n",
      "        <input type=\"range\" name=\"legend\" value=\"0\" min=\"0\" max=\"1\" style=\"width: 35px; height: 20px;\">\n",
      "        <i>on</i>\n",
      "      </li>\n",
      "      <li>\n",
      "        grid <sub>(格線)</sub> :\n",
      "        <i>off</i>\n",
      "        <input type=\"range\" name=\"grid\" value=\"1\" min=\"0\" max=\"1\" style=\"width: 35px; height: 20px;\">\n",
      "        <i>on</i>\n",
      "      </li>\n",
      "      <li>\n",
      "        box <sub>(外框)</sub> :\n",
      "        <i>off</i>\n",
      "        <input type=\"range\" name=\"box\" value=\"0\" min=\"-1\" max=\"0\" style=\"width: 35px; height: 20px;\">\n",
      "        <i>on</i>\n",
      "      </li>\n",
      "      <li>\n",
      "        Axis BG color <sub>(座標軸背景顏色)</sub> :\n",
      "        <input type=\"color\" name=\"abgc\" value=\"#ffffff\">\n",
      "      </li>\n",
      "      <li>\n",
      "        BG color <sub>(背景顏色)</sub> :\n",
      "        <input type=\"color\" name=\"bgc\" value=\"#ffffff\">\n",
      "      </li>\n",
      "      <li>\n",
      "        fig-height <sub>(輸出像素-高)</sub> :\n",
      "        <input type=\"range\" name=\"h\" step=\"0.1\" id=\"inh\" min=\"4.8\" max=\"7.2\" value=\"4.8\" oninput=\"outh.value = inh.value\">\n",
      "        <output name=\"ageOutputName\" id=\"outh\">4.8</output> (x100px) (480~720px)\n",
      "      </li>\n",
      "      <li>\n",
      "        fig-width <sub>(輸出像素-寬)</sub> :\n",
      "        <input type=\"range\" name=\"w\" step=\"0.1\" id=\"inw\" min=\"6.4\" max=\"9.6\" value=\"6.4\" oninput=\"outw.value = inw.value\">\n",
      "        <output name=\"ageOutputName\" id=\"outw\">6.4</output> (x100px) (640~960px)\n",
      "      </li>\n",
      "    </ul>\n",
      "    <p>\n",
      "      <button type=\"submit\" style=\"width: 100px; height: 40px;\"><i><b>Fig now</b></i></button>\n",
      "      <button type=\"button\" onclick=\"location.href='/func'\" style=\"width: 60px; height: 40px;\"><i><b>reset</b></i></button>\n",
      "    </p>\n",
      "    <p>\n",
      "      <sub>\n",
      "        <font color=\"#ff0000\">note: in any input box use <code>\"Shift+Enter\"</code> to fig on pop-up window.<font color=\"#ff00ff\">\n",
      "      </sub>\n",
      "    </p>\n",
      "  </div>\n",
      "</form>\n",
      "\n",
      "  </div>\n",
      "  <div id=\"home\">\n",
      "    \n",
      "    <pre>\n",
      "    </pre>\n",
      "    <h3><i><a href=\"/\">Home</a></i></h3>\n",
      "    <hr>\n",
      "    \n",
      "  </div>\n",
      "  <div id=\"footer\">\n",
      "    \n",
      "    <p>\n",
      "      <img width=\"600\" src=\"./static/image/matplotlib.svg\">\n",
      "    </p>\n",
      "    <hr>\n",
      "    <p>\n",
      "      <a href=\"https://www.buymeacoffee.com/sci2fig\" target=\"_blank\">\n",
      "        <img src=\"https://bmc-cdn.nyc3.digitaloceanspaces.com/BMC-button-images/custom_images/orange_img.png\" alt=\"Buy Me A Sandwich\" style=\"height: auto !important;width: auto !important;\">\n",
      "      </a>\n",
      "    </p>\n",
      "    \n",
      "  </div>\n",
      "\n",
      "</body>\n",
      "\n",
      "</html>\n"
     ]
    }
   ],
   "source": [
    "print(rt)"
   ]
  },
  {
   "cell_type": "markdown",
   "metadata": {},
   "source": [
    "### 超時響應 timeout (s) 通常設定3秒即可"
   ]
  },
  {
   "cell_type": "code",
   "execution_count": 8,
   "metadata": {},
   "outputs": [
    {
     "name": "stdout",
     "output_type": "stream",
     "text": [
      "success\n"
     ]
    }
   ],
   "source": [
    "t = 3\n",
    "# t = 0.01\n",
    "try:\n",
    "    r = requests.get(url, timeout=t)\n",
    "    print('success')\n",
    "except:\n",
    "    print('error')"
   ]
  },
  {
   "cell_type": "markdown",
   "metadata": {},
   "source": [
    "# [BeautifulSoup](https://www.crummy.com/software/BeautifulSoup/bs4/doc/)\n",
    "\n",
    "* `bs4.BeautifulSoup`\n",
    "* 解讀網頁標籤的小幫手\n",
    "* `BeautifulSoup`物件, 由很多`bs4.element.Tag`物件(Tag)組成"
   ]
  },
  {
   "cell_type": "code",
   "execution_count": 9,
   "metadata": {},
   "outputs": [
    {
     "name": "stdout",
     "output_type": "stream",
     "text": [
      "type of soup:  <class 'bs4.BeautifulSoup'>\n"
     ]
    }
   ],
   "source": [
    "url = 'https://sci2fig.herokuapp.com/func'\n",
    "r = requests.get(url) #將url網頁資料GET下來\n",
    "soup = BeautifulSoup(r.text, 'html.parser') #將網頁資料以html.parser\n",
    "print('type of soup: ', type(soup))"
   ]
  },
  {
   "cell_type": "markdown",
   "metadata": {},
   "source": [
    "### 有縮排的版面 (str)"
   ]
  },
  {
   "cell_type": "code",
   "execution_count": 10,
   "metadata": {
    "scrolled": true
   },
   "outputs": [
    {
     "name": "stdout",
     "output_type": "stream",
     "text": [
      "<!DOCTYPE html>\n",
      "<html dir=\"ltr\" lang=\"\">\n",
      " <head>\n",
      "  <title>\n",
      "   Func2Fig\n",
      "  </title>\n",
      "  <link href=\"./static/image/fig.png\" rel=\"icon\" type=\"image/png\"/>\n",
      " </head>\n",
      " <body bgcolor=\"#a3c6e9\">\n",
      "  <div id=\"content\">\n",
      "   <h1>\n",
      "    <i>\n",
      "     Func2Fig\n",
      "    </i>\n",
      "   </h1>\n",
      "   <form action=\"/func\" method=\"post\">\n",
      "    <div id=\"func_setting\">\n",
      "     <h2>\n",
      "      func setting\n",
      "     </h2>\n",
      "     <i>\n",
      "      <b>\n",
      "       y(x)=\n",
      "      </b>\n",
      "     </i>\n",
      "     <input id=\"func\" name=\"func\" placeholder=\"sin(x^(2*π))\" style=\"width: 400px; height: 30px;\" type=\"text\" value=\"\"/>\n",
      "     <br/>\n",
      "     <!-- onclick HTML5標準事件 -->\n",
      "     <button id=\"num7\" onclick=\"func.value+=num7.value\" style=\"width: 40px; height: 40px;\" type=\"button\" value=\"7\">\n",
      "      7\n",
      "     </button>\n",
      "     <button id=\"num8\" onclick=\"func.value+=num8.value\" style=\"width: 40px; height: 40px;\" type=\"button\" value=\"8\">\n",
      "      8\n",
      "     </button>\n",
      "     <button id=\"num9\" onclick=\"func.value+=num9.value\" style=\"width: 40px; height: 40px;\" type=\"button\" value=\"9\">\n",
      "      9\n",
      "     </button>\n",
      "     <button id=\"divide\" onclick=\"func.value+=divide.value\" style=\"width: 40px; height: 40px;\" type=\"button\" value=\"/\">\n",
      "      ÷\n",
      "     </button>\n",
      "     <button id=\"sin\" onclick=\"func.value+=sin.value\" style=\"width: 50px; height: 40px;\" type=\"button\" value=\"sin(\">\n",
      "      <i>\n",
      "       sin\n",
      "      </i>\n",
      "     </button>\n",
      "     <button id=\"cos\" onclick=\"func.value+=cos.value\" style=\"width: 50px; height: 40px;\" type=\"button\" value=\"cos(\">\n",
      "      <i>\n",
      "       cos\n",
      "      </i>\n",
      "     </button>\n",
      "     <button id=\"tan\" onclick=\"func.value+=tan.value\" style=\"width: 50px; height: 40px;\" type=\"button\" value=\"tan(\">\n",
      "      <i>\n",
      "       tan\n",
      "      </i>\n",
      "     </button>\n",
      "     <button id=\"sinh\" onclick=\"func.value+=sinh.value\" style=\"width: 50px; height: 40px;\" type=\"button\" value=\"sinh(\">\n",
      "      <i>\n",
      "       sinh\n",
      "      </i>\n",
      "     </button>\n",
      "     <button id=\"cosh\" onclick=\"func.value+=cosh.value\" style=\"width: 50px; height: 40px;\" type=\"button\" value=\"cosh(\">\n",
      "      <i>\n",
      "       cosh\n",
      "      </i>\n",
      "     </button>\n",
      "     <button id=\"tanh\" onclick=\"func.value+=tanh.value\" style=\"width: 50px; height: 40px;\" type=\"button\" value=\"tanh(\">\n",
      "      <i>\n",
      "       tanh\n",
      "      </i>\n",
      "     </button>\n",
      "     <br/>\n",
      "     <button id=\"num4\" onclick=\"func.value+=num4.value\" style=\"width: 40px; height: 40px;\" type=\"button\" value=\"4\">\n",
      "      4\n",
      "     </button>\n",
      "     <button id=\"num5\" onclick=\"func.value+=num5.value\" style=\"width: 40px; height: 40px;\" type=\"button\" value=\"5\">\n",
      "      5\n",
      "     </button>\n",
      "     <button id=\"num6\" onclick=\"func.value+=num6.value\" style=\"width: 40px; height: 40px;\" type=\"button\" value=\"6\">\n",
      "      6\n",
      "     </button>\n",
      "     <button id=\"multiplied\" onclick=\"func.value+=multiplied.value\" style=\"width: 40px; height: 40px;\" type=\"button\" value=\"*\">\n",
      "      ×\n",
      "     </button>\n",
      "     <button id=\"log10\" onclick=\"func.value+=log10.value\" style=\"width: 50px; height: 40px;\" type=\"button\" value=\"log10(\">\n",
      "      <i>\n",
      "       log\n",
      "       <sub>\n",
      "        10\n",
      "       </sub>\n",
      "      </i>\n",
      "     </button>\n",
      "     <button id=\"log\" onclick=\"func.value+=log.value\" style=\"width: 50px; height: 40px;\" type=\"button\" value=\"log(\">\n",
      "      <i>\n",
      "       log\n",
      "       <sub>\n",
      "        e\n",
      "       </sub>\n",
      "      </i>\n",
      "     </button>\n",
      "     <button id=\"log2\" onclick=\"func.value+=log2.value\" style=\"width: 50px; height: 40px;\" type=\"button\" value=\"log2(\">\n",
      "      <i>\n",
      "       log\n",
      "       <sub>\n",
      "        2\n",
      "       </sub>\n",
      "      </i>\n",
      "     </button>\n",
      "     <br/>\n",
      "     <button id=\"num1\" onclick=\"func.value+=num1.value\" style=\"width: 40px; height: 40px;\" type=\"button\" value=\"1\">\n",
      "      1\n",
      "     </button>\n",
      "     <button id=\"num2\" onclick=\"func.value+=num2.value\" style=\"width: 40px; height: 40px;\" type=\"button\" value=\"2\">\n",
      "      2\n",
      "     </button>\n",
      "     <button id=\"num3\" onclick=\"func.value+=num3.value\" style=\"width: 40px; height: 40px;\" type=\"button\" value=\"3\">\n",
      "      3\n",
      "     </button>\n",
      "     <button id=\"minus\" onclick=\"func.value+=minus.value\" style=\"width: 40px; height: 40px;\" type=\"button\" value=\"-\">\n",
      "      -\n",
      "     </button>\n",
      "     <button id=\"l_bkt\" onclick=\"func.value+=l_bkt.value\" style=\"width: 40px; height: 40px;\" type=\"button\" value=\"(\">\n",
      "      (\n",
      "     </button>\n",
      "     <button id=\"r_bkt\" onclick=\"func.value+=r_bkt.value\" style=\"width: 40px; height: 40px;\" type=\"button\" value=\")\">\n",
      "      )\n",
      "     </button>\n",
      "     <br/>\n",
      "     <button id=\"num0\" onclick=\"func.value+=num0.value\" style=\"width: 40px; height: 40px;\" type=\"button\" value=\"0\">\n",
      "      0\n",
      "     </button>\n",
      "     <button id=\"dot\" onclick=\"func.value+=dot.value\" style=\"width: 40px; height: 40px;\" type=\"button\" value=\".\">\n",
      "      .\n",
      "     </button>\n",
      "     <button id=\"cancel\" onclick=\"func.value=''\" style=\"width: 40px; height: 40px;\" type=\"button\">\n",
      "      c\n",
      "     </button>\n",
      "     <button id=\"plus\" onclick=\"func.value+=plus.value\" style=\"width: 40px; height: 40px;\" type=\"button\" value=\"+\">\n",
      "      +\n",
      "     </button>\n",
      "     <button id=\"index\" onclick=\"func.value+=index.value\" style=\"width: 40px; height: 40px;\" type=\"button\" value=\"^(\">\n",
      "      ^\n",
      "     </button>\n",
      "     <button id=\"x\" onclick=\"func.value+=x.value\" style=\"width: 40px; height: 40px;\" type=\"button\" value=\"x\">\n",
      "      <b>\n",
      "       <i>\n",
      "        x\n",
      "       </i>\n",
      "      </b>\n",
      "     </button>\n",
      "     <button id=\"pi\" onclick=\"func.value+=pi.value\" style=\"width: 40px; height: 40px;\" type=\"button\" value=\"π\">\n",
      "      <b>\n",
      "       <i>\n",
      "        π\n",
      "       </i>\n",
      "      </b>\n",
      "     </button>\n",
      "     <button id=\"exp\" onclick=\"func.value+=exp.value\" style=\"width: 40px; height: 40px;\" type=\"button\" value=\"e\">\n",
      "      <b>\n",
      "       <i>\n",
      "        e\n",
      "       </i>\n",
      "      </b>\n",
      "     </button>\n",
      "     <ul>\n",
      "      <li>\n",
      "       line-width\n",
      "       <sub>\n",
      "        (線寬)\n",
      "       </sub>\n",
      "       :\n",
      "       <input id=\"inlw\" max=\"10\" min=\"0.5\" name=\"lw\" oninput=\"outlw.value = inlw.value\" step=\"0.1\" type=\"range\" value=\"1.5\"/>\n",
      "       <output id=\"outlw\" name=\"ageOutputName\">\n",
      "        1.5\n",
      "       </output>\n",
      "      </li>\n",
      "      <li>\n",
      "       line-style\n",
      "       <sub>\n",
      "        (線條風格)\n",
      "       </sub>\n",
      "       :\n",
      "       <select class=\"\" name=\"ls\" style=\"width: 100px; height: 28px;\">\n",
      "        <option value=\"-\">\n",
      "         solid (實線)\n",
      "        </option>\n",
      "        <option value=\":\">\n",
      "         dotted (點線)\n",
      "        </option>\n",
      "        <option value=\"--\">\n",
      "         dashed (虛線)\n",
      "        </option>\n",
      "        <option value=\"-.\">\n",
      "         dashdot (點虛線)\n",
      "        </option>\n",
      "       </select>\n",
      "      </li>\n",
      "      <li>\n",
      "       line-color\n",
      "       <sub>\n",
      "        (顏色)\n",
      "       </sub>\n",
      "       :\n",
      "       <input name=\"c\" type=\"color\" value=\"#000000\"/>\n",
      "      </li>\n",
      "     </ul>\n",
      "    </div>\n",
      "    <div id=\"layout_setting\">\n",
      "     <h2>\n",
      "      layout setting\n",
      "     </h2>\n",
      "     <ul>\n",
      "      <li>\n",
      "       x-limit\n",
      "       <sub>\n",
      "        (x軸範圍)\n",
      "       </sub>\n",
      "       :\n",
      "       <input id=\"xmin\" name=\"xmin\" step=\"0.1\" style=\"width: 50px; height: 20px;\" type=\"number\" value=\"0\"/>\n",
      "       ~\n",
      "       <input id=\"xmax\" name=\"xmax\" step=\"0.1\" style=\"width: 50px; height: 20px;\" type=\"number\" value=\"10\"/>\n",
      "      </li>\n",
      "      <li>\n",
      "       y-limit\n",
      "       <sub>\n",
      "        (y軸範圍)\n",
      "       </sub>\n",
      "       :\n",
      "       <input id=\"ymin\" name=\"ymin\" placeholder=\"auto\" step=\"0.1\" style=\"width: 50px; height: 20px;\" type=\"number\" value=\"\"/>\n",
      "       ~\n",
      "       <input id=\"ymax\" name=\"ymax\" placeholder=\"auto\" step=\"0.1\" style=\"width: 50px; height: 20px;\" type=\"number\" value=\"\"/>\n",
      "       <sub>\n",
      "        <i>\n",
      "         (default: all range)\n",
      "        </i>\n",
      "       </sub>\n",
      "      </li>\n",
      "      <li>\n",
      "       fig-title\n",
      "       <sub>\n",
      "        (標題)\n",
      "       </sub>\n",
      "       :\n",
      "       <input name=\"title\" placeholder=\"$sin(x)$\" style=\"width: 100px; height: 20px;\" type=\"text\" value=\"\"/>\n",
      "       <sub>\n",
      "        Support\n",
      "        <i>\n",
      "         <a href=\"http://web.ift.uib.no/Teori/KURS/WRK/TeX/symALL.html\">\n",
      "          LaTeX\n",
      "         </a>\n",
      "        </i>\n",
      "        (頭尾打上$)\n",
      "       </sub>\n",
      "      </li>\n",
      "      <li>\n",
      "       x-label\n",
      "       <sub>\n",
      "        (x軸標誌)\n",
      "       </sub>\n",
      "       :\n",
      "       <input name=\"xlabel\" style=\"width: 100px; height: 20px;\" type=\"text\" value=\"\"/>\n",
      "      </li>\n",
      "      <li>\n",
      "       y-labal\n",
      "       <sub>\n",
      "        (y軸標誌)\n",
      "       </sub>\n",
      "       :\n",
      "       <input name=\"ylabel\" style=\"width: 100px; height: 20px;\" type=\"text\" value=\"\"/>\n",
      "      </li>\n",
      "      <li>\n",
      "       legend\n",
      "       <sub>\n",
      "        (圖示)\n",
      "       </sub>\n",
      "       :\n",
      "       <i>\n",
      "        off\n",
      "       </i>\n",
      "       <input max=\"1\" min=\"0\" name=\"legend\" style=\"width: 35px; height: 20px;\" type=\"range\" value=\"0\"/>\n",
      "       <i>\n",
      "        on\n",
      "       </i>\n",
      "      </li>\n",
      "      <li>\n",
      "       grid\n",
      "       <sub>\n",
      "        (格線)\n",
      "       </sub>\n",
      "       :\n",
      "       <i>\n",
      "        off\n",
      "       </i>\n",
      "       <input max=\"1\" min=\"0\" name=\"grid\" style=\"width: 35px; height: 20px;\" type=\"range\" value=\"1\"/>\n",
      "       <i>\n",
      "        on\n",
      "       </i>\n",
      "      </li>\n",
      "      <li>\n",
      "       box\n",
      "       <sub>\n",
      "        (外框)\n",
      "       </sub>\n",
      "       :\n",
      "       <i>\n",
      "        off\n",
      "       </i>\n",
      "       <input max=\"0\" min=\"-1\" name=\"box\" style=\"width: 35px; height: 20px;\" type=\"range\" value=\"0\"/>\n",
      "       <i>\n",
      "        on\n",
      "       </i>\n",
      "      </li>\n",
      "      <li>\n",
      "       Axis BG color\n",
      "       <sub>\n",
      "        (座標軸背景顏色)\n",
      "       </sub>\n",
      "       :\n",
      "       <input name=\"abgc\" type=\"color\" value=\"#ffffff\"/>\n",
      "      </li>\n",
      "      <li>\n",
      "       BG color\n",
      "       <sub>\n",
      "        (背景顏色)\n",
      "       </sub>\n",
      "       :\n",
      "       <input name=\"bgc\" type=\"color\" value=\"#ffffff\"/>\n",
      "      </li>\n",
      "      <li>\n",
      "       fig-height\n",
      "       <sub>\n",
      "        (輸出像素-高)\n",
      "       </sub>\n",
      "       :\n",
      "       <input id=\"inh\" max=\"7.2\" min=\"4.8\" name=\"h\" oninput=\"outh.value = inh.value\" step=\"0.1\" type=\"range\" value=\"4.8\"/>\n",
      "       <output id=\"outh\" name=\"ageOutputName\">\n",
      "        4.8\n",
      "       </output>\n",
      "       (x100px) (480~720px)\n",
      "      </li>\n",
      "      <li>\n",
      "       fig-width\n",
      "       <sub>\n",
      "        (輸出像素-寬)\n",
      "       </sub>\n",
      "       :\n",
      "       <input id=\"inw\" max=\"9.6\" min=\"6.4\" name=\"w\" oninput=\"outw.value = inw.value\" step=\"0.1\" type=\"range\" value=\"6.4\"/>\n",
      "       <output id=\"outw\" name=\"ageOutputName\">\n",
      "        6.4\n",
      "       </output>\n",
      "       (x100px) (640~960px)\n",
      "      </li>\n",
      "     </ul>\n",
      "     <p>\n",
      "      <button style=\"width: 100px; height: 40px;\" type=\"submit\">\n",
      "       <i>\n",
      "        <b>\n",
      "         Fig now\n",
      "        </b>\n",
      "       </i>\n",
      "      </button>\n",
      "      <button onclick=\"location.href='/func'\" style=\"width: 60px; height: 40px;\" type=\"button\">\n",
      "       <i>\n",
      "        <b>\n",
      "         reset\n",
      "        </b>\n",
      "       </i>\n",
      "      </button>\n",
      "     </p>\n",
      "     <p>\n",
      "      <sub>\n",
      "       <font color=\"#ff0000\">\n",
      "        note: in any input box use\n",
      "        <code>\n",
      "         \"Shift+Enter\"\n",
      "        </code>\n",
      "        to fig on pop-up window.\n",
      "        <font color=\"#ff00ff\">\n",
      "        </font>\n",
      "       </font>\n",
      "      </sub>\n",
      "     </p>\n",
      "    </div>\n",
      "   </form>\n",
      "  </div>\n",
      "  <div id=\"home\">\n",
      "   <pre>\n",
      "    </pre>\n",
      "   <h3>\n",
      "    <i>\n",
      "     <a href=\"/\">\n",
      "      Home\n",
      "     </a>\n",
      "    </i>\n",
      "   </h3>\n",
      "   <hr/>\n",
      "  </div>\n",
      "  <div id=\"footer\">\n",
      "   <p>\n",
      "    <img src=\"./static/image/matplotlib.svg\" width=\"600\"/>\n",
      "   </p>\n",
      "   <hr/>\n",
      "   <p>\n",
      "    <a href=\"https://www.buymeacoffee.com/sci2fig\" target=\"_blank\">\n",
      "     <img alt=\"Buy Me A Sandwich\" src=\"https://bmc-cdn.nyc3.digitaloceanspaces.com/BMC-button-images/custom_images/orange_img.png\" style=\"height: auto !important;width: auto !important;\"/>\n",
      "    </a>\n",
      "   </p>\n",
      "  </div>\n",
      " </body>\n",
      "</html>\n"
     ]
    }
   ],
   "source": [
    "print(soup.prettify())"
   ]
  },
  {
   "cell_type": "markdown",
   "metadata": {},
   "source": [
    "### 直接取用屬性, 找到第一個Tag"
   ]
  },
  {
   "cell_type": "code",
   "execution_count": 11,
   "metadata": {},
   "outputs": [
    {
     "name": "stdout",
     "output_type": "stream",
     "text": [
      "type of soup.a:  <class 'bs4.element.Tag'>\n"
     ]
    }
   ],
   "source": [
    "print('type of soup.a: ', type(soup.a))"
   ]
  },
  {
   "cell_type": "code",
   "execution_count": 12,
   "metadata": {},
   "outputs": [
    {
     "name": "stdout",
     "output_type": "stream",
     "text": [
      "<h1><i>Func2Fig</i></h1>\n",
      "<link href=\"./static/image/fig.png\" rel=\"icon\" type=\"image/png\"/>\n",
      "<b>y(x)=</b>\n"
     ]
    }
   ],
   "source": [
    "print(soup.h1)\n",
    "print(soup.link)\n",
    "print(soup.b)"
   ]
  },
  {
   "cell_type": "markdown",
   "metadata": {},
   "source": [
    "#### 大Tag 中的小 Tag"
   ]
  },
  {
   "cell_type": "code",
   "execution_count": 13,
   "metadata": {},
   "outputs": [
    {
     "data": {
      "text/plain": [
       "<i>Func2Fig</i>"
      ]
     },
     "execution_count": 13,
     "metadata": {},
     "output_type": "execute_result"
    }
   ],
   "source": [
    "soup.h1.i"
   ]
  },
  {
   "cell_type": "markdown",
   "metadata": {},
   "source": [
    "#### Tag 的 name 屬性"
   ]
  },
  {
   "cell_type": "code",
   "execution_count": 14,
   "metadata": {},
   "outputs": [
    {
     "data": {
      "text/plain": [
       "'a'"
      ]
     },
     "execution_count": 14,
     "metadata": {},
     "output_type": "execute_result"
    }
   ],
   "source": [
    "soup.a.name"
   ]
  },
  {
   "cell_type": "markdown",
   "metadata": {},
   "source": [
    "#### .children 子標籤 (產生器 同 `range()`)"
   ]
  },
  {
   "cell_type": "code",
   "execution_count": 15,
   "metadata": {},
   "outputs": [
    {
     "name": "stdout",
     "output_type": "stream",
     "text": [
      "\n",
      "\n",
      "<div id=\"func_setting\">\n",
      "<h2>func setting</h2>\n",
      "<i><b>y(x)=</b></i>\n",
      "<input id=\"func\" name=\"func\" placeholder=\"sin(x^(2*π))\" style=\"width: 400px; height: 30px;\" type=\"text\" value=\"\"/>\n",
      "<br/><!-- onclick HTML5標準事件 -->\n",
      "<button id=\"num7\" onclick=\"func.value+=num7.value\" style=\"width: 40px; height: 40px;\" type=\"button\" value=\"7\">7</button>\n",
      "<button id=\"num8\" onclick=\"func.value+=num8.value\" style=\"width: 40px; height: 40px;\" type=\"button\" value=\"8\">8</button>\n",
      "<button id=\"num9\" onclick=\"func.value+=num9.value\" style=\"width: 40px; height: 40px;\" type=\"button\" value=\"9\">9</button>\n",
      "<button id=\"divide\" onclick=\"func.value+=divide.value\" style=\"width: 40px; height: 40px;\" type=\"button\" value=\"/\">÷</button>\n",
      "<button id=\"sin\" onclick=\"func.value+=sin.value\" style=\"width: 50px; height: 40px;\" type=\"button\" value=\"sin(\"><i>sin</i></button>\n",
      "<button id=\"cos\" onclick=\"func.value+=cos.value\" style=\"width: 50px; height: 40px;\" type=\"button\" value=\"cos(\"><i>cos</i></button>\n",
      "<button id=\"tan\" onclick=\"func.value+=tan.value\" style=\"width: 50px; height: 40px;\" type=\"button\" value=\"tan(\"><i>tan</i></button>\n",
      "<button id=\"sinh\" onclick=\"func.value+=sinh.value\" style=\"width: 50px; height: 40px;\" type=\"button\" value=\"sinh(\"><i>sinh</i></button>\n",
      "<button id=\"cosh\" onclick=\"func.value+=cosh.value\" style=\"width: 50px; height: 40px;\" type=\"button\" value=\"cosh(\"><i>cosh</i></button>\n",
      "<button id=\"tanh\" onclick=\"func.value+=tanh.value\" style=\"width: 50px; height: 40px;\" type=\"button\" value=\"tanh(\"><i>tanh</i></button>\n",
      "<br/>\n",
      "<button id=\"num4\" onclick=\"func.value+=num4.value\" style=\"width: 40px; height: 40px;\" type=\"button\" value=\"4\">4</button>\n",
      "<button id=\"num5\" onclick=\"func.value+=num5.value\" style=\"width: 40px; height: 40px;\" type=\"button\" value=\"5\">5</button>\n",
      "<button id=\"num6\" onclick=\"func.value+=num6.value\" style=\"width: 40px; height: 40px;\" type=\"button\" value=\"6\">6</button>\n",
      "<button id=\"multiplied\" onclick=\"func.value+=multiplied.value\" style=\"width: 40px; height: 40px;\" type=\"button\" value=\"*\">×</button>\n",
      "<button id=\"log10\" onclick=\"func.value+=log10.value\" style=\"width: 50px; height: 40px;\" type=\"button\" value=\"log10(\"><i>log<sub>10</sub></i></button>\n",
      "<button id=\"log\" onclick=\"func.value+=log.value\" style=\"width: 50px; height: 40px;\" type=\"button\" value=\"log(\"><i>log<sub>e</sub></i></button>\n",
      "<button id=\"log2\" onclick=\"func.value+=log2.value\" style=\"width: 50px; height: 40px;\" type=\"button\" value=\"log2(\"><i>log<sub>2</sub></i></button>\n",
      "<br/>\n",
      "<button id=\"num1\" onclick=\"func.value+=num1.value\" style=\"width: 40px; height: 40px;\" type=\"button\" value=\"1\">1</button>\n",
      "<button id=\"num2\" onclick=\"func.value+=num2.value\" style=\"width: 40px; height: 40px;\" type=\"button\" value=\"2\">2</button>\n",
      "<button id=\"num3\" onclick=\"func.value+=num3.value\" style=\"width: 40px; height: 40px;\" type=\"button\" value=\"3\">3</button>\n",
      "<button id=\"minus\" onclick=\"func.value+=minus.value\" style=\"width: 40px; height: 40px;\" type=\"button\" value=\"-\">-</button>\n",
      "<button id=\"l_bkt\" onclick=\"func.value+=l_bkt.value\" style=\"width: 40px; height: 40px;\" type=\"button\" value=\"(\">(</button>\n",
      "<button id=\"r_bkt\" onclick=\"func.value+=r_bkt.value\" style=\"width: 40px; height: 40px;\" type=\"button\" value=\")\">)</button>\n",
      "<br/>\n",
      "<button id=\"num0\" onclick=\"func.value+=num0.value\" style=\"width: 40px; height: 40px;\" type=\"button\" value=\"0\">0</button>\n",
      "<button id=\"dot\" onclick=\"func.value+=dot.value\" style=\"width: 40px; height: 40px;\" type=\"button\" value=\".\">.</button>\n",
      "<button id=\"cancel\" onclick=\"func.value=''\" style=\"width: 40px; height: 40px;\" type=\"button\">c</button>\n",
      "<button id=\"plus\" onclick=\"func.value+=plus.value\" style=\"width: 40px; height: 40px;\" type=\"button\" value=\"+\">+</button>\n",
      "<button id=\"index\" onclick=\"func.value+=index.value\" style=\"width: 40px; height: 40px;\" type=\"button\" value=\"^(\">^</button>\n",
      "<button id=\"x\" onclick=\"func.value+=x.value\" style=\"width: 40px; height: 40px;\" type=\"button\" value=\"x\"><b><i>x</i></b></button>\n",
      "<button id=\"pi\" onclick=\"func.value+=pi.value\" style=\"width: 40px; height: 40px;\" type=\"button\" value=\"π\"><b><i>π</i></b></button>\n",
      "<button id=\"exp\" onclick=\"func.value+=exp.value\" style=\"width: 40px; height: 40px;\" type=\"button\" value=\"e\"><b><i>e</i></b></button>\n",
      "<ul>\n",
      "<li>\n",
      "        line-width <sub>(線寬)</sub> :\n",
      "        <input id=\"inlw\" max=\"10\" min=\"0.5\" name=\"lw\" oninput=\"outlw.value = inlw.value\" step=\"0.1\" type=\"range\" value=\"1.5\"/>\n",
      "<output id=\"outlw\" name=\"ageOutputName\">1.5</output>\n",
      "</li>\n",
      "<li>\n",
      "        line-style <sub>(線條風格)</sub> :\n",
      "        <select class=\"\" name=\"ls\" style=\"width: 100px; height: 28px;\">\n",
      "<option value=\"-\">solid (實線)</option>\n",
      "<option value=\":\">dotted (點線)</option>\n",
      "<option value=\"--\">dashed (虛線)</option>\n",
      "<option value=\"-.\">dashdot (點虛線)</option>\n",
      "</select>\n",
      "</li>\n",
      "<li>\n",
      "        line-color <sub>(顏色)</sub> :\n",
      "        <input name=\"c\" type=\"color\" value=\"#000000\"/>\n",
      "</li>\n",
      "</ul>\n",
      "</div>\n",
      "\n",
      "\n",
      "<div id=\"layout_setting\">\n",
      "<h2>layout setting</h2>\n",
      "<ul>\n",
      "<li>\n",
      "        x-limit <sub>(x軸範圍)</sub> :\n",
      "        <input id=\"xmin\" name=\"xmin\" step=\"0.1\" style=\"width: 50px; height: 20px;\" type=\"number\" value=\"0\"/>~\n",
      "        <input id=\"xmax\" name=\"xmax\" step=\"0.1\" style=\"width: 50px; height: 20px;\" type=\"number\" value=\"10\"/>\n",
      "</li>\n",
      "<li>\n",
      "        y-limit <sub>(y軸範圍)</sub> :\n",
      "        <input id=\"ymin\" name=\"ymin\" placeholder=\"auto\" step=\"0.1\" style=\"width: 50px; height: 20px;\" type=\"number\" value=\"\"/>~\n",
      "        <input id=\"ymax\" name=\"ymax\" placeholder=\"auto\" step=\"0.1\" style=\"width: 50px; height: 20px;\" type=\"number\" value=\"\"/>\n",
      "<sub><i>(default: all range)</i></sub>\n",
      "</li>\n",
      "<li>\n",
      "        fig-title <sub>(標題)</sub> :\n",
      "        <input name=\"title\" placeholder=\"$sin(x)$\" style=\"width: 100px; height: 20px;\" type=\"text\" value=\"\"/>\n",
      "<sub>Support<i><a href=\"http://web.ift.uib.no/Teori/KURS/WRK/TeX/symALL.html\">LaTeX</a></i> (頭尾打上$)</sub>\n",
      "</li>\n",
      "<li>\n",
      "        x-label <sub>(x軸標誌)</sub> :\n",
      "        <input name=\"xlabel\" style=\"width: 100px; height: 20px;\" type=\"text\" value=\"\"/>\n",
      "</li>\n",
      "<li>\n",
      "        y-labal <sub>(y軸標誌)</sub> :\n",
      "        <input name=\"ylabel\" style=\"width: 100px; height: 20px;\" type=\"text\" value=\"\"/>\n",
      "</li>\n",
      "<li>\n",
      "        legend <sub>(圖示)</sub> :\n",
      "        <i>off</i>\n",
      "<input max=\"1\" min=\"0\" name=\"legend\" style=\"width: 35px; height: 20px;\" type=\"range\" value=\"0\"/>\n",
      "<i>on</i>\n",
      "</li>\n",
      "<li>\n",
      "        grid <sub>(格線)</sub> :\n",
      "        <i>off</i>\n",
      "<input max=\"1\" min=\"0\" name=\"grid\" style=\"width: 35px; height: 20px;\" type=\"range\" value=\"1\"/>\n",
      "<i>on</i>\n",
      "</li>\n",
      "<li>\n",
      "        box <sub>(外框)</sub> :\n",
      "        <i>off</i>\n",
      "<input max=\"0\" min=\"-1\" name=\"box\" style=\"width: 35px; height: 20px;\" type=\"range\" value=\"0\"/>\n",
      "<i>on</i>\n",
      "</li>\n",
      "<li>\n",
      "        Axis BG color <sub>(座標軸背景顏色)</sub> :\n",
      "        <input name=\"abgc\" type=\"color\" value=\"#ffffff\"/>\n",
      "</li>\n",
      "<li>\n",
      "        BG color <sub>(背景顏色)</sub> :\n",
      "        <input name=\"bgc\" type=\"color\" value=\"#ffffff\"/>\n",
      "</li>\n",
      "<li>\n",
      "        fig-height <sub>(輸出像素-高)</sub> :\n",
      "        <input id=\"inh\" max=\"7.2\" min=\"4.8\" name=\"h\" oninput=\"outh.value = inh.value\" step=\"0.1\" type=\"range\" value=\"4.8\"/>\n",
      "<output id=\"outh\" name=\"ageOutputName\">4.8</output> (x100px) (480~720px)\n",
      "      </li>\n",
      "<li>\n",
      "        fig-width <sub>(輸出像素-寬)</sub> :\n",
      "        <input id=\"inw\" max=\"9.6\" min=\"6.4\" name=\"w\" oninput=\"outw.value = inw.value\" step=\"0.1\" type=\"range\" value=\"6.4\"/>\n",
      "<output id=\"outw\" name=\"ageOutputName\">6.4</output> (x100px) (640~960px)\n",
      "      </li>\n",
      "</ul>\n",
      "<p>\n",
      "<button style=\"width: 100px; height: 40px;\" type=\"submit\"><i><b>Fig now</b></i></button>\n",
      "<button onclick=\"location.href='/func'\" style=\"width: 60px; height: 40px;\" type=\"button\"><i><b>reset</b></i></button>\n",
      "</p>\n",
      "<p>\n",
      "<sub>\n",
      "<font color=\"#ff0000\">note: in any input box use <code>\"Shift+Enter\"</code> to fig on pop-up window.<font color=\"#ff00ff\">\n",
      "</font></font></sub>\n",
      "</p>\n",
      "</div>\n",
      "\n",
      "\n"
     ]
    }
   ],
   "source": [
    "for child in soup.form.children:\n",
    "    print(child)"
   ]
  },
  {
   "cell_type": "markdown",
   "metadata": {},
   "source": [
    "### 取得 Tag 中的文字內容\n",
    "* `Tag.string`\n",
    "* `Tag.get_text()`\n",
    "* 實做上兩者略有不同 `Tag.get_text()` 優先"
   ]
  },
  {
   "cell_type": "code",
   "execution_count": 16,
   "metadata": {},
   "outputs": [
    {
     "name": "stdout",
     "output_type": "stream",
     "text": [
      "<class 'bs4.element.NavigableString'>\n"
     ]
    },
    {
     "data": {
      "text/plain": [
       "True"
      ]
     },
     "execution_count": 16,
     "metadata": {},
     "output_type": "execute_result"
    }
   ],
   "source": [
    "tag = soup.h1\n",
    "print(type(tag.string))\n",
    "tag.get_text() == tag.string\n"
   ]
  },
  {
   "cell_type": "markdown",
   "metadata": {},
   "source": [
    "#### 更改Tag.name 等於修改了 soup本身"
   ]
  },
  {
   "cell_type": "code",
   "execution_count": 17,
   "metadata": {},
   "outputs": [],
   "source": [
    "soup.a.name = 'pool'"
   ]
  },
  {
   "cell_type": "code",
   "execution_count": 18,
   "metadata": {},
   "outputs": [
    {
     "data": {
      "text/plain": [
       "<pool href=\"http://web.ift.uib.no/Teori/KURS/WRK/TeX/symALL.html\">LaTeX</pool>"
      ]
     },
     "execution_count": 18,
     "metadata": {},
     "output_type": "execute_result"
    }
   ],
   "source": [
    "soup.find('pool')"
   ]
  },
  {
   "cell_type": "markdown",
   "metadata": {},
   "source": [
    "### Tag 的 屬性取用 `['key']`  or `.get('key')`\n",
    "\n",
    "*  `['key']` 若是沒有屬性會報錯\n",
    "* `.get('key')` 沒有屬性 回傳None\n"
   ]
  },
  {
   "cell_type": "code",
   "execution_count": 19,
   "metadata": {},
   "outputs": [
    {
     "name": "stdout",
     "output_type": "stream",
     "text": [
      "<button id=\"num7\" onclick=\"func.value+=num7.value\" style=\"width: 40px; height: 40px;\" type=\"button\" value=\"7\">7</button> \n",
      "\n",
      "soup.button['id']:     num7\n",
      "soup.button.get('type'):   button\n",
      "soup.button.get('Qoo'):  None\n"
     ]
    }
   ],
   "source": [
    "print(soup.button, '\\n')\n",
    "print(\"soup.button['id']:    \", soup.button['id'])\n",
    "print(\"soup.button.get('type'):  \", soup.button.get('type'))\n",
    "print(\"soup.button.get('Qoo'): \", soup.button.get('Qoo'))"
   ]
  },
  {
   "cell_type": "markdown",
   "metadata": {},
   "source": [
    "### 用.attrs 取得所有屬性(dict)"
   ]
  },
  {
   "cell_type": "code",
   "execution_count": 20,
   "metadata": {},
   "outputs": [
    {
     "data": {
      "text/plain": [
       "{'type': 'button',\n",
       " 'id': 'num7',\n",
       " 'value': '7',\n",
       " 'onclick': 'func.value+=num7.value',\n",
       " 'style': 'width: 40px; height: 40px;'}"
      ]
     },
     "execution_count": 20,
     "metadata": {},
     "output_type": "execute_result"
    }
   ],
   "source": [
    "soup.button.attrs"
   ]
  },
  {
   "cell_type": "markdown",
   "metadata": {},
   "source": [
    "### 找到所有的 Tag (list)\n",
    "* `soup.find_all('Tag')` 專住在標籤的搜尋 輸出 list\n",
    "* `soup.select('Tag')` 可以作為內容, 例如屬性上的搜尋 (CSS)\n"
   ]
  },
  {
   "cell_type": "code",
   "execution_count": 21,
   "metadata": {},
   "outputs": [
    {
     "data": {
      "text/plain": [
       "[<a href=\"/\">Home</a>,\n",
       " <a href=\"https://www.buymeacoffee.com/sci2fig\" target=\"_blank\">\n",
       " <img alt=\"Buy Me A Sandwich\" src=\"https://bmc-cdn.nyc3.digitaloceanspaces.com/BMC-button-images/custom_images/orange_img.png\" style=\"height: auto !important;width: auto !important;\"/>\n",
       " </a>]"
      ]
     },
     "execution_count": 21,
     "metadata": {},
     "output_type": "execute_result"
    }
   ],
   "source": [
    "soup.find_all('a')"
   ]
  },
  {
   "cell_type": "code",
   "execution_count": 22,
   "metadata": {},
   "outputs": [
    {
     "data": {
      "text/plain": [
       "True"
      ]
     },
     "execution_count": 22,
     "metadata": {},
     "output_type": "execute_result"
    }
   ],
   "source": [
    "soup.select('a') == soup.find_all('a')"
   ]
  },
  {
   "cell_type": "markdown",
   "metadata": {},
   "source": [
    "### find_all() 功能詳解\n",
    "\n",
    "|||\n",
    "|:---|---:|\n",
    "|`.find_all('tag')` |選取tag|\n",
    "|`.find_all('tag1', 'tag2')`|tag1 中 子tag2|\n",
    "|`.find_all(['tag1', 'tag'])` |多個tag選取|\n",
    "|`.find_all(id='value')` |指定id 屬性的tag|\n",
    "|`.find_all(id=True)` |有id 屬性的tags|\n",
    "|`.find_all(attrs={'屬性1':'value1', '屬性2':'value2'})` |指定多個屬性的tag|\n",
    "|`.find_all('tag', {'class':'value'})` |指定class屬性的tags|\n",
    "|`.find_all('tag', {'class':{'value1', 'values2'}})` |指定多個class屬性的tags|\n",
    "|`.find_all('tag', limit=n)`|限制搜尋數目|"
   ]
  },
  {
   "cell_type": "code",
   "execution_count": 23,
   "metadata": {},
   "outputs": [
    {
     "data": {
      "text/plain": [
       "[<b>y(x)=</b>,\n",
       " <b><i>x</i></b>,\n",
       " <b><i>π</i></b>,\n",
       " <b><i>e</i></b>,\n",
       " <b>Fig now</b>,\n",
       " <b>reset</b>]"
      ]
     },
     "execution_count": 23,
     "metadata": {},
     "output_type": "execute_result"
    }
   ],
   "source": [
    "soup.find_all('b')"
   ]
  },
  {
   "cell_type": "code",
   "execution_count": 24,
   "metadata": {},
   "outputs": [
    {
     "data": {
      "text/plain": [
       "[<b>y(x)=</b>,\n",
       " <b><i>x</i></b>,\n",
       " <b><i>π</i></b>,\n",
       " <b><i>e</i></b>,\n",
       " <b>Fig now</b>,\n",
       " <b>reset</b>,\n",
       " <a href=\"/\">Home</a>,\n",
       " <a href=\"https://www.buymeacoffee.com/sci2fig\" target=\"_blank\">\n",
       " <img alt=\"Buy Me A Sandwich\" src=\"https://bmc-cdn.nyc3.digitaloceanspaces.com/BMC-button-images/custom_images/orange_img.png\" style=\"height: auto !important;width: auto !important;\"/>\n",
       " </a>]"
      ]
     },
     "execution_count": 24,
     "metadata": {},
     "output_type": "execute_result"
    }
   ],
   "source": [
    "soup.find_all(['a', 'b'])"
   ]
  },
  {
   "cell_type": "code",
   "execution_count": 25,
   "metadata": {},
   "outputs": [
    {
     "data": {
      "text/plain": [
       "[<input id=\"func\" name=\"func\" placeholder=\"sin(x^(2*π))\" style=\"width: 400px; height: 30px;\" type=\"text\" value=\"\"/>]"
      ]
     },
     "execution_count": 25,
     "metadata": {},
     "output_type": "execute_result"
    }
   ],
   "source": [
    "soup.find_all(id='func')"
   ]
  },
  {
   "cell_type": "code",
   "execution_count": 26,
   "metadata": {},
   "outputs": [
    {
     "data": {
      "text/plain": [
       "[<div id=\"content\">\n",
       " <h1><i>Func2Fig</i></h1>\n",
       " <form action=\"/func\" method=\"post\">\n",
       " <div id=\"func_setting\">\n",
       " <h2>func setting</h2>\n",
       " <i><b>y(x)=</b></i>\n",
       " <input id=\"func\" name=\"func\" placeholder=\"sin(x^(2*π))\" style=\"width: 400px; height: 30px;\" type=\"text\" value=\"\"/>\n",
       " <br/><!-- onclick HTML5標準事件 -->\n",
       " <button id=\"num7\" onclick=\"func.value+=num7.value\" style=\"width: 40px; height: 40px;\" type=\"button\" value=\"7\">7</button>\n",
       " <button id=\"num8\" onclick=\"func.value+=num8.value\" style=\"width: 40px; height: 40px;\" type=\"button\" value=\"8\">8</button>\n",
       " <button id=\"num9\" onclick=\"func.value+=num9.value\" style=\"width: 40px; height: 40px;\" type=\"button\" value=\"9\">9</button>\n",
       " <button id=\"divide\" onclick=\"func.value+=divide.value\" style=\"width: 40px; height: 40px;\" type=\"button\" value=\"/\">÷</button>\n",
       " <button id=\"sin\" onclick=\"func.value+=sin.value\" style=\"width: 50px; height: 40px;\" type=\"button\" value=\"sin(\"><i>sin</i></button>\n",
       " <button id=\"cos\" onclick=\"func.value+=cos.value\" style=\"width: 50px; height: 40px;\" type=\"button\" value=\"cos(\"><i>cos</i></button>\n",
       " <button id=\"tan\" onclick=\"func.value+=tan.value\" style=\"width: 50px; height: 40px;\" type=\"button\" value=\"tan(\"><i>tan</i></button>\n",
       " <button id=\"sinh\" onclick=\"func.value+=sinh.value\" style=\"width: 50px; height: 40px;\" type=\"button\" value=\"sinh(\"><i>sinh</i></button>\n",
       " <button id=\"cosh\" onclick=\"func.value+=cosh.value\" style=\"width: 50px; height: 40px;\" type=\"button\" value=\"cosh(\"><i>cosh</i></button>\n",
       " <button id=\"tanh\" onclick=\"func.value+=tanh.value\" style=\"width: 50px; height: 40px;\" type=\"button\" value=\"tanh(\"><i>tanh</i></button>\n",
       " <br/>\n",
       " <button id=\"num4\" onclick=\"func.value+=num4.value\" style=\"width: 40px; height: 40px;\" type=\"button\" value=\"4\">4</button>\n",
       " <button id=\"num5\" onclick=\"func.value+=num5.value\" style=\"width: 40px; height: 40px;\" type=\"button\" value=\"5\">5</button>\n",
       " <button id=\"num6\" onclick=\"func.value+=num6.value\" style=\"width: 40px; height: 40px;\" type=\"button\" value=\"6\">6</button>\n",
       " <button id=\"multiplied\" onclick=\"func.value+=multiplied.value\" style=\"width: 40px; height: 40px;\" type=\"button\" value=\"*\">×</button>\n",
       " <button id=\"log10\" onclick=\"func.value+=log10.value\" style=\"width: 50px; height: 40px;\" type=\"button\" value=\"log10(\"><i>log<sub>10</sub></i></button>\n",
       " <button id=\"log\" onclick=\"func.value+=log.value\" style=\"width: 50px; height: 40px;\" type=\"button\" value=\"log(\"><i>log<sub>e</sub></i></button>\n",
       " <button id=\"log2\" onclick=\"func.value+=log2.value\" style=\"width: 50px; height: 40px;\" type=\"button\" value=\"log2(\"><i>log<sub>2</sub></i></button>\n",
       " <br/>\n",
       " <button id=\"num1\" onclick=\"func.value+=num1.value\" style=\"width: 40px; height: 40px;\" type=\"button\" value=\"1\">1</button>\n",
       " <button id=\"num2\" onclick=\"func.value+=num2.value\" style=\"width: 40px; height: 40px;\" type=\"button\" value=\"2\">2</button>\n",
       " <button id=\"num3\" onclick=\"func.value+=num3.value\" style=\"width: 40px; height: 40px;\" type=\"button\" value=\"3\">3</button>\n",
       " <button id=\"minus\" onclick=\"func.value+=minus.value\" style=\"width: 40px; height: 40px;\" type=\"button\" value=\"-\">-</button>\n",
       " <button id=\"l_bkt\" onclick=\"func.value+=l_bkt.value\" style=\"width: 40px; height: 40px;\" type=\"button\" value=\"(\">(</button>\n",
       " <button id=\"r_bkt\" onclick=\"func.value+=r_bkt.value\" style=\"width: 40px; height: 40px;\" type=\"button\" value=\")\">)</button>\n",
       " <br/>\n",
       " <button id=\"num0\" onclick=\"func.value+=num0.value\" style=\"width: 40px; height: 40px;\" type=\"button\" value=\"0\">0</button>\n",
       " <button id=\"dot\" onclick=\"func.value+=dot.value\" style=\"width: 40px; height: 40px;\" type=\"button\" value=\".\">.</button>\n",
       " <button id=\"cancel\" onclick=\"func.value=''\" style=\"width: 40px; height: 40px;\" type=\"button\">c</button>\n",
       " <button id=\"plus\" onclick=\"func.value+=plus.value\" style=\"width: 40px; height: 40px;\" type=\"button\" value=\"+\">+</button>\n",
       " <button id=\"index\" onclick=\"func.value+=index.value\" style=\"width: 40px; height: 40px;\" type=\"button\" value=\"^(\">^</button>\n",
       " <button id=\"x\" onclick=\"func.value+=x.value\" style=\"width: 40px; height: 40px;\" type=\"button\" value=\"x\"><b><i>x</i></b></button>\n",
       " <button id=\"pi\" onclick=\"func.value+=pi.value\" style=\"width: 40px; height: 40px;\" type=\"button\" value=\"π\"><b><i>π</i></b></button>\n",
       " <button id=\"exp\" onclick=\"func.value+=exp.value\" style=\"width: 40px; height: 40px;\" type=\"button\" value=\"e\"><b><i>e</i></b></button>\n",
       " <ul>\n",
       " <li>\n",
       "         line-width <sub>(線寬)</sub> :\n",
       "         <input id=\"inlw\" max=\"10\" min=\"0.5\" name=\"lw\" oninput=\"outlw.value = inlw.value\" step=\"0.1\" type=\"range\" value=\"1.5\"/>\n",
       " <output id=\"outlw\" name=\"ageOutputName\">1.5</output>\n",
       " </li>\n",
       " <li>\n",
       "         line-style <sub>(線條風格)</sub> :\n",
       "         <select class=\"\" name=\"ls\" style=\"width: 100px; height: 28px;\">\n",
       " <option value=\"-\">solid (實線)</option>\n",
       " <option value=\":\">dotted (點線)</option>\n",
       " <option value=\"--\">dashed (虛線)</option>\n",
       " <option value=\"-.\">dashdot (點虛線)</option>\n",
       " </select>\n",
       " </li>\n",
       " <li>\n",
       "         line-color <sub>(顏色)</sub> :\n",
       "         <input name=\"c\" type=\"color\" value=\"#000000\"/>\n",
       " </li>\n",
       " </ul>\n",
       " </div>\n",
       " <div id=\"layout_setting\">\n",
       " <h2>layout setting</h2>\n",
       " <ul>\n",
       " <li>\n",
       "         x-limit <sub>(x軸範圍)</sub> :\n",
       "         <input id=\"xmin\" name=\"xmin\" step=\"0.1\" style=\"width: 50px; height: 20px;\" type=\"number\" value=\"0\"/>~\n",
       "         <input id=\"xmax\" name=\"xmax\" step=\"0.1\" style=\"width: 50px; height: 20px;\" type=\"number\" value=\"10\"/>\n",
       " </li>\n",
       " <li>\n",
       "         y-limit <sub>(y軸範圍)</sub> :\n",
       "         <input id=\"ymin\" name=\"ymin\" placeholder=\"auto\" step=\"0.1\" style=\"width: 50px; height: 20px;\" type=\"number\" value=\"\"/>~\n",
       "         <input id=\"ymax\" name=\"ymax\" placeholder=\"auto\" step=\"0.1\" style=\"width: 50px; height: 20px;\" type=\"number\" value=\"\"/>\n",
       " <sub><i>(default: all range)</i></sub>\n",
       " </li>\n",
       " <li>\n",
       "         fig-title <sub>(標題)</sub> :\n",
       "         <input name=\"title\" placeholder=\"$sin(x)$\" style=\"width: 100px; height: 20px;\" type=\"text\" value=\"\"/>\n",
       " <sub>Support<i><pool href=\"http://web.ift.uib.no/Teori/KURS/WRK/TeX/symALL.html\">LaTeX</pool></i> (頭尾打上$)</sub>\n",
       " </li>\n",
       " <li>\n",
       "         x-label <sub>(x軸標誌)</sub> :\n",
       "         <input name=\"xlabel\" style=\"width: 100px; height: 20px;\" type=\"text\" value=\"\"/>\n",
       " </li>\n",
       " <li>\n",
       "         y-labal <sub>(y軸標誌)</sub> :\n",
       "         <input name=\"ylabel\" style=\"width: 100px; height: 20px;\" type=\"text\" value=\"\"/>\n",
       " </li>\n",
       " <li>\n",
       "         legend <sub>(圖示)</sub> :\n",
       "         <i>off</i>\n",
       " <input max=\"1\" min=\"0\" name=\"legend\" style=\"width: 35px; height: 20px;\" type=\"range\" value=\"0\"/>\n",
       " <i>on</i>\n",
       " </li>\n",
       " <li>\n",
       "         grid <sub>(格線)</sub> :\n",
       "         <i>off</i>\n",
       " <input max=\"1\" min=\"0\" name=\"grid\" style=\"width: 35px; height: 20px;\" type=\"range\" value=\"1\"/>\n",
       " <i>on</i>\n",
       " </li>\n",
       " <li>\n",
       "         box <sub>(外框)</sub> :\n",
       "         <i>off</i>\n",
       " <input max=\"0\" min=\"-1\" name=\"box\" style=\"width: 35px; height: 20px;\" type=\"range\" value=\"0\"/>\n",
       " <i>on</i>\n",
       " </li>\n",
       " <li>\n",
       "         Axis BG color <sub>(座標軸背景顏色)</sub> :\n",
       "         <input name=\"abgc\" type=\"color\" value=\"#ffffff\"/>\n",
       " </li>\n",
       " <li>\n",
       "         BG color <sub>(背景顏色)</sub> :\n",
       "         <input name=\"bgc\" type=\"color\" value=\"#ffffff\"/>\n",
       " </li>\n",
       " <li>\n",
       "         fig-height <sub>(輸出像素-高)</sub> :\n",
       "         <input id=\"inh\" max=\"7.2\" min=\"4.8\" name=\"h\" oninput=\"outh.value = inh.value\" step=\"0.1\" type=\"range\" value=\"4.8\"/>\n",
       " <output id=\"outh\" name=\"ageOutputName\">4.8</output> (x100px) (480~720px)\n",
       "       </li>\n",
       " <li>\n",
       "         fig-width <sub>(輸出像素-寬)</sub> :\n",
       "         <input id=\"inw\" max=\"9.6\" min=\"6.4\" name=\"w\" oninput=\"outw.value = inw.value\" step=\"0.1\" type=\"range\" value=\"6.4\"/>\n",
       " <output id=\"outw\" name=\"ageOutputName\">6.4</output> (x100px) (640~960px)\n",
       "       </li>\n",
       " </ul>\n",
       " <p>\n",
       " <button style=\"width: 100px; height: 40px;\" type=\"submit\"><i><b>Fig now</b></i></button>\n",
       " <button onclick=\"location.href='/func'\" style=\"width: 60px; height: 40px;\" type=\"button\"><i><b>reset</b></i></button>\n",
       " </p>\n",
       " <p>\n",
       " <sub>\n",
       " <font color=\"#ff0000\">note: in any input box use <code>\"Shift+Enter\"</code> to fig on pop-up window.<font color=\"#ff00ff\">\n",
       " </font></font></sub>\n",
       " </p>\n",
       " </div>\n",
       " </form>\n",
       " </div>, <div id=\"func_setting\">\n",
       " <h2>func setting</h2>\n",
       " <i><b>y(x)=</b></i>\n",
       " <input id=\"func\" name=\"func\" placeholder=\"sin(x^(2*π))\" style=\"width: 400px; height: 30px;\" type=\"text\" value=\"\"/>\n",
       " <br/><!-- onclick HTML5標準事件 -->\n",
       " <button id=\"num7\" onclick=\"func.value+=num7.value\" style=\"width: 40px; height: 40px;\" type=\"button\" value=\"7\">7</button>\n",
       " <button id=\"num8\" onclick=\"func.value+=num8.value\" style=\"width: 40px; height: 40px;\" type=\"button\" value=\"8\">8</button>\n",
       " <button id=\"num9\" onclick=\"func.value+=num9.value\" style=\"width: 40px; height: 40px;\" type=\"button\" value=\"9\">9</button>\n",
       " <button id=\"divide\" onclick=\"func.value+=divide.value\" style=\"width: 40px; height: 40px;\" type=\"button\" value=\"/\">÷</button>\n",
       " <button id=\"sin\" onclick=\"func.value+=sin.value\" style=\"width: 50px; height: 40px;\" type=\"button\" value=\"sin(\"><i>sin</i></button>\n",
       " <button id=\"cos\" onclick=\"func.value+=cos.value\" style=\"width: 50px; height: 40px;\" type=\"button\" value=\"cos(\"><i>cos</i></button>\n",
       " <button id=\"tan\" onclick=\"func.value+=tan.value\" style=\"width: 50px; height: 40px;\" type=\"button\" value=\"tan(\"><i>tan</i></button>\n",
       " <button id=\"sinh\" onclick=\"func.value+=sinh.value\" style=\"width: 50px; height: 40px;\" type=\"button\" value=\"sinh(\"><i>sinh</i></button>\n",
       " <button id=\"cosh\" onclick=\"func.value+=cosh.value\" style=\"width: 50px; height: 40px;\" type=\"button\" value=\"cosh(\"><i>cosh</i></button>\n",
       " <button id=\"tanh\" onclick=\"func.value+=tanh.value\" style=\"width: 50px; height: 40px;\" type=\"button\" value=\"tanh(\"><i>tanh</i></button>\n",
       " <br/>\n",
       " <button id=\"num4\" onclick=\"func.value+=num4.value\" style=\"width: 40px; height: 40px;\" type=\"button\" value=\"4\">4</button>\n",
       " <button id=\"num5\" onclick=\"func.value+=num5.value\" style=\"width: 40px; height: 40px;\" type=\"button\" value=\"5\">5</button>\n",
       " <button id=\"num6\" onclick=\"func.value+=num6.value\" style=\"width: 40px; height: 40px;\" type=\"button\" value=\"6\">6</button>\n",
       " <button id=\"multiplied\" onclick=\"func.value+=multiplied.value\" style=\"width: 40px; height: 40px;\" type=\"button\" value=\"*\">×</button>\n",
       " <button id=\"log10\" onclick=\"func.value+=log10.value\" style=\"width: 50px; height: 40px;\" type=\"button\" value=\"log10(\"><i>log<sub>10</sub></i></button>\n",
       " <button id=\"log\" onclick=\"func.value+=log.value\" style=\"width: 50px; height: 40px;\" type=\"button\" value=\"log(\"><i>log<sub>e</sub></i></button>\n",
       " <button id=\"log2\" onclick=\"func.value+=log2.value\" style=\"width: 50px; height: 40px;\" type=\"button\" value=\"log2(\"><i>log<sub>2</sub></i></button>\n",
       " <br/>\n",
       " <button id=\"num1\" onclick=\"func.value+=num1.value\" style=\"width: 40px; height: 40px;\" type=\"button\" value=\"1\">1</button>\n",
       " <button id=\"num2\" onclick=\"func.value+=num2.value\" style=\"width: 40px; height: 40px;\" type=\"button\" value=\"2\">2</button>\n",
       " <button id=\"num3\" onclick=\"func.value+=num3.value\" style=\"width: 40px; height: 40px;\" type=\"button\" value=\"3\">3</button>\n",
       " <button id=\"minus\" onclick=\"func.value+=minus.value\" style=\"width: 40px; height: 40px;\" type=\"button\" value=\"-\">-</button>\n",
       " <button id=\"l_bkt\" onclick=\"func.value+=l_bkt.value\" style=\"width: 40px; height: 40px;\" type=\"button\" value=\"(\">(</button>\n",
       " <button id=\"r_bkt\" onclick=\"func.value+=r_bkt.value\" style=\"width: 40px; height: 40px;\" type=\"button\" value=\")\">)</button>\n",
       " <br/>\n",
       " <button id=\"num0\" onclick=\"func.value+=num0.value\" style=\"width: 40px; height: 40px;\" type=\"button\" value=\"0\">0</button>\n",
       " <button id=\"dot\" onclick=\"func.value+=dot.value\" style=\"width: 40px; height: 40px;\" type=\"button\" value=\".\">.</button>\n",
       " <button id=\"cancel\" onclick=\"func.value=''\" style=\"width: 40px; height: 40px;\" type=\"button\">c</button>\n",
       " <button id=\"plus\" onclick=\"func.value+=plus.value\" style=\"width: 40px; height: 40px;\" type=\"button\" value=\"+\">+</button>\n",
       " <button id=\"index\" onclick=\"func.value+=index.value\" style=\"width: 40px; height: 40px;\" type=\"button\" value=\"^(\">^</button>\n",
       " <button id=\"x\" onclick=\"func.value+=x.value\" style=\"width: 40px; height: 40px;\" type=\"button\" value=\"x\"><b><i>x</i></b></button>\n",
       " <button id=\"pi\" onclick=\"func.value+=pi.value\" style=\"width: 40px; height: 40px;\" type=\"button\" value=\"π\"><b><i>π</i></b></button>\n",
       " <button id=\"exp\" onclick=\"func.value+=exp.value\" style=\"width: 40px; height: 40px;\" type=\"button\" value=\"e\"><b><i>e</i></b></button>\n",
       " <ul>\n",
       " <li>\n",
       "         line-width <sub>(線寬)</sub> :\n",
       "         <input id=\"inlw\" max=\"10\" min=\"0.5\" name=\"lw\" oninput=\"outlw.value = inlw.value\" step=\"0.1\" type=\"range\" value=\"1.5\"/>\n",
       " <output id=\"outlw\" name=\"ageOutputName\">1.5</output>\n",
       " </li>\n",
       " <li>\n",
       "         line-style <sub>(線條風格)</sub> :\n",
       "         <select class=\"\" name=\"ls\" style=\"width: 100px; height: 28px;\">\n",
       " <option value=\"-\">solid (實線)</option>\n",
       " <option value=\":\">dotted (點線)</option>\n",
       " <option value=\"--\">dashed (虛線)</option>\n",
       " <option value=\"-.\">dashdot (點虛線)</option>\n",
       " </select>\n",
       " </li>\n",
       " <li>\n",
       "         line-color <sub>(顏色)</sub> :\n",
       "         <input name=\"c\" type=\"color\" value=\"#000000\"/>\n",
       " </li>\n",
       " </ul>\n",
       " </div>, <input id=\"func\" name=\"func\" placeholder=\"sin(x^(2*π))\" style=\"width: 400px; height: 30px;\" type=\"text\" value=\"\"/>, <button id=\"num7\" onclick=\"func.value+=num7.value\" style=\"width: 40px; height: 40px;\" type=\"button\" value=\"7\">7</button>, <button id=\"num8\" onclick=\"func.value+=num8.value\" style=\"width: 40px; height: 40px;\" type=\"button\" value=\"8\">8</button>, <button id=\"num9\" onclick=\"func.value+=num9.value\" style=\"width: 40px; height: 40px;\" type=\"button\" value=\"9\">9</button>, <button id=\"divide\" onclick=\"func.value+=divide.value\" style=\"width: 40px; height: 40px;\" type=\"button\" value=\"/\">÷</button>, <button id=\"sin\" onclick=\"func.value+=sin.value\" style=\"width: 50px; height: 40px;\" type=\"button\" value=\"sin(\"><i>sin</i></button>, <button id=\"cos\" onclick=\"func.value+=cos.value\" style=\"width: 50px; height: 40px;\" type=\"button\" value=\"cos(\"><i>cos</i></button>, <button id=\"tan\" onclick=\"func.value+=tan.value\" style=\"width: 50px; height: 40px;\" type=\"button\" value=\"tan(\"><i>tan</i></button>, <button id=\"sinh\" onclick=\"func.value+=sinh.value\" style=\"width: 50px; height: 40px;\" type=\"button\" value=\"sinh(\"><i>sinh</i></button>, <button id=\"cosh\" onclick=\"func.value+=cosh.value\" style=\"width: 50px; height: 40px;\" type=\"button\" value=\"cosh(\"><i>cosh</i></button>, <button id=\"tanh\" onclick=\"func.value+=tanh.value\" style=\"width: 50px; height: 40px;\" type=\"button\" value=\"tanh(\"><i>tanh</i></button>, <button id=\"num4\" onclick=\"func.value+=num4.value\" style=\"width: 40px; height: 40px;\" type=\"button\" value=\"4\">4</button>, <button id=\"num5\" onclick=\"func.value+=num5.value\" style=\"width: 40px; height: 40px;\" type=\"button\" value=\"5\">5</button>, <button id=\"num6\" onclick=\"func.value+=num6.value\" style=\"width: 40px; height: 40px;\" type=\"button\" value=\"6\">6</button>, <button id=\"multiplied\" onclick=\"func.value+=multiplied.value\" style=\"width: 40px; height: 40px;\" type=\"button\" value=\"*\">×</button>, <button id=\"log10\" onclick=\"func.value+=log10.value\" style=\"width: 50px; height: 40px;\" type=\"button\" value=\"log10(\"><i>log<sub>10</sub></i></button>, <button id=\"log\" onclick=\"func.value+=log.value\" style=\"width: 50px; height: 40px;\" type=\"button\" value=\"log(\"><i>log<sub>e</sub></i></button>, <button id=\"log2\" onclick=\"func.value+=log2.value\" style=\"width: 50px; height: 40px;\" type=\"button\" value=\"log2(\"><i>log<sub>2</sub></i></button>, <button id=\"num1\" onclick=\"func.value+=num1.value\" style=\"width: 40px; height: 40px;\" type=\"button\" value=\"1\">1</button>, <button id=\"num2\" onclick=\"func.value+=num2.value\" style=\"width: 40px; height: 40px;\" type=\"button\" value=\"2\">2</button>, <button id=\"num3\" onclick=\"func.value+=num3.value\" style=\"width: 40px; height: 40px;\" type=\"button\" value=\"3\">3</button>, <button id=\"minus\" onclick=\"func.value+=minus.value\" style=\"width: 40px; height: 40px;\" type=\"button\" value=\"-\">-</button>, <button id=\"l_bkt\" onclick=\"func.value+=l_bkt.value\" style=\"width: 40px; height: 40px;\" type=\"button\" value=\"(\">(</button>, <button id=\"r_bkt\" onclick=\"func.value+=r_bkt.value\" style=\"width: 40px; height: 40px;\" type=\"button\" value=\")\">)</button>, <button id=\"num0\" onclick=\"func.value+=num0.value\" style=\"width: 40px; height: 40px;\" type=\"button\" value=\"0\">0</button>, <button id=\"dot\" onclick=\"func.value+=dot.value\" style=\"width: 40px; height: 40px;\" type=\"button\" value=\".\">.</button>, <button id=\"cancel\" onclick=\"func.value=''\" style=\"width: 40px; height: 40px;\" type=\"button\">c</button>, <button id=\"plus\" onclick=\"func.value+=plus.value\" style=\"width: 40px; height: 40px;\" type=\"button\" value=\"+\">+</button>, <button id=\"index\" onclick=\"func.value+=index.value\" style=\"width: 40px; height: 40px;\" type=\"button\" value=\"^(\">^</button>, <button id=\"x\" onclick=\"func.value+=x.value\" style=\"width: 40px; height: 40px;\" type=\"button\" value=\"x\"><b><i>x</i></b></button>, <button id=\"pi\" onclick=\"func.value+=pi.value\" style=\"width: 40px; height: 40px;\" type=\"button\" value=\"π\"><b><i>π</i></b></button>, <button id=\"exp\" onclick=\"func.value+=exp.value\" style=\"width: 40px; height: 40px;\" type=\"button\" value=\"e\"><b><i>e</i></b></button>, <input id=\"inlw\" max=\"10\" min=\"0.5\" name=\"lw\" oninput=\"outlw.value = inlw.value\" step=\"0.1\" type=\"range\" value=\"1.5\"/>, <output id=\"outlw\" name=\"ageOutputName\">1.5</output>, <div id=\"layout_setting\">\n",
       " <h2>layout setting</h2>\n",
       " <ul>\n",
       " <li>\n",
       "         x-limit <sub>(x軸範圍)</sub> :\n",
       "         <input id=\"xmin\" name=\"xmin\" step=\"0.1\" style=\"width: 50px; height: 20px;\" type=\"number\" value=\"0\"/>~\n",
       "         <input id=\"xmax\" name=\"xmax\" step=\"0.1\" style=\"width: 50px; height: 20px;\" type=\"number\" value=\"10\"/>\n",
       " </li>\n",
       " <li>\n",
       "         y-limit <sub>(y軸範圍)</sub> :\n",
       "         <input id=\"ymin\" name=\"ymin\" placeholder=\"auto\" step=\"0.1\" style=\"width: 50px; height: 20px;\" type=\"number\" value=\"\"/>~\n",
       "         <input id=\"ymax\" name=\"ymax\" placeholder=\"auto\" step=\"0.1\" style=\"width: 50px; height: 20px;\" type=\"number\" value=\"\"/>\n",
       " <sub><i>(default: all range)</i></sub>\n",
       " </li>\n",
       " <li>\n",
       "         fig-title <sub>(標題)</sub> :\n",
       "         <input name=\"title\" placeholder=\"$sin(x)$\" style=\"width: 100px; height: 20px;\" type=\"text\" value=\"\"/>\n",
       " <sub>Support<i><pool href=\"http://web.ift.uib.no/Teori/KURS/WRK/TeX/symALL.html\">LaTeX</pool></i> (頭尾打上$)</sub>\n",
       " </li>\n",
       " <li>\n",
       "         x-label <sub>(x軸標誌)</sub> :\n",
       "         <input name=\"xlabel\" style=\"width: 100px; height: 20px;\" type=\"text\" value=\"\"/>\n",
       " </li>\n",
       " <li>\n",
       "         y-labal <sub>(y軸標誌)</sub> :\n",
       "         <input name=\"ylabel\" style=\"width: 100px; height: 20px;\" type=\"text\" value=\"\"/>\n",
       " </li>\n",
       " <li>\n",
       "         legend <sub>(圖示)</sub> :\n",
       "         <i>off</i>\n",
       " <input max=\"1\" min=\"0\" name=\"legend\" style=\"width: 35px; height: 20px;\" type=\"range\" value=\"0\"/>\n",
       " <i>on</i>\n",
       " </li>\n",
       " <li>\n",
       "         grid <sub>(格線)</sub> :\n",
       "         <i>off</i>\n",
       " <input max=\"1\" min=\"0\" name=\"grid\" style=\"width: 35px; height: 20px;\" type=\"range\" value=\"1\"/>\n",
       " <i>on</i>\n",
       " </li>\n",
       " <li>\n",
       "         box <sub>(外框)</sub> :\n",
       "         <i>off</i>\n",
       " <input max=\"0\" min=\"-1\" name=\"box\" style=\"width: 35px; height: 20px;\" type=\"range\" value=\"0\"/>\n",
       " <i>on</i>\n",
       " </li>\n",
       " <li>\n",
       "         Axis BG color <sub>(座標軸背景顏色)</sub> :\n",
       "         <input name=\"abgc\" type=\"color\" value=\"#ffffff\"/>\n",
       " </li>\n",
       " <li>\n",
       "         BG color <sub>(背景顏色)</sub> :\n",
       "         <input name=\"bgc\" type=\"color\" value=\"#ffffff\"/>\n",
       " </li>\n",
       " <li>\n",
       "         fig-height <sub>(輸出像素-高)</sub> :\n",
       "         <input id=\"inh\" max=\"7.2\" min=\"4.8\" name=\"h\" oninput=\"outh.value = inh.value\" step=\"0.1\" type=\"range\" value=\"4.8\"/>\n",
       " <output id=\"outh\" name=\"ageOutputName\">4.8</output> (x100px) (480~720px)\n",
       "       </li>\n",
       " <li>\n",
       "         fig-width <sub>(輸出像素-寬)</sub> :\n",
       "         <input id=\"inw\" max=\"9.6\" min=\"6.4\" name=\"w\" oninput=\"outw.value = inw.value\" step=\"0.1\" type=\"range\" value=\"6.4\"/>\n",
       " <output id=\"outw\" name=\"ageOutputName\">6.4</output> (x100px) (640~960px)\n",
       "       </li>\n",
       " </ul>\n",
       " <p>\n",
       " <button style=\"width: 100px; height: 40px;\" type=\"submit\"><i><b>Fig now</b></i></button>\n",
       " <button onclick=\"location.href='/func'\" style=\"width: 60px; height: 40px;\" type=\"button\"><i><b>reset</b></i></button>\n",
       " </p>\n",
       " <p>\n",
       " <sub>\n",
       " <font color=\"#ff0000\">note: in any input box use <code>\"Shift+Enter\"</code> to fig on pop-up window.<font color=\"#ff00ff\">\n",
       " </font></font></sub>\n",
       " </p>\n",
       " </div>, <input id=\"xmin\" name=\"xmin\" step=\"0.1\" style=\"width: 50px; height: 20px;\" type=\"number\" value=\"0\"/>, <input id=\"xmax\" name=\"xmax\" step=\"0.1\" style=\"width: 50px; height: 20px;\" type=\"number\" value=\"10\"/>, <input id=\"ymin\" name=\"ymin\" placeholder=\"auto\" step=\"0.1\" style=\"width: 50px; height: 20px;\" type=\"number\" value=\"\"/>, <input id=\"ymax\" name=\"ymax\" placeholder=\"auto\" step=\"0.1\" style=\"width: 50px; height: 20px;\" type=\"number\" value=\"\"/>, <input id=\"inh\" max=\"7.2\" min=\"4.8\" name=\"h\" oninput=\"outh.value = inh.value\" step=\"0.1\" type=\"range\" value=\"4.8\"/>, <output id=\"outh\" name=\"ageOutputName\">4.8</output>, <input id=\"inw\" max=\"9.6\" min=\"6.4\" name=\"w\" oninput=\"outw.value = inw.value\" step=\"0.1\" type=\"range\" value=\"6.4\"/>, <output id=\"outw\" name=\"ageOutputName\">6.4</output>, <div id=\"home\">\n",
       " <pre>\n",
       "     </pre>\n",
       " <h3><i><a href=\"/\">Home</a></i></h3>\n",
       " <hr/>\n",
       " </div>, <div id=\"footer\">\n",
       " <p>\n",
       " <img src=\"./static/image/matplotlib.svg\" width=\"600\"/>\n",
       " </p>\n",
       " <hr/>\n",
       " <p>\n",
       " <a href=\"https://www.buymeacoffee.com/sci2fig\" target=\"_blank\">\n",
       " <img alt=\"Buy Me A Sandwich\" src=\"https://bmc-cdn.nyc3.digitaloceanspaces.com/BMC-button-images/custom_images/orange_img.png\" style=\"height: auto !important;width: auto !important;\"/>\n",
       " </a>\n",
       " </p>\n",
       " </div>]"
      ]
     },
     "execution_count": 26,
     "metadata": {},
     "output_type": "execute_result"
    }
   ],
   "source": [
    "soup.find_all(id=True)"
   ]
  },
  {
   "cell_type": "code",
   "execution_count": 27,
   "metadata": {},
   "outputs": [
    {
     "data": {
      "text/plain": [
       "[<input id=\"func\" name=\"func\" placeholder=\"sin(x^(2*π))\" style=\"width: 400px; height: 30px;\" type=\"text\" value=\"\"/>]"
      ]
     },
     "execution_count": 27,
     "metadata": {},
     "output_type": "execute_result"
    }
   ],
   "source": [
    "soup.find_all(attrs={'name':\"func\"})"
   ]
  },
  {
   "cell_type": "code",
   "execution_count": 28,
   "metadata": {},
   "outputs": [
    {
     "name": "stdout",
     "output_type": "stream",
     "text": [
      "<!DOCTYPE html>\n",
      "<html dir=\"ltr\" lang=\"\">\n",
      " <head>\n",
      "  <title>\n",
      "   Func2Fig\n",
      "  </title>\n",
      "  <link href=\"./static/image/fig.png\" rel=\"icon\" type=\"image/png\"/>\n",
      " </head>\n",
      " <body bgcolor=\"#a3c6e9\">\n",
      "  <div id=\"content\">\n",
      "   <h1>\n",
      "    <i>\n",
      "     Func2Fig\n",
      "    </i>\n",
      "   </h1>\n",
      "   <form action=\"/func\" method=\"post\">\n",
      "    <div id=\"func_setting\">\n",
      "     <h2>\n",
      "      func setting\n",
      "     </h2>\n",
      "     <i>\n",
      "      <b>\n",
      "       y(x)=\n",
      "      </b>\n",
      "     </i>\n",
      "     <input id=\"func\" name=\"func\" placeholder=\"sin(x^(2*π))\" style=\"width: 400px; height: 30px;\" type=\"text\" value=\"\"/>\n",
      "     <br/>\n",
      "     <!-- onclick HTML5標準事件 -->\n",
      "     <button id=\"num7\" onclick=\"func.value+=num7.value\" style=\"width: 40px; height: 40px;\" type=\"button\" value=\"7\">\n",
      "      7\n",
      "     </button>\n",
      "     <button id=\"num8\" onclick=\"func.value+=num8.value\" style=\"width: 40px; height: 40px;\" type=\"button\" value=\"8\">\n",
      "      8\n",
      "     </button>\n",
      "     <button id=\"num9\" onclick=\"func.value+=num9.value\" style=\"width: 40px; height: 40px;\" type=\"button\" value=\"9\">\n",
      "      9\n",
      "     </button>\n",
      "     <button id=\"divide\" onclick=\"func.value+=divide.value\" style=\"width: 40px; height: 40px;\" type=\"button\" value=\"/\">\n",
      "      ÷\n",
      "     </button>\n",
      "     <button id=\"sin\" onclick=\"func.value+=sin.value\" style=\"width: 50px; height: 40px;\" type=\"button\" value=\"sin(\">\n",
      "      <i>\n",
      "       sin\n",
      "      </i>\n",
      "     </button>\n",
      "     <button id=\"cos\" onclick=\"func.value+=cos.value\" style=\"width: 50px; height: 40px;\" type=\"button\" value=\"cos(\">\n",
      "      <i>\n",
      "       cos\n",
      "      </i>\n",
      "     </button>\n",
      "     <button id=\"tan\" onclick=\"func.value+=tan.value\" style=\"width: 50px; height: 40px;\" type=\"button\" value=\"tan(\">\n",
      "      <i>\n",
      "       tan\n",
      "      </i>\n",
      "     </button>\n",
      "     <button id=\"sinh\" onclick=\"func.value+=sinh.value\" style=\"width: 50px; height: 40px;\" type=\"button\" value=\"sinh(\">\n",
      "      <i>\n",
      "       sinh\n",
      "      </i>\n",
      "     </button>\n",
      "     <button id=\"cosh\" onclick=\"func.value+=cosh.value\" style=\"width: 50px; height: 40px;\" type=\"button\" value=\"cosh(\">\n",
      "      <i>\n",
      "       cosh\n",
      "      </i>\n",
      "     </button>\n",
      "     <button id=\"tanh\" onclick=\"func.value+=tanh.value\" style=\"width: 50px; height: 40px;\" type=\"button\" value=\"tanh(\">\n",
      "      <i>\n",
      "       tanh\n",
      "      </i>\n",
      "     </button>\n",
      "     <br/>\n",
      "     <button id=\"num4\" onclick=\"func.value+=num4.value\" style=\"width: 40px; height: 40px;\" type=\"button\" value=\"4\">\n",
      "      4\n",
      "     </button>\n",
      "     <button id=\"num5\" onclick=\"func.value+=num5.value\" style=\"width: 40px; height: 40px;\" type=\"button\" value=\"5\">\n",
      "      5\n",
      "     </button>\n",
      "     <button id=\"num6\" onclick=\"func.value+=num6.value\" style=\"width: 40px; height: 40px;\" type=\"button\" value=\"6\">\n",
      "      6\n",
      "     </button>\n",
      "     <button id=\"multiplied\" onclick=\"func.value+=multiplied.value\" style=\"width: 40px; height: 40px;\" type=\"button\" value=\"*\">\n",
      "      ×\n",
      "     </button>\n",
      "     <button id=\"log10\" onclick=\"func.value+=log10.value\" style=\"width: 50px; height: 40px;\" type=\"button\" value=\"log10(\">\n",
      "      <i>\n",
      "       log\n",
      "       <sub>\n",
      "        10\n",
      "       </sub>\n",
      "      </i>\n",
      "     </button>\n",
      "     <button id=\"log\" onclick=\"func.value+=log.value\" style=\"width: 50px; height: 40px;\" type=\"button\" value=\"log(\">\n",
      "      <i>\n",
      "       log\n",
      "       <sub>\n",
      "        e\n",
      "       </sub>\n",
      "      </i>\n",
      "     </button>\n",
      "     <button id=\"log2\" onclick=\"func.value+=log2.value\" style=\"width: 50px; height: 40px;\" type=\"button\" value=\"log2(\">\n",
      "      <i>\n",
      "       log\n",
      "       <sub>\n",
      "        2\n",
      "       </sub>\n",
      "      </i>\n",
      "     </button>\n",
      "     <br/>\n",
      "     <button id=\"num1\" onclick=\"func.value+=num1.value\" style=\"width: 40px; height: 40px;\" type=\"button\" value=\"1\">\n",
      "      1\n",
      "     </button>\n",
      "     <button id=\"num2\" onclick=\"func.value+=num2.value\" style=\"width: 40px; height: 40px;\" type=\"button\" value=\"2\">\n",
      "      2\n",
      "     </button>\n",
      "     <button id=\"num3\" onclick=\"func.value+=num3.value\" style=\"width: 40px; height: 40px;\" type=\"button\" value=\"3\">\n",
      "      3\n",
      "     </button>\n",
      "     <button id=\"minus\" onclick=\"func.value+=minus.value\" style=\"width: 40px; height: 40px;\" type=\"button\" value=\"-\">\n",
      "      -\n",
      "     </button>\n",
      "     <button id=\"l_bkt\" onclick=\"func.value+=l_bkt.value\" style=\"width: 40px; height: 40px;\" type=\"button\" value=\"(\">\n",
      "      (\n",
      "     </button>\n",
      "     <button id=\"r_bkt\" onclick=\"func.value+=r_bkt.value\" style=\"width: 40px; height: 40px;\" type=\"button\" value=\")\">\n",
      "      )\n",
      "     </button>\n",
      "     <br/>\n",
      "     <button id=\"num0\" onclick=\"func.value+=num0.value\" style=\"width: 40px; height: 40px;\" type=\"button\" value=\"0\">\n",
      "      0\n",
      "     </button>\n",
      "     <button id=\"dot\" onclick=\"func.value+=dot.value\" style=\"width: 40px; height: 40px;\" type=\"button\" value=\".\">\n",
      "      .\n",
      "     </button>\n",
      "     <button id=\"cancel\" onclick=\"func.value=''\" style=\"width: 40px; height: 40px;\" type=\"button\">\n",
      "      c\n",
      "     </button>\n",
      "     <button id=\"plus\" onclick=\"func.value+=plus.value\" style=\"width: 40px; height: 40px;\" type=\"button\" value=\"+\">\n",
      "      +\n",
      "     </button>\n",
      "     <button id=\"index\" onclick=\"func.value+=index.value\" style=\"width: 40px; height: 40px;\" type=\"button\" value=\"^(\">\n",
      "      ^\n",
      "     </button>\n",
      "     <button id=\"x\" onclick=\"func.value+=x.value\" style=\"width: 40px; height: 40px;\" type=\"button\" value=\"x\">\n",
      "      <b>\n",
      "       <i>\n",
      "        x\n",
      "       </i>\n",
      "      </b>\n",
      "     </button>\n",
      "     <button id=\"pi\" onclick=\"func.value+=pi.value\" style=\"width: 40px; height: 40px;\" type=\"button\" value=\"π\">\n",
      "      <b>\n",
      "       <i>\n",
      "        π\n",
      "       </i>\n",
      "      </b>\n",
      "     </button>\n",
      "     <button id=\"exp\" onclick=\"func.value+=exp.value\" style=\"width: 40px; height: 40px;\" type=\"button\" value=\"e\">\n",
      "      <b>\n",
      "       <i>\n",
      "        e\n",
      "       </i>\n",
      "      </b>\n",
      "     </button>\n",
      "     <ul>\n",
      "      <li>\n",
      "       line-width\n",
      "       <sub>\n",
      "        (線寬)\n",
      "       </sub>\n",
      "       :\n",
      "       <input id=\"inlw\" max=\"10\" min=\"0.5\" name=\"lw\" oninput=\"outlw.value = inlw.value\" step=\"0.1\" type=\"range\" value=\"1.5\"/>\n",
      "       <output id=\"outlw\" name=\"ageOutputName\">\n",
      "        1.5\n",
      "       </output>\n",
      "      </li>\n",
      "      <li>\n",
      "       line-style\n",
      "       <sub>\n",
      "        (線條風格)\n",
      "       </sub>\n",
      "       :\n",
      "       <select class=\"\" name=\"ls\" style=\"width: 100px; height: 28px;\">\n",
      "        <option value=\"-\">\n",
      "         solid (實線)\n",
      "        </option>\n",
      "        <option value=\":\">\n",
      "         dotted (點線)\n",
      "        </option>\n",
      "        <option value=\"--\">\n",
      "         dashed (虛線)\n",
      "        </option>\n",
      "        <option value=\"-.\">\n",
      "         dashdot (點虛線)\n",
      "        </option>\n",
      "       </select>\n",
      "      </li>\n",
      "      <li>\n",
      "       line-color\n",
      "       <sub>\n",
      "        (顏色)\n",
      "       </sub>\n",
      "       :\n",
      "       <input name=\"c\" type=\"color\" value=\"#000000\"/>\n",
      "      </li>\n",
      "     </ul>\n",
      "    </div>\n",
      "    <div id=\"layout_setting\">\n",
      "     <h2>\n",
      "      layout setting\n",
      "     </h2>\n",
      "     <ul>\n",
      "      <li>\n",
      "       x-limit\n",
      "       <sub>\n",
      "        (x軸範圍)\n",
      "       </sub>\n",
      "       :\n",
      "       <input id=\"xmin\" name=\"xmin\" step=\"0.1\" style=\"width: 50px; height: 20px;\" type=\"number\" value=\"0\"/>\n",
      "       ~\n",
      "       <input id=\"xmax\" name=\"xmax\" step=\"0.1\" style=\"width: 50px; height: 20px;\" type=\"number\" value=\"10\"/>\n",
      "      </li>\n",
      "      <li>\n",
      "       y-limit\n",
      "       <sub>\n",
      "        (y軸範圍)\n",
      "       </sub>\n",
      "       :\n",
      "       <input id=\"ymin\" name=\"ymin\" placeholder=\"auto\" step=\"0.1\" style=\"width: 50px; height: 20px;\" type=\"number\" value=\"\"/>\n",
      "       ~\n",
      "       <input id=\"ymax\" name=\"ymax\" placeholder=\"auto\" step=\"0.1\" style=\"width: 50px; height: 20px;\" type=\"number\" value=\"\"/>\n",
      "       <sub>\n",
      "        <i>\n",
      "         (default: all range)\n",
      "        </i>\n",
      "       </sub>\n",
      "      </li>\n",
      "      <li>\n",
      "       fig-title\n",
      "       <sub>\n",
      "        (標題)\n",
      "       </sub>\n",
      "       :\n",
      "       <input name=\"title\" placeholder=\"$sin(x)$\" style=\"width: 100px; height: 20px;\" type=\"text\" value=\"\"/>\n",
      "       <sub>\n",
      "        Support\n",
      "        <i>\n",
      "         <pool href=\"http://web.ift.uib.no/Teori/KURS/WRK/TeX/symALL.html\">\n",
      "          LaTeX\n",
      "         </pool>\n",
      "        </i>\n",
      "        (頭尾打上$)\n",
      "       </sub>\n",
      "      </li>\n",
      "      <li>\n",
      "       x-label\n",
      "       <sub>\n",
      "        (x軸標誌)\n",
      "       </sub>\n",
      "       :\n",
      "       <input name=\"xlabel\" style=\"width: 100px; height: 20px;\" type=\"text\" value=\"\"/>\n",
      "      </li>\n",
      "      <li>\n",
      "       y-labal\n",
      "       <sub>\n",
      "        (y軸標誌)\n",
      "       </sub>\n",
      "       :\n",
      "       <input name=\"ylabel\" style=\"width: 100px; height: 20px;\" type=\"text\" value=\"\"/>\n",
      "      </li>\n",
      "      <li>\n",
      "       legend\n",
      "       <sub>\n",
      "        (圖示)\n",
      "       </sub>\n",
      "       :\n",
      "       <i>\n",
      "        off\n",
      "       </i>\n",
      "       <input max=\"1\" min=\"0\" name=\"legend\" style=\"width: 35px; height: 20px;\" type=\"range\" value=\"0\"/>\n",
      "       <i>\n",
      "        on\n",
      "       </i>\n",
      "      </li>\n",
      "      <li>\n",
      "       grid\n",
      "       <sub>\n",
      "        (格線)\n",
      "       </sub>\n",
      "       :\n",
      "       <i>\n",
      "        off\n",
      "       </i>\n",
      "       <input max=\"1\" min=\"0\" name=\"grid\" style=\"width: 35px; height: 20px;\" type=\"range\" value=\"1\"/>\n",
      "       <i>\n",
      "        on\n",
      "       </i>\n",
      "      </li>\n",
      "      <li>\n",
      "       box\n",
      "       <sub>\n",
      "        (外框)\n",
      "       </sub>\n",
      "       :\n",
      "       <i>\n",
      "        off\n",
      "       </i>\n",
      "       <input max=\"0\" min=\"-1\" name=\"box\" style=\"width: 35px; height: 20px;\" type=\"range\" value=\"0\"/>\n",
      "       <i>\n",
      "        on\n",
      "       </i>\n",
      "      </li>\n",
      "      <li>\n",
      "       Axis BG color\n",
      "       <sub>\n",
      "        (座標軸背景顏色)\n",
      "       </sub>\n",
      "       :\n",
      "       <input name=\"abgc\" type=\"color\" value=\"#ffffff\"/>\n",
      "      </li>\n",
      "      <li>\n",
      "       BG color\n",
      "       <sub>\n",
      "        (背景顏色)\n",
      "       </sub>\n",
      "       :\n",
      "       <input name=\"bgc\" type=\"color\" value=\"#ffffff\"/>\n",
      "      </li>\n",
      "      <li>\n",
      "       fig-height\n",
      "       <sub>\n",
      "        (輸出像素-高)\n",
      "       </sub>\n",
      "       :\n",
      "       <input id=\"inh\" max=\"7.2\" min=\"4.8\" name=\"h\" oninput=\"outh.value = inh.value\" step=\"0.1\" type=\"range\" value=\"4.8\"/>\n",
      "       <output id=\"outh\" name=\"ageOutputName\">\n",
      "        4.8\n",
      "       </output>\n",
      "       (x100px) (480~720px)\n",
      "      </li>\n",
      "      <li>\n",
      "       fig-width\n",
      "       <sub>\n",
      "        (輸出像素-寬)\n",
      "       </sub>\n",
      "       :\n",
      "       <input id=\"inw\" max=\"9.6\" min=\"6.4\" name=\"w\" oninput=\"outw.value = inw.value\" step=\"0.1\" type=\"range\" value=\"6.4\"/>\n",
      "       <output id=\"outw\" name=\"ageOutputName\">\n",
      "        6.4\n",
      "       </output>\n",
      "       (x100px) (640~960px)\n",
      "      </li>\n",
      "     </ul>\n",
      "     <p>\n",
      "      <button style=\"width: 100px; height: 40px;\" type=\"submit\">\n",
      "       <i>\n",
      "        <b>\n",
      "         Fig now\n",
      "        </b>\n",
      "       </i>\n",
      "      </button>\n",
      "      <button onclick=\"location.href='/func'\" style=\"width: 60px; height: 40px;\" type=\"button\">\n",
      "       <i>\n",
      "        <b>\n",
      "         reset\n",
      "        </b>\n",
      "       </i>\n",
      "      </button>\n",
      "     </p>\n",
      "     <p>\n",
      "      <sub>\n",
      "       <font color=\"#ff0000\">\n",
      "        note: in any input box use\n",
      "        <code>\n",
      "         \"Shift+Enter\"\n",
      "        </code>\n",
      "        to fig on pop-up window.\n",
      "        <font color=\"#ff00ff\">\n",
      "        </font>\n",
      "       </font>\n",
      "      </sub>\n",
      "     </p>\n",
      "    </div>\n",
      "   </form>\n",
      "  </div>\n",
      "  <div id=\"home\">\n",
      "   <pre>\n",
      "    </pre>\n",
      "   <h3>\n",
      "    <i>\n",
      "     <a href=\"/\">\n",
      "      Home\n",
      "     </a>\n",
      "    </i>\n",
      "   </h3>\n",
      "   <hr/>\n",
      "  </div>\n",
      "  <div id=\"footer\">\n",
      "   <p>\n",
      "    <img src=\"./static/image/matplotlib.svg\" width=\"600\"/>\n",
      "   </p>\n",
      "   <hr/>\n",
      "   <p>\n",
      "    <a href=\"https://www.buymeacoffee.com/sci2fig\" target=\"_blank\">\n",
      "     <img alt=\"Buy Me A Sandwich\" src=\"https://bmc-cdn.nyc3.digitaloceanspaces.com/BMC-button-images/custom_images/orange_img.png\" style=\"height: auto !important;width: auto !important;\"/>\n",
      "    </a>\n",
      "   </p>\n",
      "  </div>\n",
      " </body>\n",
      "</html>\n"
     ]
    }
   ],
   "source": [
    "print(soup.prettify())"
   ]
  },
  {
   "cell_type": "markdown",
   "metadata": {},
   "source": [
    "### [select() 功能詳解](https://ithelp.ithome.com.tw/articles/10204390)\n",
    "\n",
    "|||\n",
    "|:---|---:|\n",
    "|`.select('tag')` |普通標籤|\n",
    "|`.select('#id')` |id 有唯一性|\n",
    "|`.select('.class')` |搜尋class|\n",
    "|`.select('[attributes]')` |搜尋屬性|\n",
    "|組合搜尋||\n",
    "|`.select('a#id')` |Tag_a 中的 id ... 依此類推|\n",
    "|`.select('body a ')` |body( 空白 )a ... 依此類推|\n",
    "|`.select('xxx', 'yyy')` |多條件搜尋|"
   ]
  },
  {
   "cell_type": "code",
   "execution_count": 29,
   "metadata": {},
   "outputs": [
    {
     "data": {
      "text/plain": [
       "[<button id=\"num8\" onclick=\"func.value+=num8.value\" style=\"width: 40px; height: 40px;\" type=\"button\" value=\"8\">8</button>]"
      ]
     },
     "execution_count": 29,
     "metadata": {},
     "output_type": "execute_result"
    }
   ],
   "source": [
    "soup.select('#num8')"
   ]
  },
  {
   "cell_type": "code",
   "execution_count": 30,
   "metadata": {},
   "outputs": [
    {
     "data": {
      "text/plain": [
       "[<button id=\"num8\" onclick=\"func.value+=num8.value\" style=\"width: 40px; height: 40px;\" type=\"button\" value=\"8\">8</button>]"
      ]
     },
     "execution_count": 30,
     "metadata": {},
     "output_type": "execute_result"
    }
   ],
   "source": [
    "soup.select('button#num8')"
   ]
  },
  {
   "cell_type": "code",
   "execution_count": 31,
   "metadata": {},
   "outputs": [
    {
     "data": {
      "text/plain": [
       "<link href=\"./static/image/fig.png\" rel=\"icon\" type=\"image/png\"/>"
      ]
     },
     "execution_count": 31,
     "metadata": {},
     "output_type": "execute_result"
    }
   ],
   "source": [
    "soup.select('[href]')[0]"
   ]
  },
  {
   "cell_type": "code",
   "execution_count": 32,
   "metadata": {},
   "outputs": [
    {
     "data": {
      "text/plain": [
       "[<a href=\"/\">Home</a>]"
      ]
     },
     "execution_count": 32,
     "metadata": {},
     "output_type": "execute_result"
    }
   ],
   "source": [
    "soup.select('[href=\"/\"]')"
   ]
  },
  {
   "cell_type": "code",
   "execution_count": 33,
   "metadata": {},
   "outputs": [
    {
     "data": {
      "text/plain": [
       "[<input name=\"c\" type=\"color\" value=\"#000000\"/>]"
      ]
     },
     "execution_count": 33,
     "metadata": {},
     "output_type": "execute_result"
    }
   ],
   "source": [
    "soup.select('body div#content input[name=\"c\"]')"
   ]
  },
  {
   "cell_type": "code",
   "execution_count": 34,
   "metadata": {},
   "outputs": [
    {
     "data": {
      "text/plain": [
       "[<a href=\"/\">Home</a>]"
      ]
     },
     "execution_count": 34,
     "metadata": {},
     "output_type": "execute_result"
    }
   ],
   "source": [
    "soup.select('body a[href=\"/\"]')"
   ]
  },
  {
   "cell_type": "markdown",
   "metadata": {},
   "source": [
    "### text屬性獲取網頁的文本\n",
    "* 屬性 `.text`\n",
    "* 函式 `.get_text()`"
   ]
  },
  {
   "cell_type": "code",
   "execution_count": 35,
   "metadata": {},
   "outputs": [
    {
     "data": {
      "text/plain": [
       "True"
      ]
     },
     "execution_count": 35,
     "metadata": {},
     "output_type": "execute_result"
    }
   ],
   "source": [
    "soup.text == soup.get_text()"
   ]
  },
  {
   "cell_type": "markdown",
   "metadata": {},
   "source": [
    "## 遇到按鈕(POST)\n",
    "\n",
    "* [八卦板](https://www.ptt.cc/bbs/Gossiping/index.html)\n",
    "* 方法1 假裝使用者按下Over18 按鈕, 並用requests.Session() 保留伺服器回傳的Cookies\n",
    "* 方法2 假裝是按過按鈕的使用者帶上Cooklies\n",
    "    * 觀察已經按鈕的Cookeies (Chrome F12 -> Application -> Cooklies)\n",
    "    * 在 Request Headers (Chrome F12 -> Network)放入需要的Cookles\n",
    "  \n",
    "![Cookies](./Cookies.png)\n",
    "![header](./rq_header.png)"
   ]
  },
  {
   "cell_type": "markdown",
   "metadata": {},
   "source": [
    "### WAY 1"
   ]
  },
  {
   "cell_type": "code",
   "execution_count": 36,
   "metadata": {},
   "outputs": [
    {
     "name": "stdout",
     "output_type": "stream",
     "text": [
      "request     : <PreparedRequest [GET]>\n",
      "url         : https://www.ptt.cc/ask/over18?from=%2Fbbs%2FGossiping%2Findex.html\n",
      "status_code : 200\n",
      "reason      : OK\n",
      "ok?         : True\n",
      "encoding    : utf-8 \n",
      "\n",
      "被轉到了確認18禁頁面:\n",
      " https://www.ptt.cc/ask/over18?from=%2Fbbs%2FGossiping%2Findex.html\n"
     ]
    }
   ],
   "source": [
    "url = 'https://www.ptt.cc/bbs/Gossiping/index.html'\n",
    "r = requests.get(url)\n",
    "print_requests(r)\n",
    "\n",
    "print('被轉到了確認18禁頁面:\\n', r.url)\n",
    "url2 = r.url"
   ]
  },
  {
   "cell_type": "markdown",
   "metadata": {},
   "source": [
    "### 尋找原始碼中的form 確定我們要送出的資料\n",
    "\n",
    "* `<form>` 中 有一個隱藏input 和兩個上傳button\n",
    "\n",
    "* `<input>` \n",
    "    * name=\"from\"\n",
    "    * value=\"/bbs/Gossiping/index.html\"\n",
    "* `<button>`\n",
    "    * name=\"yes\"\n",
    "    * value=\"yes\""
   ]
  },
  {
   "cell_type": "code",
   "execution_count": 37,
   "metadata": {},
   "outputs": [
    {
     "data": {
      "text/plain": [
       "[<form action=\"/ask/over18\" method=\"post\">\n",
       " <input name=\"from\" type=\"hidden\" value=\"/bbs/Gossiping/index.html\"/>\n",
       " <div class=\"over18-button-container\">\n",
       " <button class=\"btn-big\" name=\"yes\" type=\"submit\" value=\"yes\">我同意，我已年滿十八歲<br/><small>進入</small></button>\n",
       " </div>\n",
       " <div class=\"over18-button-container\">\n",
       " <button class=\"btn-big\" name=\"no\" type=\"submit\" value=\"no\">未滿十八歲或不同意本條款<br/><small>離開</small></button>\n",
       " </div>\n",
       " </form>]"
      ]
     },
     "execution_count": 37,
     "metadata": {},
     "output_type": "execute_result"
    }
   ],
   "source": [
    "soup = BeautifulSoup(r.text, 'html.parser')\n",
    "soup.select('form')"
   ]
  },
  {
   "cell_type": "markdown",
   "metadata": {},
   "source": [
    "### `requests.Session()` 可以儲存本身cookie"
   ]
  },
  {
   "cell_type": "code",
   "execution_count": 38,
   "metadata": {},
   "outputs": [],
   "source": [
    "r = requests.Session()\n",
    "payload ={\"from\":\"/bbs/Gossiping/index.html\", \n",
    "          \"yes\":\"yes\"}\n",
    "\n",
    "r.post(url2, data=payload) # 按按鈕的動作 保留Cookies\n",
    "r2 = r.get(url)"
   ]
  },
  {
   "cell_type": "markdown",
   "metadata": {},
   "source": [
    "### 順利進入需要十八禁的八卦板"
   ]
  },
  {
   "cell_type": "code",
   "execution_count": 39,
   "metadata": {
    "scrolled": true
   },
   "outputs": [
    {
     "name": "stdout",
     "output_type": "stream",
     "text": [
      "批踢踢實業坊\n",
      "看板 Gossiping\n",
      "關於我們\n",
      "聯絡資訊\n",
      "看板\n",
      "精華區\n",
      "最舊\n",
      "‹ 上頁\n",
      "下頁 ›\n",
      "最新\n",
      "[問卦] 蜂蜜水會壞嗎？\n",
      "搜尋同標題文章\n",
      "搜尋看板內 Axwell 的文章\n",
      "[爆卦] 疾管署開記者會了!!武漢肺炎\n",
      "搜尋同標題文章\n",
      "搜尋看板內 sober716 的文章\n",
      "[問卦] 武漢起疫，中華民國能守多久？\n",
      "搜尋同標題文章\n",
      "搜尋看板內 xxxcv 的文章\n",
      "[問卦] 還有誰說要發雞排到現在還沒發的？\n",
      "搜尋同標題文章\n",
      "搜尋看板內 opemhood 的文章\n",
      "Re: [新聞] 移送統促黨被否決 時力主席嗆民進黨：芒\n",
      "搜尋同標題文章\n",
      "搜尋看板內 simonjen 的文章\n",
      "[新聞] 潤寅詐貸386億 楊文虎在美被逮下午遣返回\n",
      "搜尋同標題文章\n",
      "搜尋看板內 yuee 的文章\n",
      "[新聞] 楊蕙如網軍戰術曝光：嘴砲後有記者會抄\n",
      "搜尋同標題文章\n",
      "搜尋看板內 Aliensoul 的文章\n",
      "[新聞] 工程師買新房 邀女友人參觀竟獸性大發強\n",
      "搜尋同標題文章\n",
      "搜尋看板內 LIN9 的文章\n",
      "[問卦] 再啦幹 是誰？\n",
      "搜尋同標題文章\n",
      "搜尋看板內 bebehome 的文章\n",
      "[問卦] VR設備買那一款才不會後悔？\n",
      "搜尋同標題文章\n",
      "搜尋看板內 ben28 的文章\n",
      "[問卦] 瘟疫公司地圖上沒有台灣???\n",
      "搜尋同標題文章\n",
      "搜尋看板內 TS28 的文章\n",
      "[問卦] 現在發正念還得及嗎\n",
      "搜尋同標題文章\n",
      "搜尋看板內 poeta 的文章\n",
      "[問卦] 武漢肺炎和香港反送中被捕人數誰快？\n",
      "搜尋同標題文章\n",
      "搜尋看板內 yayaya5566 的文章\n",
      "[問卦] 唉！喜歡一個人，真的藏不住！\n",
      "搜尋同標題文章\n",
      "搜尋看板內 Kyle5566 的文章\n",
      "[問卦] 吃果子 要懂得 拜樹頭 \n",
      "搜尋同標題文章\n",
      "搜尋看板內 j955369 的文章\n",
      "Re: [問卦] 是不是有新芒果乾了？\n",
      "搜尋同標題文章\n",
      "搜尋看板內 monkey0817 的文章\n",
      "[公告] 八卦板板規(2019.08.21)\n",
      "搜尋同標題文章\n",
      "搜尋看板內 arsonlolita 的文章\n",
      "[公告] 赤鴻飛羽，一月份置底閒聊文\n",
      "搜尋同標題文章\n",
      "搜尋看板內 Bignana 的文章\n",
      "[協尋] 高雄左營區 行車記錄器 \n",
      "搜尋同標題文章\n",
      "搜尋看板內 arsonlolita 的文章\n",
      "[協尋] 台灣大道 民權路口車禍\n",
      "搜尋同標題文章\n",
      "搜尋看板內 bonnie890319 的文章\n",
      "[協尋］1/18早上8:40承德路六段車禍\n",
      "搜尋同標題文章\n",
      "搜尋看板內 ppups0215 的文章\n"
     ]
    }
   ],
   "source": [
    "soup = BeautifulSoup(r2.text, 'html.parser')\n",
    "for a in soup.find_all('a'):\n",
    "    print(a.get_text())"
   ]
  },
  {
   "cell_type": "markdown",
   "metadata": {},
   "source": [
    "### WAY 2"
   ]
  },
  {
   "cell_type": "code",
   "execution_count": 40,
   "metadata": {},
   "outputs": [
    {
     "name": "stdout",
     "output_type": "stream",
     "text": [
      "request     : <PreparedRequest [GET]>\n",
      "url         : https://www.ptt.cc/bbs/Gossiping/index.html\n",
      "status_code : 200\n",
      "reason      : OK\n",
      "ok?         : True\n",
      "encoding    : utf-8 \n",
      "\n"
     ]
    }
   ],
   "source": [
    "url = 'https://www.ptt.cc/bbs/Gossiping/index.html'\n",
    "headers = {'user-agent':'Mozilla/5.0 (X11; Linux x86_64)', \n",
    "          'cookie':'over18=1'} # 放入Over18\n",
    "r = requests.get(url, headers=headers)\n",
    "print_requests(r)"
   ]
  },
  {
   "cell_type": "code",
   "execution_count": 41,
   "metadata": {
    "scrolled": true
   },
   "outputs": [
    {
     "name": "stdout",
     "output_type": "stream",
     "text": [
      "批踢踢實業坊\n",
      "看板 Gossiping\n",
      "關於我們\n",
      "聯絡資訊\n",
      "看板\n",
      "精華區\n",
      "最舊\n",
      "‹ 上頁\n",
      "下頁 ›\n",
      "最新\n",
      "[問卦] 蜂蜜水會壞嗎？\n",
      "搜尋同標題文章\n",
      "搜尋看板內 Axwell 的文章\n",
      "[爆卦] 疾管署開記者會了!!武漢肺炎\n",
      "搜尋同標題文章\n",
      "搜尋看板內 sober716 的文章\n",
      "[問卦] 武漢起疫，中華民國能守多久？\n",
      "搜尋同標題文章\n",
      "搜尋看板內 xxxcv 的文章\n",
      "[問卦] 還有誰說要發雞排到現在還沒發的？\n",
      "搜尋同標題文章\n",
      "搜尋看板內 opemhood 的文章\n",
      "Re: [新聞] 移送統促黨被否決 時力主席嗆民進黨：芒\n",
      "搜尋同標題文章\n",
      "搜尋看板內 simonjen 的文章\n",
      "[新聞] 潤寅詐貸386億 楊文虎在美被逮下午遣返回\n",
      "搜尋同標題文章\n",
      "搜尋看板內 yuee 的文章\n",
      "[新聞] 楊蕙如網軍戰術曝光：嘴砲後有記者會抄\n",
      "搜尋同標題文章\n",
      "搜尋看板內 Aliensoul 的文章\n",
      "[新聞] 工程師買新房 邀女友人參觀竟獸性大發強\n",
      "搜尋同標題文章\n",
      "搜尋看板內 LIN9 的文章\n",
      "[問卦] 再啦幹 是誰？\n",
      "搜尋同標題文章\n",
      "搜尋看板內 bebehome 的文章\n",
      "[問卦] VR設備買那一款才不會後悔？\n",
      "搜尋同標題文章\n",
      "搜尋看板內 ben28 的文章\n",
      "[問卦] 瘟疫公司地圖上沒有台灣???\n",
      "搜尋同標題文章\n",
      "搜尋看板內 TS28 的文章\n",
      "[問卦] 現在發正念還得及嗎\n",
      "搜尋同標題文章\n",
      "搜尋看板內 poeta 的文章\n",
      "[問卦] 武漢肺炎和香港反送中被捕人數誰快？\n",
      "搜尋同標題文章\n",
      "搜尋看板內 yayaya5566 的文章\n",
      "[問卦] 唉！喜歡一個人，真的藏不住！\n",
      "搜尋同標題文章\n",
      "搜尋看板內 Kyle5566 的文章\n",
      "[問卦] 吃果子 要懂得 拜樹頭 \n",
      "搜尋同標題文章\n",
      "搜尋看板內 j955369 的文章\n",
      "Re: [問卦] 是不是有新芒果乾了？\n",
      "搜尋同標題文章\n",
      "搜尋看板內 monkey0817 的文章\n",
      "[公告] 八卦板板規(2019.08.21)\n",
      "搜尋同標題文章\n",
      "搜尋看板內 arsonlolita 的文章\n",
      "[公告] 赤鴻飛羽，一月份置底閒聊文\n",
      "搜尋同標題文章\n",
      "搜尋看板內 Bignana 的文章\n",
      "[協尋] 高雄左營區 行車記錄器 \n",
      "搜尋同標題文章\n",
      "搜尋看板內 arsonlolita 的文章\n",
      "[協尋] 台灣大道 民權路口車禍\n",
      "搜尋同標題文章\n",
      "搜尋看板內 bonnie890319 的文章\n",
      "[協尋］1/18早上8:40承德路六段車禍\n",
      "搜尋同標題文章\n",
      "搜尋看板內 ppups0215 的文章\n"
     ]
    }
   ],
   "source": [
    "soup = BeautifulSoup(r.text, 'html.parser')\n",
    "for a in soup.find_all('a'):\n",
    "    print(a.get_text())"
   ]
  },
  {
   "cell_type": "markdown",
   "metadata": {},
   "source": [
    "## 爬蟲 圖片篇"
   ]
  },
  {
   "cell_type": "code",
   "execution_count": 42,
   "metadata": {},
   "outputs": [
    {
     "name": "stdout",
     "output_type": "stream",
     "text": [
      "request     : <PreparedRequest [GET]>\n",
      "url         : https://sci2fig.herokuapp.com/fourier\n",
      "status_code : 200\n",
      "reason      : OK\n",
      "ok?         : True\n",
      "encoding    : utf-8 \n",
      "\n"
     ]
    }
   ],
   "source": [
    "url = 'https://sci2fig.herokuapp.com/fourier'\n",
    "r = requests.get(url, timeout=3)\n",
    "soup = BeautifulSoup(r.text)\n",
    "\n",
    "print_requests(r)"
   ]
  },
  {
   "cell_type": "code",
   "execution_count": 43,
   "metadata": {
    "scrolled": true
   },
   "outputs": [
    {
     "name": "stdout",
     "output_type": "stream",
     "text": [
      "<!DOCTYPE html>\n",
      "<html dir=\"ltr\" lang=\"\">\n",
      " <head>\n",
      "  <title>\n",
      "   Fourier Transform\n",
      "  </title>\n",
      "  <link href=\"./static/image/fig.png\" rel=\"icon\" type=\"image/png\"/>\n",
      " </head>\n",
      " <body bgcolor=\"#a3c6e9\">\n",
      "  <div id=\"content\">\n",
      "   <h1>\n",
      "    <i>\n",
      "     Image Fourier Transform\n",
      "    </i>\n",
      "   </h1>\n",
      "   <!--form 屬性 enctype=\"multipart/form-data\" 才能上傳 -->\n",
      "   <form action=\"/fourier\" enctype=\"multipart/form-data\" method=\"post\">\n",
      "    <input name=\"fourier\" type=\"file\"/>\n",
      "    (filesize &lt; 4MB, file-formats: .bmp .gif .jpg .jpeg .png)\n",
      "    <p>\n",
      "    </p>\n",
      "    <button style=\"width: 100px; height: 40px;\" type=\"submit\">\n",
      "     Upload\n",
      "    </button>\n",
      "   </form>\n",
      "   <hr/>\n",
      "   <img src=\"./static/image/fourier1.jpg\" width=\"1000\"/>\n",
      "   <br/>\n",
      "   <img src=\"./static/image/fourier2.jpg\" width=\"1000\"/>\n",
      "   <br/>\n",
      "   <img src=\"./static/image/fourier3.jpg\" width=\"498\"/>\n",
      "   <img src=\"./static/image/fourier4.jpg\" width=\"498\"/>\n",
      "   <br/>\n",
      "   <img src=\"./static/image/sandwich.jpeg\" width=\"1000\"/>\n",
      "   <br/>\n",
      "  </div>\n",
      "  <div id=\"home\">\n",
      "   <pre>\n",
      "    </pre>\n",
      "   <h3>\n",
      "    <i>\n",
      "     <a href=\"/\">\n",
      "      Home\n",
      "     </a>\n",
      "    </i>\n",
      "   </h3>\n",
      "   <hr/>\n",
      "  </div>\n",
      "  <div id=\"footer\">\n",
      "   <p>\n",
      "    <img src=\"./static/image/matplotlib.svg\" width=\"600\"/>\n",
      "   </p>\n",
      "   <hr/>\n",
      "   <p>\n",
      "    <a href=\"https://www.buymeacoffee.com/sci2fig\" target=\"_blank\">\n",
      "     <img alt=\"Buy Me A Sandwich\" src=\"https://bmc-cdn.nyc3.digitaloceanspaces.com/BMC-button-images/custom_images/orange_img.png\" style=\"height: auto !important;width: auto !important;\"/>\n",
      "    </a>\n",
      "   </p>\n",
      "  </div>\n",
      " </body>\n",
      "</html>\n"
     ]
    }
   ],
   "source": [
    "print(soup.prettify())"
   ]
  },
  {
   "cell_type": "markdown",
   "metadata": {},
   "source": [
    "### 搜尋圖片Tag_name:  `img`\n",
    "\n",
    "* Tag `img` 中 \"src\" 為網址\n",
    "* 可以觀察到, 網址有公開網址(http開頭), 和伺服器路徑(~/zzz/xxx.png)\n",
    "* 伺服器路徑 必須加上原始網址 `https:xxxxxx.com`"
   ]
  },
  {
   "cell_type": "code",
   "execution_count": 44,
   "metadata": {},
   "outputs": [
    {
     "name": "stdout",
     "output_type": "stream",
     "text": [
      "./static/image/fourier1.jpg\n",
      "./static/image/fourier2.jpg\n",
      "./static/image/fourier3.jpg\n",
      "./static/image/fourier4.jpg\n",
      "./static/image/sandwich.jpeg\n",
      "./static/image/matplotlib.svg\n",
      "https://bmc-cdn.nyc3.digitaloceanspaces.com/BMC-button-images/custom_images/orange_img.png\n"
     ]
    }
   ],
   "source": [
    "for tag in soup.find_all('img'):\n",
    "    print(tag['src'])"
   ]
  },
  {
   "cell_type": "markdown",
   "metadata": {},
   "source": [
    "### 獲得所有原始圖片網址"
   ]
  },
  {
   "cell_type": "code",
   "execution_count": 45,
   "metadata": {},
   "outputs": [
    {
     "name": "stdout",
     "output_type": "stream",
     "text": [
      "server_url:  https://sci2fig.herokuapp.com \n",
      "\n",
      "https://sci2fig.herokuapp.com/static/image/fourier1.jpg\n",
      "https://sci2fig.herokuapp.com/static/image/fourier2.jpg\n",
      "https://sci2fig.herokuapp.com/static/image/fourier3.jpg\n",
      "https://sci2fig.herokuapp.com/static/image/fourier4.jpg\n",
      "https://sci2fig.herokuapp.com/static/image/sandwich.jpeg\n",
      "https://sci2fig.herokuapp.com/static/image/matplotlib.svg\n",
      "https://bmc-cdn.nyc3.digitaloceanspaces.com/BMC-button-images/custom_images/orange_img.png\n"
     ]
    }
   ],
   "source": [
    "server_url = r.url[:r.url.find('.com') + 4] \n",
    "print('server_url: ', server_url, '\\n')\n",
    "for tag in soup.find_all('img'):\n",
    "    img_url = tag['src']\n",
    "    if not img_url.lower().startswith(\"http\"): # 檢查開頭 並組合\n",
    "        img_url = server_url + img_url[img_url.find('/'):]\n",
    "    \n",
    "    print(img_url)\n",
    "    "
   ]
  },
  {
   "cell_type": "markdown",
   "metadata": {},
   "source": [
    "### 假設抓取第一張 取得他的原始網址 需要打開二進位檔案\n",
    "\n",
    "* `requests.get(img_url).content` 讀取二進位網路資料\n",
    "* 寫入二進位檔案"
   ]
  },
  {
   "cell_type": "code",
   "execution_count": 46,
   "metadata": {},
   "outputs": [],
   "source": [
    "img_url = 'https://sci2fig.herokuapp.com/static/image/fourier1.jpg'\n",
    "img = requests.get(img_url).content\n",
    "\n",
    "f_name = img_url.split('/')[-1]\n",
    "\n",
    "# with open(f_name, 'wb') as file:\n",
    "#     file.write(img)"
   ]
  }
 ],
 "metadata": {
  "kernelspec": {
   "display_name": "Python 3",
   "language": "python",
   "name": "python3"
  },
  "language_info": {
   "codemirror_mode": {
    "name": "ipython",
    "version": 3
   },
   "file_extension": ".py",
   "mimetype": "text/x-python",
   "name": "python",
   "nbconvert_exporter": "python",
   "pygments_lexer": "ipython3",
   "version": "3.7.3"
  }
 },
 "nbformat": 4,
 "nbformat_minor": 2
}
