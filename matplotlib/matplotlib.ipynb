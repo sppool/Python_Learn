{
 "cells": [
  {
   "cell_type": "markdown",
   "metadata": {},
   "source": [
    "# [*matplotlib*](https://matplotlib.org/)\n",
    "\n",
    "#### [*顯示中文詳解(包含字型設置)*](https://medium.com/marketingdatascience/%E8%A7%A3%E6%B1%BApython-3-matplotlib%E8%88%87seaborn%E8%A6%96%E8%A6%BA%E5%8C%96%E5%A5%97%E4%BB%B6%E4%B8%AD%E6%96%87%E9%A1%AF%E7%A4%BA%E5%95%8F%E9%A1%8C-f7b3773a889b) : 放入字體(也能使用.local中的字型設定),  刪除快取.cache/matplotlib即可！"
   ]
  },
  {
   "cell_type": "code",
   "execution_count": 1,
   "metadata": {},
   "outputs": [],
   "source": [
    "import numpy as np\n",
    "import pandas as pd\n",
    "import matplotlib\n",
    "import matplotlib.pyplot as plt\n",
    "# plt.rcParams['font.sans-serif'] = ['Noto Serif CJK TC'] # 中文輸出(思源宋體)\n",
    "# plt.rcParams['font.sans-serif'] = ['Noto Sans CJK TC'] # 中文輸出(思源黑體)\n",
    "# plt.rcParams['font.sans-serif'] = ['Taipei Sans TC Beta'] # 中文輸出(台北黑體)\n",
    "plt.rcParams['font.sans-serif'] = ['Gen Jyuu Gothic P'] # 中文輸出(源柔黑體)\n",
    "%matplotlib inline"
   ]
  },
  {
   "cell_type": "markdown",
   "metadata": {},
   "source": [
    "### 版本資訊："
   ]
  },
  {
   "cell_type": "code",
   "execution_count": 2,
   "metadata": {},
   "outputs": [
    {
     "data": {
      "text/plain": [
       "'3.1.2'"
      ]
     },
     "execution_count": 2,
     "metadata": {},
     "output_type": "execute_result"
    }
   ],
   "source": [
    "matplotlib.__version__"
   ]
  },
  {
   "cell_type": "markdown",
   "metadata": {},
   "source": [
    "### 2D Plot Parts:\n",
    ">![](./figparts.webp)"
   ]
  },
  {
   "cell_type": "markdown",
   "metadata": {},
   "source": [
    "### [_matplotlib.pyplot 圖形類別_](https://matplotlib.org/api/pyplot_summary.html)\n",
    "\n",
    "> | type                                                                                     | parameters                                   |                                                                                                     |\n",
    "> | ---------------------------------------------------------------------------------------- | -------------------------------------------- | --------------------------------------------------------------------------------------------------- |\n",
    "> | [plot](https://matplotlib.org/api/_as_gen/matplotlib.pyplot.plot.html)                   | (x, y)                                       | 連線圖                                                                                                 |\n",
    "> | [scatter](https://matplotlib.org/api/_as_gen/matplotlib.pyplot.scatter.html)             | (x, y, s, c)                                 | 散布圖(點)                                                                                              |\n",
    "> | [polar](https://matplotlib.org/api/_as_gen/matplotlib.pyplot.polar.html)                 | (θ, r)                                       | 極座標([設定相關](https://matplotlib.org/gallery/pie_and_polar_charts/polar_scatter.html?highlight=polar)) |\n",
    "> | [hist](https://matplotlib.org/api/_as_gen/matplotlib.pyplot.hist.html)                   | (x, bins(num), range(x-min, x-max))          | 直方圖                                                                                                 |\n",
    "> | [hist2d](https://matplotlib.org/api/_as_gen/matplotlib.pyplot.hist2d.html)               | (x, y, bins(shape(1, 1)), range(shape(2, 2)) | 二元直方圖                                                                                               |\n",
    "> | [hexbin](https://matplotlib.org/api/_as_gen/matplotlib.pyplot.hexbin.html)               | (x, y, gridsize)                             | 六角直方圖                                                                                               |\n",
    "> | [bar](https://matplotlib.org/api/_as_gen/matplotlib.pyplot.bar.html)                     | (x, height, width, bottom, align)            | 垂直長條圖                                                                                               |\n",
    "> | [barh](https://matplotlib.org/api/_as_gen/matplotlib.pyplot.barh.html)                   | (y, width, height, left, align)              | 水平長條圖                                                                                               |\n",
    "> | [pie](https://matplotlib.org/api/_as_gen/matplotlib.pyplot.pie.html)                     | (x, explode(偏移), labels, autopct(比例標籤))      | 餅圖                                                                                                  |\n",
    "> | [step](https://matplotlib.org/api/_as_gen/matplotlib.pyplot.step.html)                   | (x, y, where('pre', 'post', 'mid'))          | 階梯圖                                                                                                 |\n",
    "> | [stem](https://matplotlib.org/3.1.1/api/_as_gen/matplotlib.pyplot.stem.html)             | (x, y)                                       | 樹幹圖                                                                                                 |\n",
    "> | [contour](https://matplotlib.org/api/_as_gen/matplotlib.pyplot.contour.html)             | (X,Y,Z), X.Y網格, Z高度                          | 等高線圖                                                                                                |\n",
    "> | [contourf](https://matplotlib.org/api/_as_gen/matplotlib.pyplot.contourf.html)           | (X,Y,Z), X.Y網格, Z高度                          | 等高線圖                                                                                                |\n",
    "> | [imshow](https://matplotlib.org/api/_as_gen/matplotlib.pyplot.imshow.html)               | (X,Y,Z), X.Y網格, Z高度                          | 等高線圖                                                                                                |\n",
    "> | [clabel](https://matplotlib.org/api/_as_gen/matplotlib.pyplot.clabel.html)               | (cs, levels, fontsize, color)                | 標記等高線(需要配合等高線圖)                                                                                     |\n",
    "> | [streamplot](https://matplotlib.org/3.1.1/api/_as_gen/matplotlib.pyplot.streamplot.html) | (x, y, u, v, density)                        | 畫製向量圖                                                                                               |\n",
    "> | [boxplot](https://matplotlib.org/api/_as_gen/matplotlib.pyplot.boxplot.html)             | (x, )                                        | [箱型圖](https://zh.wikipedia.org/wiki/%E7%AE%B1%E5%BD%A2%E5%9C%96)                                    |\n",
    "> | [violinplot](https://matplotlib.org/api/_as_gen/matplotlib.pyplot.violinplot.html)       | ()                                           | [小提琴圖](https://en.wikipedia.org/wiki/Violin_plot)                                                   |\n",
    ">\n",
    "> | [type (繪製2D data)](https://matplotlib.org/3.1.1/gallery/images_contours_and_fields/pcolor_demo.html) | parameters            |         |\n",
    "> | ---------------------------------------------------------------------------------------------------- | --------------------- | ------- |\n",
    "> | [pcolor](https://matplotlib.org/3.1.1/api/_as_gen/matplotlib.pyplot.pcolor.html)                     | (C(array), (X, Y 座標)) | array畫圖 |\n",
    "> | [pcolormesh](https://matplotlib.org/3.1.1/api/_as_gen/matplotlib.pyplot.pcolormesh.html)             | (C(array), (X, Y 座標)) | array畫圖 |\n",
    "> | [imshow](https://matplotlib.org/3.1.1/api/_as_gen/matplotlib.pyplot.imshow.html)                     | (X(array), cmap)      | 圖片      |\n"
   ]
  },
  {
   "cell_type": "markdown",
   "metadata": {},
   "source": [
    "### [_matplotlib.pyplot.func_](https://matplotlib.org/api/pyplot_summary.html)\n",
    "\n",
    "> | func                                                                                                | parameters                                                                                        | description       |\n",
    "> | --------------------------------------------------------------------------------------------------- | ------------------------------------------------------------------------------------------------- | ----------------- |\n",
    "> | _內建畫圖_                                                                                              | ---                                                                                               | ---               |\n",
    "> | [hlines](https://matplotlib.org/api/_as_gen/matplotlib.pyplot.hlines.html)                          | (y, x-min, x-max)                                                                                 | 繪製一條水平線           |\n",
    "> | [vlines](https://matplotlib.org/api/_as_gen/matplotlib.pyplot.vlines.html)                          | (x, y-min, y-max)                                                                                 | 繪製一條垂直線           |\n",
    "> | [axhline](https://matplotlib.org/api/_as_gen/matplotlib.pyplot.axhline.html)                        | (y, left(%), right(%))                                                                            | 繪製一條水平線           |\n",
    "> | [axvline](https://matplotlib.org/api/_as_gen/matplotlib.pyplot.axvline.html)                        | (x, bottom(%), top(%))                                                                            | 繪製一條垂直線           |\n",
    "> | [axhspan](https://matplotlib.org/api/_as_gen/matplotlib.pyplot.axhspan.html)                        | (y-min, y-max, left(%), right(%))                                                                 | 填滿一個矩形            |\n",
    "> | [axvspan](https://matplotlib.org/api/_as_gen/matplotlib.pyplot.axvspan.html)                        | (x-min, x-max, bottom(%), top(%))                                                                 | 填滿一個矩形            |\n",
    "> | [fill_between](https://matplotlib.org/api/_as_gen/matplotlib.pyplot.fill_between.html)              | (x, y1, y2)                                                                                       | 填滿兩個y(x)中的空間      |\n",
    "> | [fill_betweenx](https://matplotlib.org/api/_as_gen/matplotlib.pyplot.fill_betweenx.html)            | (y, x1, x2)                                                                                       | 填滿兩個x(y)中的空間      |\n",
    "> | [arrow](https://matplotlib.org/api/_as_gen/matplotlib.pyplot.arrow.html#matplotlib.pyplot.arrow)    | (x, y, dx, dy)                                                                                    | 在座標上畫箭頭           |\n",
    "> | [text](https://matplotlib.org/api/_as_gen/matplotlib.pyplot.text.html#matplotlib.pyplot.text)       | (x, y, str, fontdict)                                                                             | 在座標上寫字            |\n",
    "> | [figtext](https://matplotlib.org/api/_as_gen/matplotlib.pyplot.figtext.html)                        | (x(%), y(%), s(str), fontdict)                                                                    | 比例座標上寫字           |\n",
    "> | _標題_                                                                                                | ---                                                                                               | ---               |\n",
    "> | [title](https://matplotlib.org/api/_as_gen/matplotlib.pyplot.title.html#matplotlib.pyplot.title)    | (label, fontdict, loc)                                                                            | 圖片標題, loc:標題位置左中右 |\n",
    "> | [xlabel](https://matplotlib.org/api/_as_gen/matplotlib.pyplot.xlabel.html#matplotlib.pyplot.xlabel) | (label, rotation=0, fontdict)                                                                     | x 標題              |\n",
    "> | [ylabel](https://matplotlib.org/api/_as_gen/matplotlib.pyplot.ylabel.html#matplotlib.pyplot.ylabel) | (label, rotation=90, fontdict)                                                                    | y 標題              |\n",
    "> | _範圍設置_                                                                                              | ---                                                                                               | ---               |\n",
    "> | [xlim](https://matplotlib.org/api/_as_gen/matplotlib.pyplot.xlim.html#matplotlib.pyplot.xlim)       | (x-min, x-max)                                                                                    | x 極限              |\n",
    "> | [ylim](https://matplotlib.org/api/_as_gen/matplotlib.pyplot.ylim.html#matplotlib.pyplot.ylim)       | (y-min, y-max)                                                                                    | y 極限              |\n",
    "> | [axis](https://matplotlib.org/api/_as_gen/matplotlib.pyplot.axis.html#matplotlib.pyplot.axis)       | (x-min, x-max, y-min, y-max)                                                                      | 圖面範圍極限(與上功能重疊)    |\n",
    "> | [xtick](https://matplotlib.org/api/_as_gen/matplotlib.pyplot.xticks.html#matplotlib.pyplot.xticks)  | (array(int), array(str), fontdict)                                                                | x 刻度, 自訂刻度文字(str) |\n",
    "> | [ytick](https://matplotlib.org/api/_as_gen/matplotlib.pyplot.yticks.html#matplotlib.pyplot.yticks)  | (array(int), array(str), fontdict)                                                                | y 刻度, 自訂刻度文字(str) |\n",
    "> | _軸設定&格線設定_                                                                                          | ---                                                                                               | ---               |\n",
    "> | [twinx](https://matplotlib.org/api/_as_gen/matplotlib.pyplot.twinx.html#matplotlib.pyplot.twinx)    | (None) 直接呼叫共用 [example](https://matplotlib.org/gallery/subplots_axes_and_figures/two_scales.html) | 共用x軸              |\n",
    "> | [twiny](https://matplotlib.org/api/_as_gen/matplotlib.pyplot.twiny.html#matplotlib.pyplot.twiny)    | (None) 直接呼叫共用 [example](https://matplotlib.org/gallery/subplots_axes_and_figures/two_scales.html) | 共用y軸              |\n",
    "> | [semilogx](https://matplotlib.org/api/_as_gen/matplotlib.pyplot.semilogx.html)                      | ()                                                                                                | x 軸座標指數化          |\n",
    "> | [semilogy](https://matplotlib.org/api/_as_gen/matplotlib.pyplot.semilogy.html)                      | ()                                                                                                | y 軸座標指數化          |\n",
    "> | [loglog](https://matplotlib.org/api/_as_gen/matplotlib.pyplot.loglog.html)                          | ()                                                                                                | 雙座標指數化            |\n",
    "> | [box](https://matplotlib.org/api/_as_gen/matplotlib.pyplot.box.html)                                | (bool-True)                                                                                       | 外框線顯示             |\n",
    "> | [grid](https://matplotlib.org/api/_as_gen/matplotlib.pyplot.grid.html)                              | (bool-False, which('major', 'minor', 'both'), axis('both', 'x', 'y'))                             | 格線顯示              |\n",
    "> | [spines](https://matplotlib.org/3.1.1/api/spines_api.html)                                          | ax.spines['left', 'right', 'bottom', 'top'].set...                                                | 框線設定 可以畫出軸        |\n",
    "> | _圖例_                                                                                                | ---                                                                                               | ---               |\n",
    "> | [figlegend](https://matplotlib.org/api/_as_gen/matplotlib.pyplot.figlegend.html)                    | (label-array(對應圖形), shadow(立體陰影), title(標題), fontsize, loc(位置))                                   | 在圖上畫圖例            |\n",
    "> | [legend](https://matplotlib.org/api/_as_gen/matplotlib.pyplot.legend.html)                          | (label-array(對應圖形), shadow(立體陰影), title(標題), fontsize, loc(位置))                                   | 在子圖上畫圖例           |\n",
    "\n",
    "spines\n"
   ]
  },
  {
   "cell_type": "markdown",
   "metadata": {},
   "source": [
    "### [_matplotlib.lines.Line2D  圖形設定_](https://matplotlib.org/api/_as_gen/matplotlib.lines.Line2D.html#matplotlib.lines.Line2D)\n",
    "\n",
    "-   依照不同的圖形風格, 有不同的參數可設定！\n",
    "-   列出常用：\n",
    "\n",
    "> | Line2D                                                                                                                     | value                                                            | description |\n",
    "> | -------------------------------------------------------------------------------------------------------------------------- | ---------------------------------------------------------------- | ----------- |\n",
    "> | [alpha](https://matplotlib.org/api/_as_gen/matplotlib.artist.Artist.set_alpha.html#matplotlib.artist.Artist.set_alpha)     | float(0~1)                                                       | 透明度(%)      |\n",
    "> | animated                                                                                                                   | bool                                                             | 動畫          |\n",
    "> | antialiased`(aa)`                                                                                                          | bool                                                             | 抗鋸齒渲染       |\n",
    "> | [color`(c)`](https://matplotlib.org/api/_as_gen/matplotlib.lines.Line2D.html#matplotlib.lines.Line2D.set_color)            | '0~1'(詼諧), '#XXXXXX'(色碼)                                         | 顏色          |\n",
    "> | [linestyle`(ls)`](https://matplotlib.org/api/_as_gen/matplotlib.lines.Line2D.html#matplotlib.lines.Line2D.set_linestyle)   | 精確定義(n起始點, (on,off,on,off)2x個), 簡寫{'-', ':', '--', '-.', 'None'} | 線條風格        |\n",
    "> | [linewidth`(lw)`](https://matplotlib.org/api/_as_gen/matplotlib.lines.Line2D.html#matplotlib.lines.Line2D.set_linewidth)   | num                                                              | 線寬          |\n",
    "> | [marker](https://matplotlib.org/api/markers_api.html?highlight=marker#module-matplotlib.markers)                           | {unfilled, filled, mathtext(LaTeX)}參考圖片                          | 標記風格        |\n",
    "> | [markersize`(ms)`](https://matplotlib.org/api/_as_gen/matplotlib.lines.Line2D.html#matplotlib.lines.Line2D.set_markersize) | num                                                              | 標記大小        |\n",
    "> | markeredgecolor`(mec)`                                                                                                     | color                                                            | 標記邊緣顏色      |\n",
    "> | markeredgewidth`(mew)`                                                                                                     | num                                                              | 標記邊緣寬度      |\n",
    "> | markerfacecolor`(mfc)`                                                                                                     | color                                                            | 標記中心顏色      |\n",
    "> | edgecolor`(ec)`                                                                                                            | color                                                            | 邊緣顏色        |\n",
    "> | facecolor`(ec)`                                                                                                            | color                                                            | 中心顏色        |\n",
    "> | [drawstyle`(ds)`](https://matplotlib.org/api/_as_gen/matplotlib.lines.Line2D.html#matplotlib.lines.Line2D.set_drawstyle)   | {'default'(直線), 'steps', 'steps-pre', 'steps-mid', 'steps-post'} | 矩形連接方式      |\n",
    "> | [zorder](https://matplotlib.org/api/_as_gen/matplotlib.artist.Artist.set_zorder.html#matplotlib.artist.Artist.set_zorder)  | num                                                              | Z-order圖層   |\n",
    "\n",
    "\n",
    "###[ _fontdict 字體＆圖形設定_](https://matplotlib.org/users/text_props.html)\n",
    "\n",
    "> | fontdict            | value                                                      | description  |\n",
    "> | ------------------- | ---------------------------------------------------------- | ------------ |\n",
    "> | fontsize            | num                                                        | 字體大小         |\n",
    "> | fontweight          | num                                                        | 字體粗細         |\n",
    "> | rotation            | num                                                        | 文字角度(degree) |\n",
    "> | verticalalignment   | {'center', 'top', 'bottom', 'baseline', 'center_baseline'} | 垂直對齊         |\n",
    "> | horizontalalignment | {'center', 'right', 'left'}                                | 水平對齊         |\n",
    "\n",
    "#### [_line-style_](https://matplotlib.org/3.1.1/gallery/lines_bars_and_markers/linestyles.html)\n",
    "\n",
    "> ![](./linestyle.webp)\n",
    ">\n",
    "#### [_marker_](https://matplotlib.org/gallery/lines_bars_and_markers/marker_reference.html?highlight=fontdict)\n",
    ">\n",
    "> ![](./marker_reference_001.png)\n",
    "> ![](./marker_reference_002.png)\n",
    "> ![](./marker_reference_003.webp)\n",
    ">\n",
    "#### [$LaTeX$](https://matplotlib.org/tutorials/text/mathtext.html) --- [_LaTeX字典_](https://bcc16.ncu.edu.tw/7/latex/math_tex/)\n",
    ">\n",
    "> 一般字串 : `' string '`\n",
    ">\n",
    "> LaTeX字串 : `r'$ string $'`\n",
    ">\n",
    "#### _loc code位置編碼_\n",
    ">\n",
    "> 適用legend()\n",
    ">\n",
    "> | Location String | Location Code |\n",
    "> | --------------- | ------------- |\n",
    "> | 'best'          | 0             |\n",
    "> | 'upper right'   | 1             |\n",
    "> | 'upper left'    | 2             |\n",
    "> | 'lower left'    | 3             |\n",
    "> | 'lower right'   | 4             |\n",
    "> | 'right'         | 5             |\n",
    "> | 'center left'   | 6             |\n",
    "> | 'center right'  | 7             |\n",
    "> | 'lower center'  | 8             |\n",
    "> | 'upper center'  | 9             |\n",
    "> | 'center'        | 10            |\n"
   ]
  },
  {
   "cell_type": "markdown",
   "metadata": {},
   "source": [
    "# DEMO:"
   ]
  },
  {
   "cell_type": "code",
   "execution_count": 3,
   "metadata": {},
   "outputs": [
    {
     "data": {
      "text/plain": [
       "<matplotlib.legend.Legend at 0x7f359abe5080>"
      ]
     },
     "execution_count": 3,
     "metadata": {},
     "output_type": "execute_result"
    },
    {
     "data": {
      "image/png": "[encoded data removed]",
      "text/plain": [
       "<Figure size 1080x720 with 1 Axes>"
      ]
     },
     "metadata": {
      "needs_background": "light"
     },
     "output_type": "display_data"
    }
   ],
   "source": [
    "x = np.linspace(0, 1.37, 20)\n",
    "plt.figure(figsize=(15, 10))\n",
    "# 資料畫圖\n",
    "plt.plot(x, x, ':', markersize=15, label='linear')\n",
    "plt.plot(x, x**2, '--', label='quadratic')\n",
    "plt.plot(x, x**3, '-.', label='cubic')\n",
    "'''內建畫圖'''\n",
    "# plt.hlines(1.2, 0, 1) # 水平線\n",
    "# plt.vlines(1.2, 0.5, 1) # 垂直線\n",
    "# plt.axhline(0, 0, 0.9) # 水平線%\n",
    "# plt.axvline(1, 0, 0.5) # 垂直線%\n",
    "# plt.axhspan(0, 0.6, 0.2, 0.5, color='#ffff55') # 矩形\n",
    "# plt.axvspan(0.5, 0.6, 0.4, 0.7, alpha=0.4) # 矩形\n",
    "# plt.fill_between(x, x**2, x**3, alpha=0.3, color='#ffff55')\n",
    "# plt.fill_betweenx(np.linspace(0, 1, 100), 0, 0.4, alpha=0.25, color='#88ff55')\n",
    "# plt.figtext(0.3, 0.3, 'Pool', fontsize=30) # 文字\n",
    "plt.text(0.6, 2, r'$\\alpha > \\beta$', fontsize=30, c='#ff5500') # 文字\n",
    "'''標題設定'''\n",
    "plt.xlabel('x 標題', fontsize=25)\n",
    "plt.ylabel('y 標題', fontsize=25, rotation=15)\n",
    "plt.title('大標題', fontsize=38, fontweight=750, loc='center')\n",
    "'''畫圖範圍由以下(範圍＆刻度)決定(聯集)'''\n",
    "# plt.xlim(-0.1, 1.5)\n",
    "# plt.ylim(-0.2, 5)\n",
    "plt.axis((-0.1, 1.5, -0.2, 3)) # 可以取代上面兩行！\n",
    "plt.xticks(np.linspace(0, 1.5, 6), fontsize=14) # x刻度顯示\n",
    "plt.yticks([0, 1, 2, 3], ['零', '壹', '貳', '參'], fontsize=20, rotation=15) # y刻度顯示\n",
    "'''格線'''\n",
    "# plt.box(0)\n",
    "plt.grid(color='r', linestyle=':', linewidth=1)\n",
    "'''座標log轉換'''\n",
    "# plt.semilogx()\n",
    "# plt.semilogy()\n",
    "# plt.loglog()\n",
    "'''圖例'''\n",
    "plt.legend(title='我在這！', loc=0, shadow=True, fontsize='x-large')\n",
    "# plt.show() # Jupyter中可省略"
   ]
  },
  {
   "cell_type": "markdown",
   "metadata": {},
   "source": [
    "# Colormap:\n",
    "* 兩者都能呼叫:\n",
    "* matplotlib.cm\n",
    "* matplotlib.pyplot.cm    "
   ]
  },
  {
   "cell_type": "code",
   "execution_count": 4,
   "metadata": {},
   "outputs": [
    {
     "data": {
      "text/plain": [
       "<matplotlib.colors.LinearSegmentedColormap at 0x7f35ac71d710>"
      ]
     },
     "execution_count": 4,
     "metadata": {},
     "output_type": "execute_result"
    }
   ],
   "source": [
    "plt.cm.Blues"
   ]
  },
  {
   "cell_type": "code",
   "execution_count": 5,
   "metadata": {},
   "outputs": [],
   "source": [
    "# 創建 color map\n",
    "n = 5\n",
    "c = plt.cm.get_cmap('Blues', n)"
   ]
  },
  {
   "cell_type": "code",
   "execution_count": 6,
   "metadata": {},
   "outputs": [
    {
     "name": "stdout",
     "output_type": "stream",
     "text": [
      "(0.9686274509803922, 0.984313725490196, 1.0, 1.0)\n",
      "(0.7764705882352941, 0.8588235294117647, 0.9372549019607843, 1.0)\n",
      "(0.4196078431372549, 0.6823529411764706, 0.8392156862745098, 1.0)\n",
      "(0.12941176470588237, 0.44313725490196076, 0.7098039215686275, 1.0)\n",
      "(0.03137254901960784, 0.18823529411764706, 0.4196078431372549, 1.0)\n",
      "(0.03137254901960784, 0.18823529411764706, 0.4196078431372549, 1.0)\n"
     ]
    }
   ],
   "source": [
    "for i in np.linspace(0, 1, n):\n",
    "    print(c(i))\n",
    "print(c(1.2)) # 大於 1 的小數 == 輸入 1.0"
   ]
  },
  {
   "cell_type": "code",
   "execution_count": 7,
   "metadata": {},
   "outputs": [
    {
     "name": "stdout",
     "output_type": "stream",
     "text": [
      "(0.9686274509803922, 0.984313725490196, 1.0, 1.0)\n",
      "(0.7764705882352941, 0.8588235294117647, 0.9372549019607843, 1.0)\n",
      "(0.4196078431372549, 0.6823529411764706, 0.8392156862745098, 1.0)\n",
      "(0.12941176470588237, 0.44313725490196076, 0.7098039215686275, 1.0)\n",
      "(0.03137254901960784, 0.18823529411764706, 0.4196078431372549, 1.0)\n",
      "(0.03137254901960784, 0.18823529411764706, 0.4196078431372549, 1.0)\n"
     ]
    }
   ],
   "source": [
    "for i in range(n):\n",
    "    print(c(i))\n",
    "print(c(n)) # 大於 n 的整數 == 輸入 n"
   ]
  },
  {
   "cell_type": "code",
   "execution_count": 8,
   "metadata": {},
   "outputs": [
    {
     "data": {
      "text/plain": [
       "False"
      ]
     },
     "execution_count": 8,
     "metadata": {},
     "output_type": "execute_result"
    }
   ],
   "source": [
    "# 注意輸入的是int float 不同\n",
    "c(1.) == c(1)"
   ]
  },
  {
   "cell_type": "markdown",
   "metadata": {},
   "source": [
    "### `plt.cm.`colorstyle(int 0~ 255, float 0.0~1.0)"
   ]
  },
  {
   "cell_type": "code",
   "execution_count": 9,
   "metadata": {},
   "outputs": [
    {
     "name": "stdout",
     "output_type": "stream",
     "text": [
      "0: (0.9686274509803922, 0.984313725490196, 1.0, 1.0)\n",
      "51: (0.8141176470588235, 0.883921568627451, 0.9498039215686275, 1.0)\n",
      "102: (0.5796078431372549, 0.7701960784313725, 0.8737254901960784, 1.0)\n",
      "153: (0.2909803921568628, 0.5945098039215686, 0.7890196078431373, 1.0)\n",
      "204: (0.09019607843137256, 0.39294117647058824, 0.6705882352941177, 1.0)\n",
      "255: (0.03137254901960784, 0.18823529411764706, 0.4196078431372549, 1.0)\n",
      "256: (0.03137254901960784, 0.18823529411764706, 0.4196078431372549, 1.0)\n"
     ]
    }
   ],
   "source": [
    "# 直接使用 int 範圍(0~255)\n",
    "for i in range(0, 256, 51):\n",
    "    print(f'{i}:', plt.cm.Blues(i))\n",
    "print('256:', plt.cm.Blues(256))"
   ]
  },
  {
   "cell_type": "code",
   "execution_count": 10,
   "metadata": {},
   "outputs": [
    {
     "name": "stdout",
     "output_type": "stream",
     "text": [
      "0.0: (0.9686274509803922, 0.984313725490196, 1.0, 1.0)\n",
      "0.2: (0.8141176470588235, 0.883921568627451, 0.9498039215686275, 1.0)\n",
      "0.4: (0.5796078431372549, 0.7701960784313725, 0.8737254901960784, 1.0)\n",
      "0.6000000000000001: (0.2909803921568628, 0.5945098039215686, 0.7890196078431373, 1.0)\n",
      "0.8: (0.09019607843137256, 0.39294117647058824, 0.6705882352941177, 1.0)\n",
      "1.0: (0.03137254901960784, 0.18823529411764706, 0.4196078431372549, 1.0)\n",
      "1.2: (0.03137254901960784, 0.18823529411764706, 0.4196078431372549, 1.0)\n"
     ]
    }
   ],
   "source": [
    "# 直接使用 float 範圍(0.0~1.0)\n",
    "for i in np.linspace(0, 1, 6):\n",
    "    print(f'{i}:', plt.cm.Blues(i))\n",
    "print('1.2:', plt.cm.Blues(1.2))"
   ]
  },
  {
   "cell_type": "markdown",
   "metadata": {},
   "source": [
    "## [matplotlib.patches 補丁](https://matplotlib.org/3.1.1/api/patches_api.html)\n",
    "* 圖形的設定參數\n",
    "* 不同種類的圖形使用不同參數來這裡找"
   ]
  },
  {
   "cell_type": "markdown",
   "metadata": {},
   "source": [
    "### pie 餅圖:\n",
    ">```python\n",
    "labels = 'Frogs', 'Hogs', 'Dogs', 'Logs'\n",
    "sizes = [15, 30, 45, 10]\n",
    "explode = (0, 0.15, 0, 0)  # only \"explode\" the 2nd slice (i.e. 'Hogs')\n",
    "plt.pie(sizes, explode=explode, labels=labels, autopct='%1.1f%%', shadow=True, startangle=90)\n",
    "plt.axis('equal')  # Equal aspect ratio ensures that pie is drawn as a circle.\n",
    "plt.legend()```\n",
    "\n",
    "### bar 直條圖:\n",
    ">```python\n",
    "menMeans = (20, 35, 30, 35, 27)\n",
    "womenMeans = (25, 32, 34, 20, 25)\n",
    "menStd = (2, 3, 4, 1, 2)\n",
    "womenStd = (3, 5, 2, 3, 3)\n",
    "ind = np.arange(5)    # the x locations for the groups\n",
    "width = 0.35       # the width of the bars: can also be len(x) sequence\n",
    "plt.bar(ind, menMeans, width, yerr=menStd)\n",
    "plt.bar(ind, womenMeans, width, bottom=menMeans, yerr=womenStd)```\n",
    "\n",
    "### hist 直方圖:\n",
    ">```python\n",
    "x = 100 + 15 * np.random.randn(10000)\n",
    "n, bins, patches = plt.hist(x, 50, density=True, facecolor='g', alpha=0.75)```\n",
    "\n",
    "### hist2d 二元直方圖\n",
    ">```python\n",
    "x = 100 + 10 * np.random.randn(10000)\n",
    "y = 80 + 25 * np.random.randn(10000)\n",
    "arrayh = plt.hist2d(x, y, 30, facecolor='g', alpha=0.55)```\n",
    "\n",
    "### hexbin 六角直方圖\n",
    ">```python\n",
    "x = 100 + 10 * np.random.randn(10000)\n",
    "y = 80 + 25 * np.random.randn(10000)\n",
    "plt.hexbin(x, y, gridsize=(30, 30))```\n",
    "\n",
    "### step 階梯圖\n",
    ">```python\n",
    "x = np.arange(14)\n",
    "y = np.sin(x / 2)\n",
    "plt.step(x, y + 2, label='pre (default)')\n",
    "plt.plot(x, y + 2, 'C0o', alpha=0.5)\n",
    "plt.step(x, y + 1, where='mid', label='mid')\n",
    "plt.plot(x, y + 1, 'C1o', alpha=0.5)\n",
    "plt.step(x, y, where='post', label='post')\n",
    "plt.plot(x, y, 'C2o', alpha=0.5)\n",
    "plt.legend(title='Parameter where:')```\n",
    "\n",
    "### contour 等高線圖\n",
    ">```python\n",
    "delta = 0.025\n",
    "x = np.arange(-3.0, 3.0, delta)\n",
    "y = np.arange(-2.0, 2.0, delta)\n",
    "X, Y = np.meshgrid(x, y)\n",
    "Z1 = np.exp(-X**2 - Y**2)\n",
    "Z2 = np.exp(-(X - 1)**2 - (Y - 1)**2)\n",
    "Z = (Z1 - Z2) * 2\n",
    "fig, ax = plt.subplots()\n",
    "CS = ax.contour(X, Y, Z)\n",
    "ax.clabel(CS, inline=1, fontsize=10) # 文字```"
   ]
  },
  {
   "cell_type": "code",
   "execution_count": null,
   "metadata": {},
   "outputs": [],
   "source": []
  }
 ],
 "metadata": {
  "kernelspec": {
   "display_name": "Python 3",
   "language": "python",
   "name": "python3"
  },
  "language_info": {
   "codemirror_mode": {
    "name": "ipython",
    "version": 3
   },
   "file_extension": ".py",
   "mimetype": "text/x-python",
   "name": "python",
   "nbconvert_exporter": "python",
   "pygments_lexer": "ipython3",
   "version": "3.7.3"
  }
 },
 "nbformat": 4,
 "nbformat_minor": 2
}
