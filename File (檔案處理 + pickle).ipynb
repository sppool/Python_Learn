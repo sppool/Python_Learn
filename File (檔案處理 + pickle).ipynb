{
 "cells": [
  {
   "cell_type": "code",
   "execution_count": 1,
   "metadata": {},
   "outputs": [],
   "source": [
    "import sys\n",
    "import os"
   ]
  },
  {
   "cell_type": "markdown",
   "metadata": {},
   "source": [
    "### open('file_name', mode)\n",
    "\n",
    "|Character|Meaning|\n",
    "|---|---|\n",
    "|'r'|讀 open for reading (default)|\n",
    "|'w'|寫 open for writing, truncating the file first|\n",
    "|'x'|新寫 open for exclusive creation, failing if the file already exists|\n",
    "|'a'|追加 open for writing, appending to the end of the file if it exists|\n",
    "|'b'|二進位 binary mode|\n",
    "|'t'|字串 text mode (default)|\n",
    "|'+'|open a disk file for updating (reading and writing|"
   ]
  },
  {
   "cell_type": "code",
   "execution_count": 2,
   "metadata": {},
   "outputs": [],
   "source": [
    "file = open('test.txt', 'w')\n",
    "file.write('A----' * 5 + '\\n')\n",
    "file.write('B----' * 4 + '\\n')\n",
    "file.write('C----' * 3 + '\\n')\n",
    "file.close()"
   ]
  },
  {
   "cell_type": "code",
   "execution_count": 3,
   "metadata": {},
   "outputs": [],
   "source": [
    "file = open('test.txt', 'r')\n",
    "d1 = file.read(5 * 3) # 一次讀取全部！ 引數可以選擇單位(bytes or char)\n",
    "d2 = file.readline() # 2讀取到的地方會記憶 用不同讀取函數也不回從來\n",
    "d3 = file.readlines() # 每一行的列表\n",
    "file.close()"
   ]
  },
  {
   "cell_type": "code",
   "execution_count": 4,
   "metadata": {},
   "outputs": [
    {
     "data": {
      "text/plain": [
       "'A----A----A----'"
      ]
     },
     "execution_count": 4,
     "metadata": {},
     "output_type": "execute_result"
    }
   ],
   "source": [
    "d1 # 20字元"
   ]
  },
  {
   "cell_type": "code",
   "execution_count": 5,
   "metadata": {},
   "outputs": [
    {
     "data": {
      "text/plain": [
       "'A----A----\\n'"
      ]
     },
     "execution_count": 5,
     "metadata": {},
     "output_type": "execute_result"
    }
   ],
   "source": [
    "d2 # 讀取位置整一行"
   ]
  },
  {
   "cell_type": "code",
   "execution_count": 6,
   "metadata": {},
   "outputs": [
    {
     "data": {
      "text/plain": [
       "['B----B----B----B----\\n', 'C----C----C----\\n']"
      ]
     },
     "execution_count": 6,
     "metadata": {},
     "output_type": "execute_result"
    }
   ],
   "source": [
    "d3 # 每一行變成列表"
   ]
  },
  {
   "cell_type": "code",
   "execution_count": 7,
   "metadata": {},
   "outputs": [
    {
     "data": {
      "text/plain": [
       "30"
      ]
     },
     "execution_count": 7,
     "metadata": {},
     "output_type": "execute_result"
    }
   ],
   "source": [
    "# bytes\n",
    "file = open('OReilly.png', 'rb')\n",
    "data = file.read(30) # 一次讀取全部！ 引數可以選擇單位(bytes or char)\n",
    "file.close()\n",
    "len(data)"
   ]
  },
  {
   "cell_type": "markdown",
   "metadata": {},
   "source": [
    "### with open() as file: (自動關閉 colse(  ) )\n",
    "#### tell(index) & seek(move index)"
   ]
  },
  {
   "cell_type": "code",
   "execution_count": 8,
   "metadata": {},
   "outputs": [
    {
     "name": "stdout",
     "output_type": "stream",
     "text": [
      "25\n"
     ]
    },
    {
     "data": {
      "text/plain": [
       "'\\nB----B----B----B---'"
      ]
     },
     "execution_count": 8,
     "metadata": {},
     "output_type": "execute_result"
    }
   ],
   "source": [
    "with open('test.txt', 'r') as file:\n",
    "    file.seek(25) # 移動讀取 index 可以注意到換行符 '\\n'也算在裡面\n",
    "    print(file.tell()) # 顯示現在的讀取 index\n",
    "    d = file.read(20)\n",
    "    # file.close() 免了 可以避免忘記關閉\n",
    "os.remove('test.txt')\n",
    "d"
   ]
  },
  {
   "cell_type": "code",
   "execution_count": 9,
   "metadata": {},
   "outputs": [
    {
     "data": {
      "text/plain": [
       "6"
      ]
     },
     "execution_count": 9,
     "metadata": {},
     "output_type": "execute_result"
    }
   ],
   "source": [
    "with open('byte', 'wb') as file:\n",
    "    file.write(bytes([i for i in range(256)]))\n",
    "with open('byte', 'rb') as file:\n",
    "    file.seek(250) # 250~255\n",
    "    d = file.read()\n",
    "    # file.close() 免了 可以避免忘記關閉\n",
    "len(d)"
   ]
  },
  {
   "cell_type": "markdown",
   "metadata": {},
   "source": [
    "### file.seek(ind, origin) origin:  0(直接指定), 1(目前位置), 2(結尾)"
   ]
  },
  {
   "cell_type": "code",
   "execution_count": 10,
   "metadata": {},
   "outputs": [
    {
     "name": "stdout",
     "output_type": "stream",
     "text": [
      "start: 0\n",
      "(64, 0): 64\n",
      "(64, 1): 128\n",
      "(-1, 2): 255  -> 256 + (-1)\n"
     ]
    }
   ],
   "source": [
    "with open('byte', 'rb') as file:\n",
    "    print('start:', file.tell())\n",
    "    file.seek(64, 0)\n",
    "    print('(64, 0):', file.tell())\n",
    "    file.seek(64, 1)\n",
    "    print('(64, 1):', file.tell())\n",
    "    file.seek(-1, 2)\n",
    "    print('(-1, 2):', file.tell(), ' -> 256 + (-1)')\n",
    "os.remove('byte')"
   ]
  },
  {
   "cell_type": "markdown",
   "metadata": {},
   "source": [
    "### CSV"
   ]
  },
  {
   "cell_type": "code",
   "execution_count": 11,
   "metadata": {},
   "outputs": [
    {
     "data": {
      "text/plain": [
       "[['A', 'a', '1'], ['B', 'b', '2'], ['C', 'c', '3']]"
      ]
     },
     "execution_count": 11,
     "metadata": {},
     "output_type": "execute_result"
    }
   ],
   "source": [
    "import csv\n",
    "data = [['A', 'a', 1], ['B', 'b', 2], ['C', 'c', 3]]\n",
    "with open('test.csv', 'w') as file:\n",
    "    csvout = csv.writer(file)\n",
    "    csvout.writerows(data)\n",
    "with open('test.csv', 'r') as file:\n",
    "    layout = csv.reader(file)\n",
    "    lst = [row for row in layout] # layout 要在file還沒close的情況\n",
    "os.remove('test.csv')\n",
    "lst"
   ]
  },
  {
   "cell_type": "markdown",
   "metadata": {},
   "source": [
    "### Pickle\n",
    "#### dumps(製作) & loads(讀取)"
   ]
  },
  {
   "cell_type": "code",
   "execution_count": 12,
   "metadata": {},
   "outputs": [
    {
     "data": {
      "text/plain": [
       "[0, 1, 2, 3, 4, 5, 6, 7, 8, 9, 10, 11, 12, 13, 14]"
      ]
     },
     "execution_count": 12,
     "metadata": {},
     "output_type": "execute_result"
    }
   ],
   "source": [
    "import pickle\n",
    "lst = [i for i in range(15)]\n",
    "pk = pickle.dumps(lst)\n",
    "pickle.loads(pk)"
   ]
  },
  {
   "cell_type": "markdown",
   "metadata": {},
   "source": [
    "#### \"醃製\" class"
   ]
  },
  {
   "cell_type": "code",
   "execution_count": 13,
   "metadata": {},
   "outputs": [
    {
     "data": {
      "text/plain": [
       "'QQ'"
      ]
     },
     "execution_count": 13,
     "metadata": {},
     "output_type": "execute_result"
    }
   ],
   "source": [
    "class pool():\n",
    "    def __str__(self):\n",
    "        return('QQ')\n",
    "p = pool()\n",
    "pk = pickle.dumps(p)\n",
    "bk = pickle.loads(pk)\n",
    "str(bk)"
   ]
  },
  {
   "cell_type": "markdown",
   "metadata": {},
   "source": [
    "#### \"醃製物\" 是binary, 可以寫進檔案在讀出"
   ]
  },
  {
   "cell_type": "code",
   "execution_count": 14,
   "metadata": {},
   "outputs": [
    {
     "data": {
      "text/plain": [
       "'QQ'"
      ]
     },
     "execution_count": 14,
     "metadata": {},
     "output_type": "execute_result"
    }
   ],
   "source": [
    "with open('pickle', 'wb') as file:\n",
    "    file.write(pk)\n",
    "with open('pickle', 'rb') as file:\n",
    "    pk = file.read()\n",
    "os.remove('pickle')\n",
    "bk = pickle.loads(pk)\n",
    "str(bk)"
   ]
  }
 ],
 "metadata": {
  "kernelspec": {
   "display_name": "Python 3",
   "language": "python",
   "name": "python3"
  },
  "language_info": {
   "codemirror_mode": {
    "name": "ipython",
    "version": 3
   },
   "file_extension": ".py",
   "mimetype": "text/x-python",
   "name": "python",
   "nbconvert_exporter": "python",
   "pygments_lexer": "ipython3",
   "version": "3.7.3"
  }
 },
 "nbformat": 4,
 "nbformat_minor": 2
}
